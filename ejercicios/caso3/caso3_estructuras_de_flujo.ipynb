{
 "cells": [
  {
   "cell_type": "markdown",
   "metadata": {},
   "source": [
    "# Ejercicio Informatica III 27 de agosto 2020\n",
    "\n",
    "Participante: Alfonso Cervantes Barragan\n",
    "\n",
    "## Estructuras de Control de Flujo"
   ]
  },
  {
   "cell_type": "markdown",
   "metadata": {},
   "source": [
    "### Que son listas?\n",
    "\n",
    "Una *lista* es una estructura de datos y un tipo de dato en python con características especiales. Lo especial de las listas en Python es que nos permiten almacenar cualquier tipo de valor como enteros, cadenas y hasta otras funciones;"
   ]
  },
  {
   "cell_type": "code",
   "execution_count": 27,
   "metadata": {},
   "outputs": [
    {
     "name": "stdout",
     "output_type": "stream",
     "text": [
      "3\n"
     ]
    }
   ],
   "source": [
    "lista = [1,2,3,4,5]\n",
    "lista1 = [\"Alfonso\",\"Daniel\",\"Maria\", \"pedro\"]\n",
    "lista2 = [1,\"yo soy alto\", 2, \"Maria\"]\n",
    "\n",
    "# acceder a los elementos de una lista\n",
    "print(lista[2])"
   ]
  },
  {
   "cell_type": "markdown",
   "metadata": {},
   "source": [
    "### Introducción\n",
    "\n",
    "Una estructura de control, es un bloque de código que permite agrupar instrucciones de manera controlada. En este capítulo, hablaremos sobre dos estructuras de control:\n",
    "\n",
    "    Estructuras de control condicionales\n",
    "    Estructuras de control iterativas\n"
   ]
  },
  {
   "cell_type": "markdown",
   "metadata": {},
   "source": [
    "### Identación\n",
    "\n",
    "Para hablar de estructuras de control de flujo en Python, es imprescindible primero, hablar de identación.   \n",
    "\n",
    "¿Qué es la identación? En un lenguaje informático, la identación es lo que la sangría al lenguaje humano escrito (a nivel formal). Así como para el lenguaje formal, cuando uno redacta una carta, debe respetar ciertas sangrías, los lenguajes informáticos, requieren una identación.   \n",
    "\n",
    "No todos los lenguajes de programación, necesitan de una identación, aunque sí, se estila implementarla, a fin de otorgar mayor legibilidad al código fuente. Pero en el caso de Python, la identación es obligatoria, ya que de ella, dependerá su estructura."
   ]
  },
  {
   "cell_type": "markdown",
   "metadata": {},
   "source": [
    "### Estructuras de control iterativas\n",
    "\n",
    "las iterativas (también llamadascíclicas o bucles), nos permiten ejecutar un mismo código, de manera repetida, mientras se cumpla una condición.\n",
    "\n",
    "En Python se dispone de dos estructuras cíclicas:\n",
    "\n",
    "        El bucle *while*\n",
    "\n",
    "        El bucle *for*\n",
    "\n",
    "Miremos en este momento sólo el bucle *for*"
   ]
  },
  {
   "cell_type": "markdown",
   "metadata": {},
   "source": [
    "### Ejercicio\n",
    "\n",
    "Imprima los elementos de la lista denominada *lista1* \n",
    "\n",
    "#### Resultado"
   ]
  },
  {
   "cell_type": "code",
   "execution_count": 3,
   "metadata": {},
   "outputs": [
    {
     "name": "stdout",
     "output_type": "stream",
     "text": [
      "Alfonso\n",
      "mi lista\n",
      "Daniel\n",
      "mi lista\n",
      "Maria\n",
      "mi lista\n",
      "pedro\n",
      "mi lista\n",
      "Fin\n"
     ]
    }
   ],
   "source": [
    "for item in lista1:\n",
    "    print(item)\n",
    "    print(\"mi lista\")\n",
    "print(\"Fin\")"
   ]
  },
  {
   "cell_type": "markdown",
   "metadata": {},
   "source": [
    "## Ejercicio\n",
    "\n",
    "Cual es la suma de los primeros 5 números naturales?\n",
    "\n",
    "### Respuesta"
   ]
  },
  {
   "cell_type": "code",
   "execution_count": 28,
   "metadata": {
    "scrolled": true
   },
   "outputs": [
    {
     "name": "stdout",
     "output_type": "stream",
     "text": [
      "15\n"
     ]
    }
   ],
   "source": [
    "var_sum = 0\n",
    "for numero in lista:\n",
    "    var_sum = var_sum + numero\n",
    "\n",
    "print(var_sum)"
   ]
  },
  {
   "cell_type": "markdown",
   "metadata": {},
   "source": [
    "### Ejercicio\n",
    "\n",
    "Escribir un programa que pregunte por la edad de una persona y muestre por pantalla todos los años que ha cumplido (desde 1 hasta su edad).\n",
    "\n",
    "#### Respuesta\n",
    "\n"
   ]
  },
  {
   "cell_type": "code",
   "execution_count": 29,
   "metadata": {},
   "outputs": [
    {
     "name": "stdout",
     "output_type": "stream",
     "text": [
      "¿Cuántos años tienes? 2\n",
      "Has cumplido 1 años\n",
      "Has cumplido 2 años\n"
     ]
    }
   ],
   "source": [
    "age = int(input(\"¿Cuántos años tienes? \"))\n",
    "for i in range(age):\n",
    "    print(\"Has cumplido \" + str(i+1) + \" años\")"
   ]
  },
  {
   "cell_type": "markdown",
   "metadata": {},
   "source": [
    "### Ejercicio\n",
    "\n",
    "Escribir un programa que pregunte al usuario una cantidad a invertir, el interés anual y el número de años, y muestre por pantalla el capital obtenido en la inversión cada año que dura la inversión.\n",
    "\n",
    "Indique el interés de la inversión en porcentajes. Por ejemplo: 30 sin el signo de porcentaje.\n",
    "\n",
    "#### Respuesta"
   ]
  },
  {
   "cell_type": "code",
   "execution_count": 2,
   "metadata": {},
   "outputs": [
    {
     "name": "stdout",
     "output_type": "stream",
     "text": [
      "¿Cantidad a invertir? 3000\n",
      "¿Interés porcentual anual? 20\n",
      "¿Años?2\n",
      "Capital tras 1 años: 3600.0\n",
      "Capital tras 2 años: 4320.0\n"
     ]
    }
   ],
   "source": [
    "dinero = float(input(\"¿Cantidad a invertir? \"))\n",
    "interes = float(input(\"¿Interés porcentual anual? \"))\n",
    "tiempo = int(input(\"¿Años?\"))\n",
    "for i in range(tiempo):\n",
    "    dinero *= 1 + interes / 100 \n",
    "    print(\"Capital tras \" + str(i+1) + \" años: \" + str(round(dinero, 2)))"
   ]
  },
  {
   "cell_type": "markdown",
   "metadata": {},
   "source": [
    "### ESTRUCTURAS DE CONTROL DE FLUJO CONDICIONALES\n",
    "\n",
    "Las estructuras de control condicionales son aquellas que permiten evaluar si\n",
    "una o más condiciones se cumplen, para decir qué acción ejecutar.\n",
    "\n",
    "Las condiciones se evalúan como *verdaderas o falsas*. O la condición se\n",
    "cumple (la condición es verdadera), o la condición no se cumple (la condición\n",
    "es falsa).\n",
    "\n",
    "Las estructuras de control de flujo condicionales, se definen mediante el uso de trespalabras claves reservadas, del lenguaje: *if* (si), *elif* (sino, si) y *else* (sino).\n"
   ]
  },
  {
   "cell_type": "markdown",
   "metadata": {},
   "source": [
    "### Ejercicio\n",
    "\n",
    "Si la compra es mayor a 100 000 pesos, obtengo un descuento del 10%, sino pago el valor total.\n",
    "\n",
    "#### Respuesta"
   ]
  },
  {
   "cell_type": "code",
   "execution_count": 5,
   "metadata": {},
   "outputs": [
    {
     "name": "stdout",
     "output_type": "stream",
     "text": [
      "Debo pagar con descuento  180000.0\n"
     ]
    }
   ],
   "source": [
    "valor_compra = 200000\n",
    "if valor_compra > 100000:            # si se cumple la condición\n",
    "    print(\"Debo pagar con descuento \", valor_compra*0.9)\n",
    "else:                                # si no se cumple.\n",
    "    print(\"Debo pagar \", valor_compra)"
   ]
  },
  {
   "cell_type": "code",
   "execution_count": null,
   "metadata": {},
   "outputs": [],
   "source": []
  },
  {
   "cell_type": "markdown",
   "metadata": {},
   "source": [
    "### Ejercicio\n",
    "Si la compra en el exito es menor a 100000, no se obtiene descuento. Si esta entre 100000 y 200000, incluyendo el 200000 se obtiene un 10% de descuento, y si es mayor a 200000, se obtiene un 20%. \n",
    "\n",
    "Cuál es el valor a pagar?\n",
    "\n",
    "Escriba un código en python con una variable de entrada valor de la compra. Este debe imprimir el valor a pagar y el descuento realizado dependiendo del valor de la compra.\n",
    "\n",
    "#### Respuesta"
   ]
  },
  {
   "cell_type": "code",
   "execution_count": 8,
   "metadata": {},
   "outputs": [
    {
     "name": "stdout",
     "output_type": "stream",
     "text": [
      "El valor de la compra es  168000.0\n",
      "El descuento realizado es de  42000.0\n"
     ]
    }
   ],
   "source": [
    "valor_compra = 210000\n",
    "if valor_compra < 100000:\n",
    "    print(\"El valor de la compra es \", valor_compra)\n",
    "    print(\"El descuento realizado es \",0)\n",
    "elif (valor_compra >= 100000) and (valor_compra < 200000):\n",
    "    print(\"El valor de la compra es \", valor_compra*0.9)\n",
    "    print(\"El descuento realizado es de \", valor_compra*0.1)\n",
    "else:\n",
    "    print(\"El valor de la compra es \", valor_compra*0.8)\n",
    "    print(\"El descuento realizado es de \", valor_compra*0.2)\n",
    "    "
   ]
  },
  {
   "cell_type": "markdown",
   "metadata": {},
   "source": [
    "## Funciones\n",
    "\n",
    "*Que son funciones?*\n",
    "\n",
    "Las funciones son fragmentos de código que se pueden ejecutar múltiples veces, además pueden recibir y devolver información para comunicarse con el proceso principal.\n",
    "\n",
    "*Como se define una función en Python?*\n",
    "\n",
    "Se definen con la palabra reservada *def*, el nombre de la función y unos paréntesis, que también se utilizan para hacer la llamada. Además se colocan doble puntos al final.\n",
    "\n",
    "En el caso de tener algun parametro de entrada, estos van en el parentesis separados por comas.\n",
    "\n",
    "### Ejercicio\n",
    "\n",
    "Crear una función de nombre *saludar* que cada vez que es llamada imprime el texto \"Hola buenos diás, como has estado?\". \n",
    "\n",
    "#### Respuesta"
   ]
  },
  {
   "cell_type": "code",
   "execution_count": 12,
   "metadata": {},
   "outputs": [
    {
     "name": "stdout",
     "output_type": "stream",
     "text": [
      "Hola, buenos diás, como has estado?\n"
     ]
    }
   ],
   "source": [
    "def saludar():\n",
    "    print(\"Hola, buenos diás, como has estado?\")"
   ]
  },
  {
   "cell_type": "code",
   "execution_count": 13,
   "metadata": {},
   "outputs": [
    {
     "name": "stdout",
     "output_type": "stream",
     "text": [
      "Hola, buenos diás, como has estado?\n"
     ]
    }
   ],
   "source": [
    "saludar()"
   ]
  },
  {
   "cell_type": "markdown",
   "metadata": {},
   "source": [
    "### Ejercicio\n",
    "\n",
    "Definir una función de nombre *funcompra* que reciba como parametros de entrada el valor de una compra y el porcentaje de descuento e imprima el valor de la compra y del descuento.\n",
    "\n",
    "#### Respuesta"
   ]
  },
  {
   "cell_type": "code",
   "execution_count": 14,
   "metadata": {},
   "outputs": [],
   "source": [
    "def funcompra(valor, porcentaje):\n",
    "    print(\"El valor a pagar es de \", valor*(1-porcentaje))\n",
    "    print(\"El valor del descuento es de \", valor*porcentaje)   "
   ]
  },
  {
   "cell_type": "markdown",
   "metadata": {},
   "source": [
    "### Ejercicio\n",
    "\n",
    "Dada la función anterior, imprima el valor a pagar si el descuento es del 10%.\n",
    "\n",
    "\n",
    "#### Respuesta"
   ]
  },
  {
   "cell_type": "code",
   "execution_count": 15,
   "metadata": {},
   "outputs": [
    {
     "name": "stdout",
     "output_type": "stream",
     "text": [
      "El valor a pagar es de  180000.0\n",
      "El valor del descuento es de  20000.0\n"
     ]
    }
   ],
   "source": [
    "funcompra(200000, 0.1)"
   ]
  },
  {
   "cell_type": "markdown",
   "metadata": {},
   "source": [
    "### Ejercicio \n",
    "\n",
    "Realiza una función llamada relacion(a, b) que a partir de dos números cumpla lo siguiente:\n",
    "\n",
    "    Si el primer número es mayor que el segundo, debe devolver 1.\n",
    "    Si el primer número es menor que el segundo, debe devolver -1.\n",
    "    Si ambos números son iguales, debe devolver un 0.\n",
    "\n",
    "Comprueba la relación entre los números: '5 y 10', '10 y 5' y '5 y 5'.\n",
    "\n",
    "#### Respuesta"
   ]
  },
  {
   "cell_type": "code",
   "execution_count": null,
   "metadata": {},
   "outputs": [],
   "source": []
  },
  {
   "cell_type": "markdown",
   "metadata": {},
   "source": [
    "### Ejercicio \n",
    "\n",
    "Realiza una función llamada intermedio(a, b) que a partir de dos números, devuelva su punto intermedio. Cuando lo tengas comprueba el punto intermedio entre -12 y 24:\n",
    "\n",
    "#### Respuesta\n",
    "\n"
   ]
  },
  {
   "cell_type": "code",
   "execution_count": null,
   "metadata": {},
   "outputs": [],
   "source": []
  },
  {
   "cell_type": "markdown",
   "metadata": {},
   "source": [
    "### Retornar valores\n",
    "\n",
    "Para comunicarse con el exterior, las funciones pueden devolver valores al proceso principal gracias a la instrucción return.\n",
    "\n",
    "En el momento de devolver un valor, la ejecución de la función finalizará. "
   ]
  },
  {
   "cell_type": "markdown",
   "metadata": {},
   "source": [
    "### Ejercicio\n",
    "\n",
    "En un negocio se ofrece que al comprar dos prendas del mismo modelo, la segunda tendra un descuento del 30%. Escriba un  código en python que para compras de dós artículos por un valor de 100000, 150000 y 200000 cada uno imprima el valor total a pagar.\n",
    "\n",
    "Utilice el comando input para preguntar por el valor de compra del artículo\n",
    "\n",
    "#### Respuesta\n"
   ]
  },
  {
   "cell_type": "code",
   "execution_count": 4,
   "metadata": {},
   "outputs": [],
   "source": [
    "def condescuento(valor, porcentaje):\n",
    "    return valor*(1-porcentaje)"
   ]
  },
  {
   "cell_type": "code",
   "execution_count": 5,
   "metadata": {},
   "outputs": [
    {
     "name": "stdout",
     "output_type": "stream",
     "text": [
      "Cual fue el valor de compra?3333\n",
      "El valor total a pagar es  6332.700000000001\n"
     ]
    }
   ],
   "source": [
    "valor_compra = float(input(\"Cual fue el valor de compra?\"))\n",
    "valor_total = valor_compra + condescuento(valor_compra, 0.1)\n",
    "print(\"El valor total a pagar es \", valor_total)"
   ]
  },
  {
   "cell_type": "markdown",
   "metadata": {},
   "source": [
    "### Ejercicio\n",
    "\n",
    "Imprimir el valor total que se pago un sabado de trasnochon por tres compras realizadas de dos artículos cada uno por un valor de 100000, 150000 y 200000, si aplico la promoción anterior por cada compra. \n",
    "\n",
    "#### Respuesta"
   ]
  },
  {
   "cell_type": "code",
   "execution_count": 22,
   "metadata": {},
   "outputs": [
    {
     "name": "stdout",
     "output_type": "stream",
     "text": [
      "El valor total pagado fue de  855000.0\n"
     ]
    }
   ],
   "source": [
    "valor_total = 0\n",
    "# lista del valor de los artículos en cada tienda\n",
    "valor_articulo = [100000, 150000, 200000]\n",
    "for v_art in valor_articulo:\n",
    "    # valor total = valor_total + valor del artículo + valor del segundo artículo con descuento.\n",
    "    valor_total = valor_total + v_art + condescuento(v_art, 0.1)\n",
    "    \n",
    "print(\"El valor total pagado fue de \", valor_total)"
   ]
  },
  {
   "cell_type": "markdown",
   "metadata": {},
   "source": [
    "### Ejercicio\n",
    "\n",
    "Realiza una función llamada recortar(numero, minimo, maximo) que reciba tres parámetros. El primero es el número a recortar, el segundo es el límite inferior y el tercero el límite superior. La función tendrá que cumplir lo siguiente:\n",
    "\n",
    "    Devolver el límite inferior si el número es menor que éste\n",
    "    Devolver el límite superior si el número es mayor que éste.\n",
    "    Devolver el número sin cambios si no se supera ningún límite.\n",
    "\n",
    "Comprueba el resultado de recortar 15 entre los límites 0 y 10.\n",
    "\n",
    "#### Resultado"
   ]
  },
  {
   "cell_type": "code",
   "execution_count": null,
   "metadata": {},
   "outputs": [],
   "source": []
  },
  {
   "cell_type": "markdown",
   "metadata": {},
   "source": [
    "### Ejercicio\n",
    "\n",
    "Se ha de asignar valores a las siguientes variables: precio, cantidad, descuento e IVA, si el precio es superior a 20, se ha de incrementar el descuento en un 2, si la cantidad es inferior a 100, incrementar descuento en un 1, si la cantidad es inferior a 200 incrementar descuento en un 2, si no incrementar descuento en un 3. se han de realizar los calculos correspondientes para obtener el total, calculando euros descuento, euros iva, etc.\n",
    "\n",
    "#### Respuesta\n",
    "\n"
   ]
  },
  {
   "cell_type": "code",
   "execution_count": 23,
   "metadata": {},
   "outputs": [
    {
     "name": "stdout",
     "output_type": "stream",
     "text": [
      "Precio:  10\n",
      "Cantidad:  500\n",
      "Dto:  4\n",
      "Iva:  21\n",
      "Euros Dto:  0.4\n",
      "Precio con Dto:  9.6\n",
      "Euros Iva:  2.016\n",
      "Precio Final:  11.616\n",
      "Total:  5808.0\n"
     ]
    }
   ],
   "source": [
    "precio = 10\n",
    "cantidad = 500\n",
    "descuento = 1\n",
    "iva = 21\n",
    "\n",
    "# Calcular el precio de un articulo teniendo\n",
    "# en cuenta los parametros de descuento a aplicar\n",
    "if precio > 20:\n",
    "    descuento = descuento + 2\n",
    "if cantidad < 100:\n",
    "    descuento = descuento + 1\n",
    "elif cantidad < 200:\n",
    "    descuento = descuento + 2\n",
    "else:\n",
    "    descuento = descuento + 3\n",
    "\n",
    "euros_descuento = (( precio / 100 ) * descuento )\n",
    "subtotal_precio = precio - euros_descuento\n",
    "euros_iva = (( subtotal_precio / 100 ) * iva)\n",
    "precio_final = subtotal_precio + euros_iva\n",
    "total_factura = precio_final * cantidad\n",
    "\n",
    "print(\"Precio: \",precio)\n",
    "print(\"Cantidad: \",cantidad)\n",
    "print(\"Dto: \",descuento)\n",
    "print(\"Iva: \",iva)\n",
    "print(\"Euros Dto: \",euros_descuento)\n",
    "print(\"Precio con Dto: \",subtotal_precio)\n",
    "print(\"Euros Iva: \",euros_iva)\n",
    "print(\"Precio Final: \",precio_final)\n",
    "print(\"Total: \",total_factura)"
   ]
  },
  {
   "cell_type": "code",
   "execution_count": null,
   "metadata": {},
   "outputs": [],
   "source": []
  },
  {
   "cell_type": "code",
   "execution_count": null,
   "metadata": {},
   "outputs": [],
   "source": []
  }
 ],
 "metadata": {
  "kernelspec": {
   "display_name": "Python 3",
   "language": "python",
   "name": "python3"
  },
  "language_info": {
   "codemirror_mode": {
    "name": "ipython",
    "version": 3
   },
   "file_extension": ".py",
   "mimetype": "text/x-python",
   "name": "python",
   "nbconvert_exporter": "python",
   "pygments_lexer": "ipython3",
   "version": "3.8.3"
  }
 },
 "nbformat": 4,
 "nbformat_minor": 4
}
