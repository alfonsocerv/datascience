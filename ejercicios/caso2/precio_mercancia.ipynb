{
 "cells": [
  {
   "cell_type": "markdown",
   "metadata": {
    "colab_type": "text",
    "id": "OgToGaEn3MO0"
   },
   "source": [
    "# Mercari Price Prediction"
   ]
  },
  {
   "cell_type": "markdown",
   "metadata": {
    "colab_type": "text",
    "id": "GUudYkb33ixz"
   },
   "source": [
    "Mercari es la aplicación de compras impulsada por la comunidad más grande de Japón donde la gente puede vender y comprar una variedad de productos nuevos y usados de diferentes marcas, desde suéteres hasta teléfonos inteligentes. \n",
    "\n",
    "A continuación encontraras una base de datos con información sobre los productos vendidos en la plataforma. \n",
    "\n",
    "### Objetivo: \n",
    "\n",
    "Tu objetivo es realizar un analisis exploratorio de datos (EDA) y si es posible determinar algunas conclusiones sobre las ventas registradas."
   ]
  },
  {
   "cell_type": "markdown",
   "metadata": {},
   "source": [
    "### Base de datos\n",
    "\n",
    "La informacion de los productos vendidos esta disponible mediante un archivo *train100.csv* discriminada con la siguiente información."
   ]
  },
  {
   "cell_type": "markdown",
   "metadata": {},
   "source": [
    "| nombre columna     | significado         |  \n",
    "| ------------------| -------------------- |  \n",
    "| train_id          | id del producto      |  \n",
    "| name               | nombre del producto  |  \n",
    "| item_condition_id  | condiciones en la que esta disponible el producto. Entre más bajo el valor mejor la condición en la que se encuentra|  \n",
    "| category_name  |  Categoria del producto  |  \n",
    "| brand_name | Nombre de la marca |  \n",
    "| shipping   | 1= domicilio lo pago el vendedor, 0=domicilio lo pago el comprador   |  \n",
    "| item_description  | Descripción del producto  |  \n",
    "|  price | Precio por el cual fue vendido el producto   |  "
   ]
  },
  {
   "cell_type": "markdown",
   "metadata": {
    "colab_type": "text",
    "id": "N6rX4zW03-Oh"
   },
   "source": [
    "### Cargando librerias necesarias"
   ]
  },
  {
   "cell_type": "code",
   "execution_count": 4,
   "metadata": {
    "colab": {},
    "colab_type": "code",
    "id": "ey1ilPMXa0rw"
   },
   "outputs": [],
   "source": [
    "import numpy as np\n",
    "import pandas as pd\n",
    "import matplotlib.pyplot as plt\n"
   ]
  },
  {
   "cell_type": "markdown",
   "metadata": {},
   "source": [
    "### Leyendo la base de datos"
   ]
  },
  {
   "cell_type": "code",
   "execution_count": 24,
   "metadata": {
    "colab": {
     "base_uri": "https://localhost:8080/",
     "height": 34
    },
    "colab_type": "code",
    "id": "-xhz31OkbjvM",
    "outputId": "65c401d1-ed0c-437f-f36b-05152642c477",
    "scrolled": true
   },
   "outputs": [
    {
     "data": {
      "text/plain": [
       "(100000, 8)"
      ]
     },
     "execution_count": 24,
     "metadata": {},
     "output_type": "execute_result"
    }
   ],
   "source": []
  },
  {
   "cell_type": "markdown",
   "metadata": {},
   "source": [
    "## ANÁLISIS EXPLORATORIO DE DATOS (EDA)\n",
    "\n",
    "El análisis exploratorio de datos se refiere al proceso crítico de realizar investigaciones iniciales sobre los datos para descubrir patrones, detectar anomalías, probar hipótesis y verificar suposiciones con la ayuda de estadísticas resumidas y representaciones gráficas."
   ]
  },
  {
   "cell_type": "code",
   "execution_count": 25,
   "metadata": {
    "scrolled": true
   },
   "outputs": [
    {
     "data": {
      "text/html": [
       "<div>\n",
       "<style scoped>\n",
       "    .dataframe tbody tr th:only-of-type {\n",
       "        vertical-align: middle;\n",
       "    }\n",
       "\n",
       "    .dataframe tbody tr th {\n",
       "        vertical-align: top;\n",
       "    }\n",
       "\n",
       "    .dataframe thead th {\n",
       "        text-align: right;\n",
       "    }\n",
       "</style>\n",
       "<table border=\"1\" class=\"dataframe\">\n",
       "  <thead>\n",
       "    <tr style=\"text-align: right;\">\n",
       "      <th></th>\n",
       "      <th>train_id</th>\n",
       "      <th>name</th>\n",
       "      <th>item_condition_id</th>\n",
       "      <th>category_name</th>\n",
       "      <th>brand_name</th>\n",
       "      <th>price</th>\n",
       "      <th>shipping</th>\n",
       "      <th>item_description</th>\n",
       "    </tr>\n",
       "  </thead>\n",
       "  <tbody>\n",
       "    <tr>\n",
       "      <th>0</th>\n",
       "      <td>0</td>\n",
       "      <td>MLB Cincinnati Reds T Shirt Size XL</td>\n",
       "      <td>3</td>\n",
       "      <td>Men/Tops/T-shirts</td>\n",
       "      <td>NaN</td>\n",
       "      <td>10.0</td>\n",
       "      <td>1</td>\n",
       "      <td>No description yet</td>\n",
       "    </tr>\n",
       "    <tr>\n",
       "      <th>1</th>\n",
       "      <td>1</td>\n",
       "      <td>Razer BlackWidow Chroma Keyboard</td>\n",
       "      <td>3</td>\n",
       "      <td>Electronics/Computers &amp; Tablets/Components &amp; P...</td>\n",
       "      <td>Razer</td>\n",
       "      <td>52.0</td>\n",
       "      <td>0</td>\n",
       "      <td>This keyboard is in great condition and works ...</td>\n",
       "    </tr>\n",
       "    <tr>\n",
       "      <th>2</th>\n",
       "      <td>2</td>\n",
       "      <td>AVA-VIV Blouse</td>\n",
       "      <td>1</td>\n",
       "      <td>Women/Tops &amp; Blouses/Blouse</td>\n",
       "      <td>Target</td>\n",
       "      <td>10.0</td>\n",
       "      <td>1</td>\n",
       "      <td>Adorable top with a hint of lace and a key hol...</td>\n",
       "    </tr>\n",
       "    <tr>\n",
       "      <th>3</th>\n",
       "      <td>3</td>\n",
       "      <td>Leather Horse Statues</td>\n",
       "      <td>1</td>\n",
       "      <td>Home/Home Décor/Home Décor Accents</td>\n",
       "      <td>NaN</td>\n",
       "      <td>35.0</td>\n",
       "      <td>1</td>\n",
       "      <td>New with tags. Leather horses. Retail for [rm]...</td>\n",
       "    </tr>\n",
       "    <tr>\n",
       "      <th>4</th>\n",
       "      <td>4</td>\n",
       "      <td>24K GOLD plated rose</td>\n",
       "      <td>1</td>\n",
       "      <td>Women/Jewelry/Necklaces</td>\n",
       "      <td>NaN</td>\n",
       "      <td>44.0</td>\n",
       "      <td>0</td>\n",
       "      <td>Complete with certificate of authenticity</td>\n",
       "    </tr>\n",
       "  </tbody>\n",
       "</table>\n",
       "</div>"
      ],
      "text/plain": [
       "   train_id                                 name  item_condition_id  \\\n",
       "0         0  MLB Cincinnati Reds T Shirt Size XL                  3   \n",
       "1         1     Razer BlackWidow Chroma Keyboard                  3   \n",
       "2         2                       AVA-VIV Blouse                  1   \n",
       "3         3                Leather Horse Statues                  1   \n",
       "4         4                 24K GOLD plated rose                  1   \n",
       "\n",
       "                                       category_name brand_name  price  \\\n",
       "0                                  Men/Tops/T-shirts        NaN   10.0   \n",
       "1  Electronics/Computers & Tablets/Components & P...      Razer   52.0   \n",
       "2                        Women/Tops & Blouses/Blouse     Target   10.0   \n",
       "3                 Home/Home Décor/Home Décor Accents        NaN   35.0   \n",
       "4                            Women/Jewelry/Necklaces        NaN   44.0   \n",
       "\n",
       "   shipping                                   item_description  \n",
       "0         1                                 No description yet  \n",
       "1         0  This keyboard is in great condition and works ...  \n",
       "2         1  Adorable top with a hint of lace and a key hol...  \n",
       "3         1  New with tags. Leather horses. Retail for [rm]...  \n",
       "4         0          Complete with certificate of authenticity  "
      ]
     },
     "execution_count": 25,
     "metadata": {},
     "output_type": "execute_result"
    }
   ],
   "source": [
    "data.head()"
   ]
  },
  {
   "cell_type": "markdown",
   "metadata": {},
   "source": [
    "### Ejercicio \n",
    "\n",
    "Muestra sobre la pantalla el resumen general de los datos almacenados en el archivo *ventas.tsv*\n",
    "\n",
    "#### respuesta"
   ]
  },
  {
   "cell_type": "code",
   "execution_count": 21,
   "metadata": {
    "colab": {
     "base_uri": "https://localhost:8080/",
     "height": 238
    },
    "colab_type": "code",
    "id": "YhLg-vFVtyXv",
    "outputId": "b7b9207f-d557-4d50-d918-a8400a17562e"
   },
   "outputs": [
    {
     "name": "stdout",
     "output_type": "stream",
     "text": [
      "<class 'pandas.core.frame.DataFrame'>\n",
      "RangeIndex: 693359 entries, 0 to 693358\n",
      "Data columns (total 7 columns):\n",
      " #   Column             Non-Null Count   Dtype \n",
      "---  ------             --------------   ----- \n",
      " 0   test_id            693359 non-null  int64 \n",
      " 1   name               693359 non-null  object\n",
      " 2   item_condition_id  693359 non-null  int64 \n",
      " 3   category_name      690301 non-null  object\n",
      " 4   brand_name         397834 non-null  object\n",
      " 5   shipping           693359 non-null  int64 \n",
      " 6   item_description   693359 non-null  object\n",
      "dtypes: int64(3), object(4)\n",
      "memory usage: 37.0+ MB\n"
     ]
    }
   ],
   "source": [
    "data.info()"
   ]
  },
  {
   "cell_type": "markdown",
   "metadata": {},
   "source": [
    "### Ejercicio\n",
    "\n",
    "Accede al número de registros de la base de datos e imprimela sobre la pantalla.\n",
    "\n",
    "#### Respuesta"
   ]
  },
  {
   "cell_type": "code",
   "execution_count": 23,
   "metadata": {
    "colab": {
     "base_uri": "https://localhost:8080/",
     "height": 34
    },
    "colab_type": "code",
    "id": "IQFc04l4hOKm",
    "outputId": "ac300038-2dd5-4129-80b9-f1bb620ddbc6"
   },
   "outputs": [
    {
     "name": "stdout",
     "output_type": "stream",
     "text": [
      "La cantidad de registros es de  693359\n"
     ]
    }
   ],
   "source": [
    "print('La cantidad de registros es de ',data.shape[0])"
   ]
  },
  {
   "cell_type": "markdown",
   "metadata": {
    "colab_type": "text",
    "id": "sC4BWl1vhy6M"
   },
   "source": [
    "### Ejercicio\n",
    "\n",
    "Que información podemos extraer sobre los datos obtenidos en la columna *Price*?\n",
    "\n",
    "Por ejemplo algunas medidas estadísticas\n",
    "\n",
    "#### Respuesta"
   ]
  },
  {
   "cell_type": "code",
   "execution_count": 33,
   "metadata": {
    "colab": {
     "base_uri": "https://localhost:8080/",
     "height": 170
    },
    "colab_type": "code",
    "id": "9J9zW8LSh9Gh",
    "outputId": "7ce31747-6d92-4e62-f192-a535beafc411"
   },
   "outputs": [
    {
     "data": {
      "text/plain": [
       "count    1482535.00\n",
       "mean          26.74\n",
       "std           38.59\n",
       "min            0.00\n",
       "25%           10.00\n",
       "50%           17.00\n",
       "75%           29.00\n",
       "max         2009.00\n",
       "Name: price, dtype: float64"
      ]
     },
     "execution_count": 33,
     "metadata": {},
     "output_type": "execute_result"
    }
   ],
   "source": [
    "data['price'].describe()"
   ]
  },
  {
   "cell_type": "markdown",
   "metadata": {},
   "source": [
    "### Ejercicio\n",
    "\n",
    "Muestra las medidas estadísticas con limitado a 3 decimales\n",
    "\n",
    "#### respuesta"
   ]
  },
  {
   "cell_type": "code",
   "execution_count": 34,
   "metadata": {
    "scrolled": false
   },
   "outputs": [
    {
     "data": {
      "text/plain": [
       "count    1482535.000\n",
       "mean          26.738\n",
       "std           38.586\n",
       "min            0.000\n",
       "25%           10.000\n",
       "50%           17.000\n",
       "75%           29.000\n",
       "max         2009.000\n",
       "Name: price, dtype: float64"
      ]
     },
     "execution_count": 34,
     "metadata": {},
     "output_type": "execute_result"
    }
   ],
   "source": [
    "np.round(data[\"price\"].describe(),3)"
   ]
  },
  {
   "cell_type": "markdown",
   "metadata": {},
   "source": [
    "### Ejercicio\n",
    "\n",
    "Como ha sido la distribución de los precios de los artículos vendidos?\n",
    "Haga un histograma que muestre la distribución de artículos vendidos de acuerdo al precio. El histograma debe tener 15 pulgadas de largo y 5 de alto. El eje X nombrelo *precio* con un tamaño de letra de 15px, el eje Y nombrelo *no de artículos con ese precio o frecuencia* con un tamaño de letra de 14px. Ponga un título que indique \"Distribución de artículos según el precio\". Ajuste el número de bins a 50 y límite el rango de precios de 0 a 500.\n",
    "Las columnas deben ser distinguibles.\n",
    "\n",
    "#### Respuesta"
   ]
  },
  {
   "cell_type": "code",
   "execution_count": 41,
   "metadata": {
    "colab": {
     "base_uri": "https://localhost:8080/",
     "height": 364
    },
    "colab_type": "code",
    "id": "OliANKx0umSM",
    "outputId": "012b3b9d-0a48-43a3-f5dc-6e113e61f0f1"
   },
   "outputs": [
    {
     "data": {
      "image/png": "[encoded data removed]",
      "text/plain": [
       "<Figure size 720x360 with 1 Axes>"
      ]
     },
     "metadata": {
      "needs_background": "light"
     },
     "output_type": "display_data"
    }
   ],
   "source": [
    "data['price'].hist(bins=50, figsize=(10,5), edgecolor='white', range=[0,500])\n",
    "plt.xlabel(\"Precio\", fontsize=15)\n",
    "plt.ylabel(\"No. de articulos con ese precio\", fontsize=14)\n",
    "plt.tick_params(labelsize=15)\n",
    "plt.show()\n"
   ]
  },
  {
   "cell_type": "markdown",
   "metadata": {
    "colab_type": "text",
    "id": "5qQMBR3MiMTB"
   },
   "source": [
    "Con base en las estadísticas anteriores, las observaciones son las siguientes:\n",
    "\n",
    "* El ** precio medio ** de los artículos es ** 17 dólares **.\n",
    "* Su ** promedio     ** es de ** 26.738 **.  \n",
    "* La mayoria de artículos tuvieron un precio hasta maximo 200 dólares.\n",
    "* La ** distribución de precios ** de los artículos está muy ** sesgada hacia la derecha **.\n",
    "* El precio representa una variable *numérica* porque puede tomar cualquier valor del conjunto de los reales."
   ]
  },
  {
   "cell_type": "markdown",
   "metadata": {
    "colab_type": "text",
    "id": "MaLCC9W0VriG"
   },
   "source": [
    "### Ejercicio \n",
    "\n",
    "Que información se puede obtener de la columna *Shipping* ?\n",
    "\n",
    "Según definición *Shipping* solo puede tener 2 valores:    \n",
    "\n",
    "1= el envio del artículo lo asume el vendedor.  \n",
    "0= el envio del artículo lo asume el comprador  \n",
    "\n",
    "#### respuesta\n",
    "\n",
    "Shipping es una variable *categorica* de tipo enumerado."
   ]
  },
  {
   "cell_type": "markdown",
   "metadata": {},
   "source": [
    "### Que es una variable categórica?\n",
    "\n",
    "#### Respuesta: \n",
    "Las variables categóricas contienen un número finito de categorías o grupos distintos. Los datos categóricos pueden no tener un orden lógico. Puede adoptar valores numéricos o alfanuméricos.\n",
    "\n",
    "La variable categórica es la que se usa en estadística para asignar una característica o propiedad no-numérica o cualitativa a algún objeto, individuo, entidad, condición o procedimiento. Es posible definir toda clase de variables categóricas de acuerdo a cada necesidad. \n",
    "\n",
    "Ejemplos de variables categóricas son: color, sexo, grupo sanguíneo, estado civil, tipo de material, forma de pago o tipo de cuenta bancaria, y se utilizan mucho cotidianamente.  \n",
    "\n",
    "Sin embargo la misma variable sexo puede ser declarada y almacenada como un número entero si es que a Varón se le asigna 1 y a Hembra se le asigna el valor 2. Es por esta razón que a las variables categóricas se les denomina  a veces de tipo enumerado.  \n",
    "\n",
    "La principal característica de las variables categóricas es que a diferencia de otras variables, como las continuas y las discretas, no es posible hacer aritmética con ellas. Sin embargo se puede hacer estadística con ellas, como se verá más adelante.  \n",
    "\n",
    "\n",
    "### Que es un término alfanumérico?\n",
    "\n",
    "El término alfanumérico abarca todas las letras y números en un conjunto de idiomas determinado, y por extensión, a los números alfanuméricos. Por lo general, los caracteres alfanuméricos son los que comprenden el conjunto combinado de los 26 caracteres alfabéticos, de la A a la Z, y los 10 números arábigos, del 0 al 9."
   ]
  },
  {
   "cell_type": "code",
   "execution_count": 42,
   "metadata": {
    "scrolled": true
   },
   "outputs": [
    {
     "data": {
      "text/html": [
       "<div>\n",
       "<style scoped>\n",
       "    .dataframe tbody tr th:only-of-type {\n",
       "        vertical-align: middle;\n",
       "    }\n",
       "\n",
       "    .dataframe tbody tr th {\n",
       "        vertical-align: top;\n",
       "    }\n",
       "\n",
       "    .dataframe thead th {\n",
       "        text-align: right;\n",
       "    }\n",
       "</style>\n",
       "<table border=\"1\" class=\"dataframe\">\n",
       "  <thead>\n",
       "    <tr style=\"text-align: right;\">\n",
       "      <th></th>\n",
       "      <th>train_id</th>\n",
       "      <th>name</th>\n",
       "      <th>item_condition_id</th>\n",
       "      <th>category_name</th>\n",
       "      <th>brand_name</th>\n",
       "      <th>price</th>\n",
       "      <th>shipping</th>\n",
       "      <th>item_description</th>\n",
       "    </tr>\n",
       "  </thead>\n",
       "  <tbody>\n",
       "    <tr>\n",
       "      <th>0</th>\n",
       "      <td>0</td>\n",
       "      <td>MLB Cincinnati Reds T Shirt Size XL</td>\n",
       "      <td>3</td>\n",
       "      <td>Men/Tops/T-shirts</td>\n",
       "      <td>NaN</td>\n",
       "      <td>10.0</td>\n",
       "      <td>1</td>\n",
       "      <td>No description yet</td>\n",
       "    </tr>\n",
       "    <tr>\n",
       "      <th>1</th>\n",
       "      <td>1</td>\n",
       "      <td>Razer BlackWidow Chroma Keyboard</td>\n",
       "      <td>3</td>\n",
       "      <td>Electronics/Computers &amp; Tablets/Components &amp; P...</td>\n",
       "      <td>Razer</td>\n",
       "      <td>52.0</td>\n",
       "      <td>0</td>\n",
       "      <td>This keyboard is in great condition and works ...</td>\n",
       "    </tr>\n",
       "    <tr>\n",
       "      <th>2</th>\n",
       "      <td>2</td>\n",
       "      <td>AVA-VIV Blouse</td>\n",
       "      <td>1</td>\n",
       "      <td>Women/Tops &amp; Blouses/Blouse</td>\n",
       "      <td>Target</td>\n",
       "      <td>10.0</td>\n",
       "      <td>1</td>\n",
       "      <td>Adorable top with a hint of lace and a key hol...</td>\n",
       "    </tr>\n",
       "    <tr>\n",
       "      <th>3</th>\n",
       "      <td>3</td>\n",
       "      <td>Leather Horse Statues</td>\n",
       "      <td>1</td>\n",
       "      <td>Home/Home Décor/Home Décor Accents</td>\n",
       "      <td>NaN</td>\n",
       "      <td>35.0</td>\n",
       "      <td>1</td>\n",
       "      <td>New with tags. Leather horses. Retail for [rm]...</td>\n",
       "    </tr>\n",
       "    <tr>\n",
       "      <th>4</th>\n",
       "      <td>4</td>\n",
       "      <td>24K GOLD plated rose</td>\n",
       "      <td>1</td>\n",
       "      <td>Women/Jewelry/Necklaces</td>\n",
       "      <td>NaN</td>\n",
       "      <td>44.0</td>\n",
       "      <td>0</td>\n",
       "      <td>Complete with certificate of authenticity</td>\n",
       "    </tr>\n",
       "  </tbody>\n",
       "</table>\n",
       "</div>"
      ],
      "text/plain": [
       "   train_id                                 name  item_condition_id  \\\n",
       "0         0  MLB Cincinnati Reds T Shirt Size XL                  3   \n",
       "1         1     Razer BlackWidow Chroma Keyboard                  3   \n",
       "2         2                       AVA-VIV Blouse                  1   \n",
       "3         3                Leather Horse Statues                  1   \n",
       "4         4                 24K GOLD plated rose                  1   \n",
       "\n",
       "                                       category_name brand_name  price  \\\n",
       "0                                  Men/Tops/T-shirts        NaN   10.0   \n",
       "1  Electronics/Computers & Tablets/Components & P...      Razer   52.0   \n",
       "2                        Women/Tops & Blouses/Blouse     Target   10.0   \n",
       "3                 Home/Home Décor/Home Décor Accents        NaN   35.0   \n",
       "4                            Women/Jewelry/Necklaces        NaN   44.0   \n",
       "\n",
       "   shipping                                   item_description  \n",
       "0         1                                 No description yet  \n",
       "1         0  This keyboard is in great condition and works ...  \n",
       "2         1  Adorable top with a hint of lace and a key hol...  \n",
       "3         1  New with tags. Leather horses. Retail for [rm]...  \n",
       "4         0          Complete with certificate of authenticity  "
      ]
     },
     "execution_count": 42,
     "metadata": {},
     "output_type": "execute_result"
    }
   ],
   "source": [
    "data.head()"
   ]
  },
  {
   "cell_type": "markdown",
   "metadata": {},
   "source": [
    "### Ejercicio\n",
    "\n",
    "De la base de datos cuantos artículos fueron enviados a cargo del comprador y cuántos a cargo del vendedor?\n",
    "\n",
    "#### respuesta"
   ]
  },
  {
   "cell_type": "markdown",
   "metadata": {},
   "source": [
    "El método *value_counts()* se utiliza en columnas formadas por variables categoricas para determinar el número de registros que coinciden con cada uno de los valores.\n",
    "\n",
    "normalize = True -> retorna la frecuencia relativa.\n"
   ]
  },
  {
   "cell_type": "code",
   "execution_count": 46,
   "metadata": {
    "colab": {
     "base_uri": "https://localhost:8080/",
     "height": 68
    },
    "colab_type": "code",
    "id": "qwyGXGjpV3sV",
    "outputId": "fa859cc5-32fc-42c3-d582-af360387db4c",
    "scrolled": false
   },
   "outputs": [
    {
     "data": {
      "text/plain": [
       "0    819435\n",
       "1    663100\n",
       "Name: shipping, dtype: int64"
      ]
     },
     "execution_count": 46,
     "metadata": {},
     "output_type": "execute_result"
    }
   ],
   "source": [
    "data['shipping'].value_counts()"
   ]
  },
  {
   "cell_type": "markdown",
   "metadata": {},
   "source": [
    "### Accediendo a los resultados del value_counts()"
   ]
  },
  {
   "cell_type": "code",
   "execution_count": 48,
   "metadata": {
    "scrolled": true
   },
   "outputs": [
    {
     "data": {
      "text/plain": [
       "0.4472744319695656"
      ]
     },
     "execution_count": 48,
     "metadata": {},
     "output_type": "execute_result"
    }
   ],
   "source": [
    "data[\"shipping\"].value_counts()[1]/data[\"shipping\"].count()"
   ]
  },
  {
   "cell_type": "markdown",
   "metadata": {},
   "source": [
    "Otra forma diferente de hacerlo"
   ]
  },
  {
   "cell_type": "code",
   "execution_count": 49,
   "metadata": {
    "scrolled": true
   },
   "outputs": [
    {
     "data": {
      "text/plain": [
       "0    0.552726\n",
       "1    0.447274\n",
       "Name: shipping, dtype: float64"
      ]
     },
     "execution_count": 49,
     "metadata": {},
     "output_type": "execute_result"
    }
   ],
   "source": [
    "data[\"shipping\"].value_counts(normalize=True)"
   ]
  },
  {
   "cell_type": "markdown",
   "metadata": {},
   "source": [
    "### Ejercicio\n",
    "\n",
    "Sobreponga en un mismo grafico el histograma de los artículos vendidos y enviados a cargo del vendedor y el histograma fue el envio fue a cargo de comprador.\n",
    "\n",
    "#### Respuesta"
   ]
  },
  {
   "cell_type": "code",
   "execution_count": 58,
   "metadata": {
    "colab": {
     "base_uri": "https://localhost:8080/",
     "height": 367
    },
    "colab_type": "code",
    "id": "2y3o5aTaWj0U",
    "outputId": "220b194c-9f3c-408a-cc5f-407ec22ea126"
   },
   "outputs": [
    {
     "data": {
      "image/png": "[encoded data removed]",
      "text/plain": [
       "<Figure size 720x360 with 1 Axes>"
      ]
     },
     "metadata": {
      "needs_background": "light"
     },
     "output_type": "display_data"
    }
   ],
   "source": [
    "# Primero extraer los datos que pertenece a cada categoria\n",
    "shipping_vendedor  = data[data[\"shipping\"]==1][\"price\"]\n",
    "shipping_comprador = data[data[\"shipping\"]== 0][\"price\"]\n",
    "\n",
    "fig, ax = plt.subplots(figsize=(10,5))\n",
    "ax.hist(shipping_vendedor, color='blue', bins=50, range=[0,100],alpha=1.0, label='Precio acargo del vendedor')\n",
    "ax.hist(shipping_comprador, color='Orange', bins=50, range=[0,100],alpha=0.5, label='Precio acargo del comprador')\n",
    "plt.xlabel('Precio', fontsize=17)\n",
    "plt.ylabel('Frecuencia', fontsize=17)\n",
    "plt.title('Distribucion según el tipo de envio', fontsize=17)\n",
    "plt.legend()\n",
    "plt.show()\n",
    "\n"
   ]
  },
  {
   "cell_type": "markdown",
   "metadata": {
    "colab_type": "text",
    "id": "FCUjGr3EFaOB"
   },
   "source": [
    "### Ejercicio\n",
    "\n",
    "Que información se puede obtener sobre la condición en la que fue ofrecido el producto?\n",
    "\n"
   ]
  },
  {
   "cell_type": "markdown",
   "metadata": {},
   "source": [
    "### Ejercicio\n",
    "\n",
    "Que tipo de variable es item_condition_id?\n",
    "\n",
    "#### Respuesta\n",
    "\n",
    "Una forma de averiguar el tipo de variable que representa los datos de una columna es mediante el método unique(), el cual retorna el número de valores únicos presentes en la columna.\n"
   ]
  },
  {
   "cell_type": "code",
   "execution_count": 59,
   "metadata": {
    "scrolled": false
   },
   "outputs": [
    {
     "data": {
      "text/plain": [
       "array([3, 1, 2, 4, 5], dtype=int64)"
      ]
     },
     "execution_count": 59,
     "metadata": {},
     "output_type": "execute_result"
    }
   ],
   "source": [
    "data[\"item_condition_id\"].unique()"
   ]
  },
  {
   "cell_type": "markdown",
   "metadata": {},
   "source": [
    "### Ejercicio \n",
    "\n",
    "Que retorna value_counts()?\n",
    "\n",
    "#### Respuesta:\n",
    "\n",
    "El método value_counts() retorna un objeto de tipo Series (=equivalente a una columna de un dataframe) que agrupoa los diferentes categorias con sus frecuencias "
   ]
  },
  {
   "cell_type": "code",
   "execution_count": 11,
   "metadata": {
    "scrolled": true
   },
   "outputs": [
    {
     "data": {
      "text/plain": [
       "1    640549\n",
       "3    432161\n",
       "2    375479\n",
       "4     31962\n",
       "5      2384\n",
       "Name: item_condition_id, dtype: int64"
      ]
     },
     "execution_count": 11,
     "metadata": {},
     "output_type": "execute_result"
    }
   ],
   "source": [
    "data[\"item_condition_id\"].value_counts()"
   ]
  },
  {
   "cell_type": "markdown",
   "metadata": {},
   "source": [
    "### Ejercicio\n",
    "\n",
    "Muestra en un diagrama de barras la distribucion de ventas de artículos según los diferentes tipos de condicion en la que se encontraban.\n",
    "\n",
    "*Que son diagramas de barras? *    \n",
    "Una diagrama de barra es un método de visualización que permite presentar la relación entre diferentes grupos de datos.\n",
    "\n",
    "#### Resultado"
   ]
  },
  {
   "cell_type": "code",
   "execution_count": 12,
   "metadata": {},
   "outputs": [
    {
     "data": {
      "text/plain": [
       "Text(0.5, 0, 'item_condition_id')"
      ]
     },
     "execution_count": 12,
     "metadata": {},
     "output_type": "execute_result"
    },
    {
     "data": {
      "image/png": "[encoded data removed]",
      "text/plain": [
       "<Figure size 432x288 with 1 Axes>"
      ]
     },
     "metadata": {
      "needs_background": "light"
     },
     "output_type": "display_data"
    }
   ],
   "source": [
    "# diagrama vertical\n",
    "data[\"item_condition_id\"].value_counts().plot(kind=\"bar\")\n",
    "plt.xlabel(\"item_condition_id\")\n",
    "plt.ylabel(\"Frecuencia\")"
   ]
  },
  {
   "cell_type": "code",
   "execution_count": 14,
   "metadata": {
    "scrolled": true
   },
   "outputs": [
    {
     "data": {
      "text/plain": [
       "Text(0, 0.5, 'item_condition_id')"
      ]
     },
     "execution_count": 14,
     "metadata": {},
     "output_type": "execute_result"
    },
    {
     "data": {
      "image/png": "[encoded data removed]",
      "text/plain": [
       "<Figure size 432x288 with 1 Axes>"
      ]
     },
     "metadata": {
      "needs_background": "light"
     },
     "output_type": "display_data"
    }
   ],
   "source": [
    "#diagrama horizontal\n",
    "data[\"item_condition_id\"].value_counts().plot(kind=\"barh\")\n",
    "plt.xlabel(\"Frecuencia\")\n",
    "plt.ylabel(\"item_condition_id\")"
   ]
  },
  {
   "cell_type": "markdown",
   "metadata": {},
   "source": [
    "### Ejercicio\n",
    "\n",
    "Busca el número de registros con la peor condición disponible y un precio mayor o igual a 20 dólares\n",
    "\n",
    "#### Respuesta"
   ]
  },
  {
   "cell_type": "code",
   "execution_count": 15,
   "metadata": {
    "colab": {
     "base_uri": "https://localhost:8080/",
     "height": 320
    },
    "colab_type": "code",
    "id": "aq3jU_7hTK78",
    "outputId": "776e79c3-941b-44ca-a0f9-4872c8e4b383"
   },
   "outputs": [
    {
     "data": {
      "text/plain": [
       "(1161, 8)"
      ]
     },
     "execution_count": 15,
     "metadata": {},
     "output_type": "execute_result"
    }
   ],
   "source": [
    "con = data[(data['item_condition_id']==5) & (data['price']>=20)]\n",
    "con.shape"
   ]
  }
 ],
 "metadata": {
  "colab": {
   "collapsed_sections": [],
   "name": "Mercari_Price_Prediction.ipynb",
   "provenance": []
  },
  "kernelspec": {
   "display_name": "Python 3",
   "language": "python",
   "name": "python3"
  },
  "language_info": {
   "codemirror_mode": {
    "name": "ipython",
    "version": 3
   },
   "file_extension": ".py",
   "mimetype": "text/x-python",
   "name": "python",
   "nbconvert_exporter": "python",
   "pygments_lexer": "ipython3",
   "version": "3.8.3"
  }
 },
 "nbformat": 4,
 "nbformat_minor": 1
}
