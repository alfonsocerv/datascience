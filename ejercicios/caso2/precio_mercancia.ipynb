{
 "cells": [
  {
   "cell_type": "markdown",
   "metadata": {
    "colab_type": "text",
    "id": "OgToGaEn3MO0"
   },
   "source": [
    "# Mercari Price Prediction"
   ]
  },
  {
   "cell_type": "markdown",
   "metadata": {
    "colab_type": "text",
    "id": "GUudYkb33ixz"
   },
   "source": [
    "Mercari es la aplicación de compras impulsada por la comunidad más grande de Japón donde la gente puede vender y comprar una variedad de productos nuevos y usados de diferentes marcas, desde suéteres hasta teléfonos inteligentes. \n",
    "\n",
    "A continuación encontraras una base de datos con información sobre los productos vendidos en la plataforma. \n",
    "\n",
    "### Objetivo: \n",
    "\n",
    "Tu objetivo es realizar un analisis exploratorio de datos (EDA) y si es posible determinar algunas conclusiones sobre las ventas registradas."
   ]
  },
  {
   "cell_type": "markdown",
   "metadata": {},
   "source": [
    "### Base de datos\n",
    "\n",
    "La informacion de los productos vendidos esta disponible mediante un archivo *train100.csv* discriminada con la siguiente información."
   ]
  },
  {
   "cell_type": "markdown",
   "metadata": {},
   "source": [
    "| nombre columna     | significado         |  \n",
    "| ------------------| -------------------- |  \n",
    "| train_id          | id del producto      |  \n",
    "| name               | nombre del producto  |  \n",
    "| item_condition_id  | condiciones en la que esta disponible el producto. Entre más bajo el valor mejor la condición en la que se encuentra|  \n",
    "| category_name  |  Categoria del producto  |  \n",
    "| brand_name | Nombre de la marca |  \n",
    "| shipping   | 1= domicilio lo pago el vendedor, 0=domicilio lo pago el comprador   |  \n",
    "| item_description  | Descripción del producto  |  \n",
    "|  price | Precio por el cual fue vendido el producto   |  "
   ]
  },
  {
   "cell_type": "markdown",
   "metadata": {
    "colab_type": "text",
    "id": "N6rX4zW03-Oh"
   },
   "source": [
    "### Cargando librerias necesarias"
   ]
  },
  {
   "cell_type": "code",
   "execution_count": null,
   "metadata": {
    "colab": {},
    "colab_type": "code",
    "id": "ey1ilPMXa0rw"
   },
   "outputs": [],
   "source": [
    "import numpy as np\n",
    "import pandas as pd\n",
    "import matplotlib.pyplot as plt\n"
   ]
  },
  {
   "cell_type": "markdown",
   "metadata": {},
   "source": [
    "### Leyendo la base de datos"
   ]
  },
  {
   "cell_type": "code",
   "execution_count": null,
   "metadata": {
    "colab": {
     "base_uri": "https://localhost:8080/",
     "height": 34
    },
    "colab_type": "code",
    "id": "-xhz31OkbjvM",
    "outputId": "65c401d1-ed0c-437f-f36b-05152642c477",
    "scrolled": true
   },
   "outputs": [],
   "source": []
  },
  {
   "cell_type": "markdown",
   "metadata": {},
   "source": [
    "## ANÁLISIS EXPLORATORIO DE DATOS (EDA)\n",
    "\n",
    "El análisis exploratorio de datos se refiere al proceso crítico de realizar investigaciones iniciales sobre los datos para descubrir patrones, detectar anomalías, probar hipótesis y verificar suposiciones con la ayuda de estadísticas resumidas y representaciones gráficas."
   ]
  },
  {
   "cell_type": "code",
   "execution_count": null,
   "metadata": {
    "scrolled": true
   },
   "outputs": [],
   "source": [
    "data.head()"
   ]
  },
  {
   "cell_type": "markdown",
   "metadata": {},
   "source": [
    "### Ejercicio \n",
    "\n",
    "Muestra sobre la pantalla el resumen general de los datos almacenados en el archivo *ventas.tsv*\n",
    "\n",
    "#### respuesta"
   ]
  },
  {
   "cell_type": "code",
   "execution_count": null,
   "metadata": {
    "colab": {
     "base_uri": "https://localhost:8080/",
     "height": 238
    },
    "colab_type": "code",
    "id": "YhLg-vFVtyXv",
    "outputId": "b7b9207f-d557-4d50-d918-a8400a17562e"
   },
   "outputs": [],
   "source": [
    "data.info()"
   ]
  },
  {
   "cell_type": "markdown",
   "metadata": {},
   "source": [
    "### Ejercicio\n",
    "\n",
    "Accede al número de registros de la base de datos e imprimela sobre la pantalla.\n",
    "\n",
    "#### Respuesta"
   ]
  },
  {
   "cell_type": "code",
   "execution_count": null,
   "metadata": {
    "colab": {
     "base_uri": "https://localhost:8080/",
     "height": 34
    },
    "colab_type": "code",
    "id": "IQFc04l4hOKm",
    "outputId": "ac300038-2dd5-4129-80b9-f1bb620ddbc6"
   },
   "outputs": [],
   "source": [
    "print('La cantidad de registros es de ',data.shape[0])"
   ]
  },
  {
   "cell_type": "markdown",
   "metadata": {
    "colab_type": "text",
    "id": "sC4BWl1vhy6M"
   },
   "source": [
    "### Ejercicio\n",
    "\n",
    "Que información podemos extraer sobre los datos obtenidos en la columna *Price*?\n",
    "\n",
    "Por ejemplo algunas medidas estadísticas\n",
    "\n",
    "#### Respuesta"
   ]
  },
  {
   "cell_type": "code",
   "execution_count": null,
   "metadata": {
    "colab": {
     "base_uri": "https://localhost:8080/",
     "height": 170
    },
    "colab_type": "code",
    "id": "9J9zW8LSh9Gh",
    "outputId": "7ce31747-6d92-4e62-f192-a535beafc411"
   },
   "outputs": [],
   "source": []
  },
  {
   "cell_type": "markdown",
   "metadata": {},
   "source": [
    "### Ejercicio\n",
    "\n",
    "Muestra las medidas estadísticas con limitado a 3 decimales\n",
    "\n",
    "#### respuesta"
   ]
  },
  {
   "cell_type": "code",
   "execution_count": null,
   "metadata": {
    "scrolled": false
   },
   "outputs": [],
   "source": []
  },
  {
   "cell_type": "markdown",
   "metadata": {},
   "source": [
    "### Ejercicio\n",
    "\n",
    "Como ha sido la distribución de los precios de los artículos vendidos?\n",
    "Haga un histograma que muestre la distribución de artículos vendidos de acuerdo al precio. El histograma debe tener 15 pulgadas de largo y 5 de alto. El eje X nombrelo *precio* con un tamaño de letra de 15px, el eje Y nombrelo *no de artículos con ese precio o frecuencia* con un tamaño de letra de 14px. Ponga un título que indique \"Distribución de artículos según el precio\". Ajuste el número de bins a 50 y límite el rango de precios de 0 a 500.\n",
    "Las columnas deben ser distinguibles.\n",
    "\n",
    "#### Respuesta"
   ]
  },
  {
   "cell_type": "code",
   "execution_count": null,
   "metadata": {
    "colab": {
     "base_uri": "https://localhost:8080/",
     "height": 364
    },
    "colab_type": "code",
    "id": "OliANKx0umSM",
    "outputId": "012b3b9d-0a48-43a3-f5dc-6e113e61f0f1"
   },
   "outputs": [],
   "source": [
    "data['price'].hist(bins=50, figsize=(10,5), edgecolor='white', range=[0,500])\n",
    "plt.xlabel(\"Precio\", fontsize=15)\n",
    "plt.ylabel(\"No. de articulos con ese precio\", fontsize=14)\n",
    "plt.tick_params(labelsize=15)\n",
    "plt.show()\n"
   ]
  },
  {
   "cell_type": "markdown",
   "metadata": {
    "colab_type": "text",
    "id": "5qQMBR3MiMTB"
   },
   "source": [
    "Con base en las estadísticas anteriores, las observaciones son las siguientes:\n",
    "\n",
    "* El ** precio medio ** de los artículos es ** 17 dólares **.\n",
    "* Su ** promedio     ** es de ** 26.738 **.  \n",
    "* La mayoria de artículos tuvieron un precio hasta maximo 200 dólares.\n",
    "* La ** distribución de precios ** de los artículos está muy ** sesgada hacia la derecha **.\n",
    "* El precio representa una variable *numérica* porque puede tomar cualquier valor del conjunto de los reales."
   ]
  },
  {
   "cell_type": "markdown",
   "metadata": {
    "colab_type": "text",
    "id": "MaLCC9W0VriG"
   },
   "source": [
    "### Ejercicio \n",
    "\n",
    "Que información se puede obtener de la columna *Shipping* ?\n",
    "\n",
    "Según definición *Shipping* solo puede tener 2 valores:    \n",
    "\n",
    "1= el envio del artículo lo asume el vendedor.  \n",
    "0= el envio del artículo lo asume el comprador  \n",
    "\n",
    "#### respuesta\n",
    "\n",
    "Shipping es una variable *categorica* de tipo enumerado."
   ]
  },
  {
   "cell_type": "markdown",
   "metadata": {},
   "source": [
    "### Que es una variable categórica?\n",
    "\n",
    "#### Respuesta: \n",
    "Las variables categóricas contienen un número finito de categorías o grupos distintos. Los datos categóricos pueden no tener un orden lógico. Puede adoptar valores numéricos o alfanuméricos.\n",
    "\n",
    "La variable categórica es la que se usa en estadística para asignar una característica o propiedad no-numérica o cualitativa a algún objeto, individuo, entidad, condición o procedimiento. Es posible definir toda clase de variables categóricas de acuerdo a cada necesidad. \n",
    "\n",
    "Ejemplos de variables categóricas son: color, sexo, grupo sanguíneo, estado civil, tipo de material, forma de pago o tipo de cuenta bancaria, y se utilizan mucho cotidianamente.  \n",
    "\n",
    "Sin embargo la misma variable sexo puede ser declarada y almacenada como un número entero si es que a Varón se le asigna 1 y a Hembra se le asigna el valor 2. Es por esta razón que a las variables categóricas se les denomina  a veces de tipo enumerado.  \n",
    "\n",
    "La principal característica de las variables categóricas es que a diferencia de otras variables, como las continuas y las discretas, no es posible hacer aritmética con ellas. Sin embargo se puede hacer estadística con ellas, como se verá más adelante.  \n",
    "\n",
    "\n",
    "### Que es un término alfanumérico?\n",
    "\n",
    "El término alfanumérico abarca todas las letras y números en un conjunto de idiomas determinado, y por extensión, a los números alfanuméricos. Por lo general, los caracteres alfanuméricos son los que comprenden el conjunto combinado de los 26 caracteres alfabéticos, de la A a la Z, y los 10 números arábigos, del 0 al 9."
   ]
  },
  {
   "cell_type": "code",
   "execution_count": null,
   "metadata": {
    "scrolled": true
   },
   "outputs": [],
   "source": [
    "data.head()"
   ]
  },
  {
   "cell_type": "markdown",
   "metadata": {},
   "source": [
    "### Ejercicio\n",
    "\n",
    "De la base de datos cuantos artículos fueron enviados a cargo del comprador y cuántos a cargo del vendedor?\n",
    "\n",
    "#### respuesta"
   ]
  },
  {
   "cell_type": "markdown",
   "metadata": {},
   "source": [
    "El método *value_counts()* se utiliza en columnas formadas por variables categoricas para determinar el número de registros que coinciden con cada uno de los valores.\n",
    "\n",
    "normalize = True -> retorna la frecuencia relativa.\n"
   ]
  },
  {
   "cell_type": "code",
   "execution_count": null,
   "metadata": {
    "colab": {
     "base_uri": "https://localhost:8080/",
     "height": 68
    },
    "colab_type": "code",
    "id": "qwyGXGjpV3sV",
    "outputId": "fa859cc5-32fc-42c3-d582-af360387db4c",
    "scrolled": false
   },
   "outputs": [],
   "source": [
    "data['shipping'].value_counts()"
   ]
  },
  {
   "cell_type": "markdown",
   "metadata": {},
   "source": [
    "### Accediendo a los resultados del value_counts()"
   ]
  },
  {
   "cell_type": "code",
   "execution_count": null,
   "metadata": {
    "scrolled": true
   },
   "outputs": [],
   "source": [
    "data[\"shipping\"].value_counts()[1]/data[\"shipping\"].count()"
   ]
  },
  {
   "cell_type": "markdown",
   "metadata": {},
   "source": [
    "Otra forma diferente de hacerlo"
   ]
  },
  {
   "cell_type": "code",
   "execution_count": null,
   "metadata": {
    "scrolled": true
   },
   "outputs": [],
   "source": [
    "data[\"shipping\"].value_counts(normalize=True)"
   ]
  },
  {
   "cell_type": "markdown",
   "metadata": {},
   "source": [
    "### Ejercicio\n",
    "\n",
    "Sobreponga en un mismo grafico el histograma de los artículos vendidos y enviados a cargo del vendedor y el histograma fue el envio fue a cargo de comprador.\n",
    "\n",
    "#### Respuesta"
   ]
  },
  {
   "cell_type": "code",
   "execution_count": null,
   "metadata": {
    "colab": {
     "base_uri": "https://localhost:8080/",
     "height": 367
    },
    "colab_type": "code",
    "id": "2y3o5aTaWj0U",
    "outputId": "220b194c-9f3c-408a-cc5f-407ec22ea126"
   },
   "outputs": [],
   "source": [
    "# Primero extraer los datos que pertenece a cada categoria\n",
    "shipping_vendedor  = data[data[\"shipping\"]==1][\"price\"]\n",
    "shipping_comprador = data[data[\"shipping\"]== 0][\"price\"]\n",
    "\n",
    "fig, ax = plt.subplots(figsize=(10,5))\n",
    "ax.hist(shipping_vendedor, color='blue', bins=50, range=[0,100],alpha=1.0, label='Precio acargo del vendedor')\n",
    "ax.hist(shipping_comprador, color='Orange', bins=50, range=[0,100],alpha=0.5, label='Precio acargo del comprador')\n",
    "plt.xlabel('Precio', fontsize=17)\n",
    "plt.ylabel('Frecuencia', fontsize=17)\n",
    "plt.title('Distribucion según el tipo de envio', fontsize=17)\n",
    "plt.legend()\n",
    "plt.show()\n",
    "\n"
   ]
  },
  {
   "cell_type": "markdown",
   "metadata": {
    "colab_type": "text",
    "id": "FCUjGr3EFaOB"
   },
   "source": [
    "### Ejercicio\n",
    "\n",
    "Que información se puede obtener sobre la condición en la que fue ofrecido el producto?\n",
    "\n"
   ]
  },
  {
   "cell_type": "markdown",
   "metadata": {},
   "source": [
    "### Ejercicio\n",
    "\n",
    "Que tipo de variable es item_condition_id?\n",
    "\n",
    "#### Respuesta\n",
    "\n",
    "Una forma de averiguar el tipo de variable que representa los datos de una columna es mediante el método unique(), el cual retorna el número de valores únicos presentes en la columna.\n"
   ]
  },
  {
   "cell_type": "code",
   "execution_count": null,
   "metadata": {
    "scrolled": false
   },
   "outputs": [],
   "source": [
    "data[\"item_condition_id\"].unique()"
   ]
  },
  {
   "cell_type": "markdown",
   "metadata": {},
   "source": [
    "### Ejercicio \n",
    "\n",
    "Que retorna value_counts()?\n",
    "\n",
    "#### Respuesta:\n",
    "\n",
    "El método value_counts() retorna un objeto de tipo Series (=equivalente a una columna de un dataframe) que agrupoa los diferentes categorias con sus frecuencias "
   ]
  },
  {
   "cell_type": "code",
   "execution_count": null,
   "metadata": {
    "scrolled": true
   },
   "outputs": [],
   "source": [
    "data[\"item_condition_id\"].value_counts()"
   ]
  },
  {
   "cell_type": "markdown",
   "metadata": {},
   "source": [
    "### Ejercicio\n",
    "\n",
    "Muestra en un diagrama de barras la distribucion de ventas de artículos según los diferentes tipos de condicion en la que se encontraban.\n",
    "\n",
    "*Que son diagramas de barras? *    \n",
    "Una diagrama de barra es un método de visualización que permite presentar la relación entre diferentes grupos de datos.\n",
    "\n",
    "#### Resultado"
   ]
  },
  {
   "cell_type": "code",
   "execution_count": null,
   "metadata": {},
   "outputs": [],
   "source": [
    "# diagrama vertical\n",
    "data[\"item_condition_id\"].value_counts().plot(kind=\"bar\")\n",
    "plt.xlabel(\"item_condition_id\")\n",
    "plt.ylabel(\"Frecuencia\")"
   ]
  },
  {
   "cell_type": "code",
   "execution_count": null,
   "metadata": {
    "scrolled": true
   },
   "outputs": [],
   "source": [
    "#diagrama horizontal\n",
    "data[\"item_condition_id\"].value_counts().plot(kind=\"barh\")\n",
    "plt.xlabel(\"Frecuencia\")\n",
    "plt.ylabel(\"item_condition_id\")"
   ]
  },
  {
   "cell_type": "markdown",
   "metadata": {},
   "source": [
    "### Ejercicio\n",
    "\n",
    "Busca el número de registros con la peor condición disponible y un precio mayor o igual a 20 dólares\n",
    "\n",
    "#### Respuesta"
   ]
  },
  {
   "cell_type": "code",
   "execution_count": null,
   "metadata": {
    "colab": {
     "base_uri": "https://localhost:8080/",
     "height": 320
    },
    "colab_type": "code",
    "id": "aq3jU_7hTK78",
    "outputId": "776e79c3-941b-44ca-a0f9-4872c8e4b383"
   },
   "outputs": [],
   "source": [
    "con = data[(data['item_condition_id']==5) & (data['price']>=20)]\n",
    "con.shape"
   ]
  }
 ],
 "metadata": {
  "colab": {
   "collapsed_sections": [],
   "name": "Mercari_Price_Prediction.ipynb",
   "provenance": []
  },
  "kernelspec": {
   "display_name": "Python 3",
   "language": "python",
   "name": "python3"
  },
  "language_info": {
   "codemirror_mode": {
    "name": "ipython",
    "version": 3
   },
   "file_extension": ".py",
   "mimetype": "text/x-python",
   "name": "python",
   "nbconvert_exporter": "python",
   "pygments_lexer": "ipython3",
   "version": "3.8.3"
  }
 },
 "nbformat": 4,
 "nbformat_minor": 1
}
