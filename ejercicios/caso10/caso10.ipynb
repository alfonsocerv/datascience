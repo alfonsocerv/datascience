{
 "cells": [
  {
   "cell_type": "markdown",
   "metadata": {},
   "source": [
    "## Cuarta actividad evaluativa\n",
    "\n",
    "Profesor Alfonso Cervantes Barragán - 05-10-2020\n",
    "\n",
    "Universidad Sergio Arboleda - Informatica III"
   ]
  },
  {
   "cell_type": "markdown",
   "metadata": {},
   "source": [
    "### Descripción del contexto.\n",
    "\n",
    "En esta actividad el estudiante debera realizar un análisis exploratorio de Datos (EDA) del dataset *poblacion_prision_india.csv*, que contiene información sobre la población de prisioneros en la India de los años 2001 al 2013.  \n",
    "\n",
    "La descripción de las columnas del dataset es la siguiente:\n",
    "\n",
    "|Columna |\tDescripción |  \n",
    "|--------|--------------|\n",
    "|States_UT_Name\t|Estado en donde se llevo el censo |   \n",
    "|year| año del censo|   \n",
    "|Jail_type|\tTipo de institución  | \n",
    "|year |\taño de la observación|   \n",
    "|Male Convicts | Convictos masculinos|  \n",
    "|Female_Convicts |\tConvictos femeninos|  \n",
    "|Total_Convicts|\tNúmero total de convictos |  \n",
    "|Male_under_trial| \tHombres bajo juicio  | \n",
    "|Femail_under_trial| Mujeres bajo juicio | \n",
    "|Total_under_trial| Total de personas bajo juicio|\n",
    "|Male_detenues| detenidos masculinos|\n",
    "|Female_detenues|detenidos femeninos|\n",
    "|Total_detenues| total de detenidos|\n",
    "|Male_Others| ocupantes masculinos bajo otra razón|\n",
    "|Female_others|ocupantes femeninos bajo otra razón|\n",
    "|Total_others|Número total de ocupantes bajo otra razón|\n",
    "|Total_male|Número total de ocupantes masculinos|\n",
    "|Total_female|Número total de ocupantes femeninos|\n",
    "|Grand_total| Número total de ocupantes|\n",
    "\n",
    "\n",
    "\n",
    "#### Entregable\n",
    "\n",
    "El estudiante debera entregar un documento con extensión *ipynb* mediante el taller \"Cuarta Evaluación \" que se encuentra en el curso virtual Informatica III en el plataforma Sergio Virtual\n",
    "\n",
    "\n",
    "#### Plazo\n",
    "\n",
    "El plazo de entrega sera hasta el sabado, 24 de octubre a las 11:30 p.m. En el aula del curso en la plataforma Sergio Virtual estará disponible un taller en el cual deberan subir el archivo .ipynb (Jupyter notebook) con todo el código requerido. \n",
    "\n",
    "No esta permitido resolver los ejercicios a mano ni ingresar la respuesta sin que haya un código que lo respalde.\n",
    "\n",
    "#### Donde puedo trabajar?\n",
    "\n",
    "Este ejercicio se puede realizar en el entorno virtual creado con base en el repositorio github.com/alfonsocerv/datascience en la carpeta /ejericicio/caso10.\n",
    "\n",
    "#### Criterios de evaluación\n",
    "\n",
    "1. Todo el código requerido debe estar presente. Cada ejercicio debe tener su respectiva respuesta.\n",
    "2. No pueden haber errores que se generen al ejecutar el código.\n",
    "3. El código debe cumplir con las especificaciones de cada ejercicio."
   ]
  },
  {
   "cell_type": "markdown",
   "metadata": {},
   "source": [
    "### Ejercicio 1\n",
    "\n",
    "Importa las librerias pandas, numpy y matplotlib\n",
    "\n",
    "#### Respuesta"
   ]
  },
  {
   "cell_type": "code",
   "execution_count": null,
   "metadata": {},
   "outputs": [],
   "source": [
    "%matplotlib inline"
   ]
  },
  {
   "cell_type": "code",
   "execution_count": null,
   "metadata": {},
   "outputs": [],
   "source": []
  }
 ],
 "metadata": {
  "kernelspec": {
   "display_name": "Python 3",
   "language": "python",
   "name": "python3"
  },
  "language_info": {
   "codemirror_mode": {
    "name": "ipython",
    "version": 3
   },
   "file_extension": ".py",
   "mimetype": "text/x-python",
   "name": "python",
   "nbconvert_exporter": "python",
   "pygments_lexer": "ipython3",
   "version": "3.8.3"
  }
 },
 "nbformat": 4,
 "nbformat_minor": 4
}
