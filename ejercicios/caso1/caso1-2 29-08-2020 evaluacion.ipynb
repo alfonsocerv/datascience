{
 "cells": [
  {
   "cell_type": "markdown",
   "metadata": {},
   "source": [
    "## Caso 1-2 de evaluación\n",
    "\n",
    "### Explorando y calculando algunas estadísticas de los resultados de un curso de Ingeniería Química en la Universidad McMaster.\n"
   ]
  },
  {
   "cell_type": "markdown",
   "metadata": {},
   "source": [
    "Profesor Alfonso Cervantes Barragán  16 de agosto del 2020"
   ]
  },
  {
   "cell_type": "markdown",
   "metadata": {},
   "source": [
    "### Descripcion\n",
    "\n",
    "A continuación al estudiante se le solicitara resolver un conjunto de ejercicios basados en el uso de las librerias Pandas, Numpy y Matplotlib de Python.\n",
    "\n",
    "Para la correcta resolución, el estudiante deberá ingresar el código en lenguaje Python y ejecutarlo mostrando el resultado correspondiente. Aquellos ejercicios que resulten en algun tipo de error de ejecución seran descartados como correctos inmediatamente.\n",
    "\n",
    "#### Entregable\n",
    "\n",
    "El estudiante debera entregar un documento con extensión *ipynb* mediante el taller \"Primera Evaluación Informatica III\" que se encuentra en el curso virtual Informatica III en el plataforma Sergio Virtual\n",
    "\n",
    "#### Plazo\n",
    "\n",
    "El plazo de entrega sera hasta el jueves, 3 de septiembre a las 11:30 p.m. En el aula del curso en la plataforma Sergio Virtual estará disponible un taller en el cual deberan subir el archivo .ipynb (Jupyter notebook) con todo el código requerido. \n",
    "\n",
    "No esta permitido resolver los ejercicios a mano ni ingresar la respuesta sin que haya un código que lo respalde.\n",
    "\n",
    "#### Donde puedo trabajar?\n",
    "\n",
    "Para poder tener acceso a la base de datos, deben trabajar siempre en el directorio del caso 1 en el repositorio del curso alfonsocerv/datascience. \n",
    "\n",
    "#### Criterios de evaluación\n",
    "\n",
    "1. Todo el código requerido debe estar presente. Cada ejercicio debe tener su respectiva respuesta.\n",
    "2. No pueden haber errores que se generen al ejecutar el código.\n",
    "3. El código debe cumplir con las especificaciones de cada ejercicio."
   ]
  },
  {
   "cell_type": "markdown",
   "metadata": {},
   "source": [
    "### Introducción"
   ]
  },
  {
   "cell_type": "markdown",
   "metadata": {},
   "source": [
    "Estas trabajando para la Universidad de McMaster en el Dpto. de Ingenería Química y te han pedido revises las notas resultantes de los diferentes componentes calificables. Esas notas se encuentran en el archivo class-grades.csv. Según el profesor del curso en el archivo Class-grades.csv los valores registrados son el promedio de los subcomponentes: por ejemplo, la variable Tutorial es el promedio de todos los tutoriales realizados, la variable del examen final es el promedio de todas las preguntas en el examen escrito final."
   ]
  },
  {
   "cell_type": "markdown",
   "metadata": {},
   "source": [
    "### Ejercicio 1\n",
    "\n",
    "Importa las librerias pandas, numpy y matplotlib en una misma celda de código con los alias que hemos utilizado hasta la fecha\n",
    "\n",
    "#### Respuesta"
   ]
  },
  {
   "cell_type": "code",
   "execution_count": null,
   "metadata": {},
   "outputs": [],
   "source": [
    "# Este comando es necesario para mostrar las graficas en el jupyter notebook\n",
    "%matplotlib inline"
   ]
  },
  {
   "cell_type": "code",
   "execution_count": null,
   "metadata": {},
   "outputs": [],
   "source": []
  },
  {
   "cell_type": "markdown",
   "metadata": {},
   "source": [
    "###  Ejercicio 2\n",
    "\n",
    "Lee el contenido del archivo \"class-grades.csv\" y almacenado en una variable de nombre *grados*\n",
    "\n",
    "#### Respuesta"
   ]
  },
  {
   "cell_type": "code",
   "execution_count": null,
   "metadata": {},
   "outputs": [],
   "source": []
  },
  {
   "cell_type": "markdown",
   "metadata": {},
   "source": [
    "### Ejercicio 3\n",
    "\n",
    "Muestre sobre la pantalla los primeros 15 registros del dataframe *df*\n",
    "\n",
    "#### Respuesta"
   ]
  },
  {
   "cell_type": "code",
   "execution_count": null,
   "metadata": {},
   "outputs": [],
   "source": []
  },
  {
   "cell_type": "markdown",
   "metadata": {},
   "source": [
    "### Ejercicio 4\n",
    "\n",
    "Escriba un código en python que determine que columna tiene el mayor valor entre todas.\n",
    "\n",
    "#### Respuesta"
   ]
  },
  {
   "cell_type": "code",
   "execution_count": null,
   "metadata": {
    "scrolled": true
   },
   "outputs": [],
   "source": []
  },
  {
   "cell_type": "markdown",
   "metadata": {},
   "source": [
    "### Ejercicio 5\n",
    "\n",
    "\n",
    "Renombre las columnas de la tabla usando las siguientes denominaciones \"examen1\",\"examen2\".. y así sucesivamente hasta el final. No renombre la columna *prefix*. Además, transforme las notas a una escala de 0 a 5.\n",
    "\n",
    "#### Respuesta"
   ]
  },
  {
   "cell_type": "code",
   "execution_count": null,
   "metadata": {},
   "outputs": [],
   "source": []
  },
  {
   "cell_type": "markdown",
   "metadata": {},
   "source": [
    "### Ejercicio  6\n",
    "\n",
    "Escribir un código que determine si la nota promedio de la columna \"examen1\" es mayor que el promedio de la columna \"examen3\".\n",
    "\n",
    "#### Respuesta"
   ]
  },
  {
   "cell_type": "code",
   "execution_count": null,
   "metadata": {},
   "outputs": [],
   "source": []
  },
  {
   "cell_type": "markdown",
   "metadata": {},
   "source": [
    "### Ejercicio 7\n",
    "\n",
    "Añada una nuava columna a la tabla con el nombre *promedio* y almacene ahí la nota promedio del curso para cada estudiante. Todos los examenes valen el mismo porcentaje.\n",
    "\n",
    "#### Respuesta"
   ]
  },
  {
   "cell_type": "code",
   "execution_count": null,
   "metadata": {},
   "outputs": [],
   "source": []
  },
  {
   "cell_type": "markdown",
   "metadata": {},
   "source": [
    "### Ejercicio 8\n",
    "\n",
    "Escriba un  código que imprima sobre la pantalla en mensaje:\n",
    "\n",
    "        La nota promedio del curso fue (resultado)\n",
    "        \n",
    "con su respectivo resultado\n",
    "\n",
    "#### Respuesta"
   ]
  },
  {
   "cell_type": "code",
   "execution_count": null,
   "metadata": {},
   "outputs": [],
   "source": []
  },
  {
   "cell_type": "markdown",
   "metadata": {},
   "source": [
    "### Ejercicio 9\n",
    "\n",
    "Escriba un código que calcule el rango de las notas en el *examen4* y lo muestre en la pantalla con el mensaje : \n",
    "\n",
    "        El rango de notas del cuarto examen es : (resultado)\n",
    "\n",
    "#### Respuesta"
   ]
  },
  {
   "cell_type": "code",
   "execution_count": null,
   "metadata": {},
   "outputs": [],
   "source": []
  },
  {
   "cell_type": "markdown",
   "metadata": {},
   "source": [
    "### Ejercicio 10\n",
    "\n",
    "Escriba un código que calcule la desviación estandard de las notas del segundo examen.\n",
    "\n",
    "#### Respuesta"
   ]
  },
  {
   "cell_type": "code",
   "execution_count": null,
   "metadata": {},
   "outputs": [],
   "source": []
  },
  {
   "cell_type": "markdown",
   "metadata": {},
   "source": [
    "### Ejercicio  11\n",
    "\n",
    "Escriba un código que imprima en la pantalla el número de filas y columnas del dataframe que almacena los datos.\n",
    "\n",
    "#### Respuesta"
   ]
  },
  {
   "cell_type": "code",
   "execution_count": null,
   "metadata": {},
   "outputs": [],
   "source": []
  },
  {
   "cell_type": "markdown",
   "metadata": {},
   "source": [
    "### Ejercicio 12\n",
    "\n",
    "Imprima una lista que contenga los nombres de las columnas en el Dataframe \"df\"\n",
    "\n",
    "#### Respuesta"
   ]
  },
  {
   "cell_type": "markdown",
   "metadata": {},
   "source": []
  },
  {
   "cell_type": "markdown",
   "metadata": {},
   "source": [
    "### Ejercicio 13\n",
    "\n",
    "Muestre sobre la pantalla la nota del mejor estudiante del curso y del peor con un texto alusivo\n",
    "\n",
    "#### Respuesta"
   ]
  },
  {
   "cell_type": "code",
   "execution_count": null,
   "metadata": {},
   "outputs": [],
   "source": []
  },
  {
   "cell_type": "markdown",
   "metadata": {},
   "source": [
    "### Ejercicio 14\n",
    "\n",
    "Escriba un código que determine el porcentaje de estudiantes que pasaron la materia?\n",
    "\n",
    "#### Respuesta"
   ]
  },
  {
   "cell_type": "code",
   "execution_count": null,
   "metadata": {},
   "outputs": [],
   "source": []
  },
  {
   "cell_type": "markdown",
   "metadata": {},
   "source": [
    "### Ejercicio 15\n",
    "\n",
    "Cuántos estudiantes tuvieron una nota menor a 2?\n",
    "\n",
    "#### Respuesta"
   ]
  },
  {
   "cell_type": "code",
   "execution_count": null,
   "metadata": {},
   "outputs": [],
   "source": []
  },
  {
   "cell_type": "markdown",
   "metadata": {},
   "source": [
    "### Ejercicio 16\n",
    "\n",
    "Escriba un código que le permita determinar si el número de estudiantes que obtuvieron más de 4 es mayor al numero de estudiantes que perdieron con menos de 2.\n",
    "\n",
    "#### Respuesta\n",
    "\n"
   ]
  },
  {
   "cell_type": "code",
   "execution_count": null,
   "metadata": {},
   "outputs": [],
   "source": []
  },
  {
   "cell_type": "markdown",
   "metadata": {},
   "source": [
    "### Ejercicio 17\n",
    "\n",
    "Escriba un código que imprima el porcentaje de estudiantes que sacaron una nota entre 2 y 3.\n",
    "\n",
    "#### Respuesta"
   ]
  },
  {
   "cell_type": "code",
   "execution_count": null,
   "metadata": {},
   "outputs": [],
   "source": []
  },
  {
   "cell_type": "markdown",
   "metadata": {},
   "source": [
    "## Visualización de datos"
   ]
  },
  {
   "cell_type": "markdown",
   "metadata": {},
   "source": [
    "### Ejercicio 18\n",
    "\n",
    "Escriba un código que imprima la distribución de notas (histograma) de los resultados del tercer examen. El histograma debe ser 15 pulgadas de ancho, 10 de altura, sin malla y con 15 bins.\n",
    "\n",
    "#### Respuesta"
   ]
  },
  {
   "cell_type": "code",
   "execution_count": null,
   "metadata": {},
   "outputs": [],
   "source": []
  },
  {
   "cell_type": "markdown",
   "metadata": {},
   "source": [
    "### Ejercicio 19\n",
    "\n",
    "Escriba un código que muestre el diagrama de dispersión entre las notas del primer examen y el segundo. \n",
    "\n",
    "    Se puede observar algun posible patrón?\n",
    "\n",
    "#### Respuesta"
   ]
  },
  {
   "cell_type": "code",
   "execution_count": null,
   "metadata": {},
   "outputs": [],
   "source": []
  },
  {
   "cell_type": "markdown",
   "metadata": {},
   "source": [
    "### Ejercicio 20\n",
    "\n",
    "Dibuje un diagrama de caja de las notas finales del curso.\n",
    "\n",
    "        Que interpretación se puede extraer del resultado?\n",
    "\n",
    "#### Respuesta"
   ]
  },
  {
   "cell_type": "code",
   "execution_count": null,
   "metadata": {},
   "outputs": [],
   "source": []
  }
 ],
 "metadata": {
  "kernelspec": {
   "display_name": "Python 3",
   "language": "python",
   "name": "python3"
  },
  "language_info": {
   "codemirror_mode": {
    "name": "ipython",
    "version": 3
   },
   "file_extension": ".py",
   "mimetype": "text/x-python",
   "name": "python",
   "nbconvert_exporter": "python",
   "pygments_lexer": "ipython3",
   "version": "3.8.3"
  }
 },
 "nbformat": 4,
 "nbformat_minor": 4
}
