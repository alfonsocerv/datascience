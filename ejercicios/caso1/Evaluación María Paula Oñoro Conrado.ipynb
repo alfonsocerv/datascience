{
 "cells": [
  {
   "cell_type": "markdown",
   "metadata": {},
   "source": [
    "## Caso 1-2 de evaluación\n",
    "\n",
    "### Explorando y calculando algunas estadísticas de los resultados de un curso de Ingeniería Química en la Universidad McMaster.\n"
   ]
  },
  {
   "cell_type": "markdown",
   "metadata": {},
   "source": [
    "Profesor Alfonso Cervantes Barragán  16 de agosto del 2020"
   ]
  },
  {
   "cell_type": "markdown",
   "metadata": {},
   "source": [
    "### Descripcion\n",
    "\n",
    "A continuación al estudiante se le solicitara resolver un conjunto de ejercicios basados en el uso de las librerias Pandas, Numpy y Matplotlib de Python.\n",
    "\n",
    "Para la correcta resolución, el estudiante deberá ingresar el código en lenguaje Python y ejecutarlo mostrando el resultado correspondiente. Aquellos ejercicios que resulten en algun tipo de error de ejecución seran descartados como correctos inmediatamente.\n",
    "\n",
    "#### Entregable\n",
    "\n",
    "El estudiante debera entregar un documento con extensión *ipynb* mediante el taller \"Primera Evaluación Informatica III\" que se encuentra en el curso virtual Informatica III en el plataforma Sergio Virtual\n",
    "\n",
    "#### Plazo\n",
    "\n",
    "El plazo de entrega sera hasta el jueves, 3 de septiembre a las 11:30 p.m. En el aula del curso en la plataforma Sergio Virtual estará disponible un taller en el cual deberan subir el archivo .ipynb (Jupyter notebook) con todo el código requerido. \n",
    "\n",
    "No esta permitido resolver los ejercicios a mano ni ingresar la respuesta sin que haya un código que lo respalde.\n",
    "\n",
    "#### Donde puedo trabajar?\n",
    "\n",
    "Para poder tener acceso a la base de datos, deben trabajar siempre en el directorio del caso 1 en el repositorio del curso alfonsocerv/datascience. \n",
    "\n",
    "#### Criterios de evaluación\n",
    "\n",
    "1. Todo el código requerido debe estar presente. Cada ejercicio debe tener su respectiva respuesta.\n",
    "2. No pueden haber errores que se generen al ejecutar el código.\n",
    "3. El código debe cumplir con las especificaciones de cada ejercicio."
   ]
  },
  {
   "cell_type": "markdown",
   "metadata": {},
   "source": [
    "### Introducción"
   ]
  },
  {
   "cell_type": "markdown",
   "metadata": {},
   "source": [
    "Estas trabajando para la Universidad de McMaster en el Dpto. de Ingenería Química y te han pedido revises las notas resultantes de los diferentes componentes calificables. Esas notas se encuentran en el archivo class-grades.csv. Según el profesor del curso en el archivo Class-grades.csv los valores registrados son el promedio de los subcomponentes: por ejemplo, la variable Tutorial es el promedio de todos los tutoriales realizados, la variable del examen final es el promedio de todas las preguntas en el examen escrito final."
   ]
  },
  {
   "cell_type": "markdown",
   "metadata": {},
   "source": [
    "### Ejercicio 1\n",
    "\n",
    "Importa las librerias pandas, numpy y matplotlib en una misma celda de código con los alias que hemos utilizado hasta la fecha\n",
    "\n",
    "#### Respuesta"
   ]
  },
  {
   "cell_type": "code",
   "execution_count": 1,
   "metadata": {},
   "outputs": [],
   "source": [
    "# Este comando es necesario para mostrar las graficas en el jupyter notebook\n",
    "%matplotlib inline"
   ]
  },
  {
   "cell_type": "code",
   "execution_count": 1,
   "metadata": {},
   "outputs": [],
   "source": [
    "import pandas as pd\n",
    "import numpy as np \n",
    "import matplotlib.pyplot as plt\n"
   ]
  },
  {
   "cell_type": "markdown",
   "metadata": {},
   "source": [
    "###  Ejercicio 2\n",
    "\n",
    "Lee el contenido del archivo \"class-grades.csv\" y almacenado en una variable de nombre *grados*\n",
    "\n",
    "#### Respuesta"
   ]
  },
  {
   "cell_type": "code",
   "execution_count": 3,
   "metadata": {},
   "outputs": [
    {
     "data": {
      "text/html": [
       "<div>\n",
       "<style scoped>\n",
       "    .dataframe tbody tr th:only-of-type {\n",
       "        vertical-align: middle;\n",
       "    }\n",
       "\n",
       "    .dataframe tbody tr th {\n",
       "        vertical-align: top;\n",
       "    }\n",
       "\n",
       "    .dataframe thead th {\n",
       "        text-align: right;\n",
       "    }\n",
       "</style>\n",
       "<table border=\"1\" class=\"dataframe\">\n",
       "  <thead>\n",
       "    <tr style=\"text-align: right;\">\n",
       "      <th></th>\n",
       "      <th>Prefix</th>\n",
       "      <th>Assignment</th>\n",
       "      <th>Tutorial</th>\n",
       "      <th>Midterm</th>\n",
       "      <th>TakeHome</th>\n",
       "      <th>Final</th>\n",
       "    </tr>\n",
       "  </thead>\n",
       "  <tbody>\n",
       "    <tr>\n",
       "      <th>0</th>\n",
       "      <td>5</td>\n",
       "      <td>57.14</td>\n",
       "      <td>34.09</td>\n",
       "      <td>64.38</td>\n",
       "      <td>51.48</td>\n",
       "      <td>52.50</td>\n",
       "    </tr>\n",
       "    <tr>\n",
       "      <th>1</th>\n",
       "      <td>8</td>\n",
       "      <td>95.05</td>\n",
       "      <td>105.49</td>\n",
       "      <td>67.50</td>\n",
       "      <td>99.07</td>\n",
       "      <td>68.33</td>\n",
       "    </tr>\n",
       "    <tr>\n",
       "      <th>2</th>\n",
       "      <td>8</td>\n",
       "      <td>83.70</td>\n",
       "      <td>83.17</td>\n",
       "      <td>30.00</td>\n",
       "      <td>63.15</td>\n",
       "      <td>48.89</td>\n",
       "    </tr>\n",
       "    <tr>\n",
       "      <th>3</th>\n",
       "      <td>7</td>\n",
       "      <td>81.22</td>\n",
       "      <td>96.06</td>\n",
       "      <td>49.38</td>\n",
       "      <td>105.93</td>\n",
       "      <td>80.56</td>\n",
       "    </tr>\n",
       "    <tr>\n",
       "      <th>4</th>\n",
       "      <td>8</td>\n",
       "      <td>91.32</td>\n",
       "      <td>93.64</td>\n",
       "      <td>95.00</td>\n",
       "      <td>107.41</td>\n",
       "      <td>73.89</td>\n",
       "    </tr>\n",
       "  </tbody>\n",
       "</table>\n",
       "</div>"
      ],
      "text/plain": [
       "   Prefix  Assignment  Tutorial  Midterm  TakeHome  Final\n",
       "0       5       57.14     34.09    64.38     51.48  52.50\n",
       "1       8       95.05    105.49    67.50     99.07  68.33\n",
       "2       8       83.70     83.17    30.00     63.15  48.89\n",
       "3       7       81.22     96.06    49.38    105.93  80.56\n",
       "4       8       91.32     93.64    95.00    107.41  73.89"
      ]
     },
     "execution_count": 3,
     "metadata": {},
     "output_type": "execute_result"
    }
   ],
   "source": [
    "grados = pd.read_csv (\"class-grades.csv\")\n",
    "grados.head()"
   ]
  },
  {
   "cell_type": "markdown",
   "metadata": {},
   "source": [
    "### Ejercicio 3\n",
    "\n",
    "Muestre sobre la pantalla los primeros 15 registros del dataframe *df*\n",
    "\n",
    "#### Respuesta"
   ]
  },
  {
   "cell_type": "code",
   "execution_count": 4,
   "metadata": {},
   "outputs": [
    {
     "data": {
      "text/html": [
       "<div>\n",
       "<style scoped>\n",
       "    .dataframe tbody tr th:only-of-type {\n",
       "        vertical-align: middle;\n",
       "    }\n",
       "\n",
       "    .dataframe tbody tr th {\n",
       "        vertical-align: top;\n",
       "    }\n",
       "\n",
       "    .dataframe thead th {\n",
       "        text-align: right;\n",
       "    }\n",
       "</style>\n",
       "<table border=\"1\" class=\"dataframe\">\n",
       "  <thead>\n",
       "    <tr style=\"text-align: right;\">\n",
       "      <th></th>\n",
       "      <th>Prefix</th>\n",
       "      <th>Assignment</th>\n",
       "      <th>Tutorial</th>\n",
       "      <th>Midterm</th>\n",
       "      <th>TakeHome</th>\n",
       "      <th>Final</th>\n",
       "    </tr>\n",
       "  </thead>\n",
       "  <tbody>\n",
       "    <tr>\n",
       "      <th>0</th>\n",
       "      <td>5</td>\n",
       "      <td>57.14</td>\n",
       "      <td>34.09</td>\n",
       "      <td>64.38</td>\n",
       "      <td>51.48</td>\n",
       "      <td>52.50</td>\n",
       "    </tr>\n",
       "    <tr>\n",
       "      <th>1</th>\n",
       "      <td>8</td>\n",
       "      <td>95.05</td>\n",
       "      <td>105.49</td>\n",
       "      <td>67.50</td>\n",
       "      <td>99.07</td>\n",
       "      <td>68.33</td>\n",
       "    </tr>\n",
       "    <tr>\n",
       "      <th>2</th>\n",
       "      <td>8</td>\n",
       "      <td>83.70</td>\n",
       "      <td>83.17</td>\n",
       "      <td>30.00</td>\n",
       "      <td>63.15</td>\n",
       "      <td>48.89</td>\n",
       "    </tr>\n",
       "    <tr>\n",
       "      <th>3</th>\n",
       "      <td>7</td>\n",
       "      <td>81.22</td>\n",
       "      <td>96.06</td>\n",
       "      <td>49.38</td>\n",
       "      <td>105.93</td>\n",
       "      <td>80.56</td>\n",
       "    </tr>\n",
       "    <tr>\n",
       "      <th>4</th>\n",
       "      <td>8</td>\n",
       "      <td>91.32</td>\n",
       "      <td>93.64</td>\n",
       "      <td>95.00</td>\n",
       "      <td>107.41</td>\n",
       "      <td>73.89</td>\n",
       "    </tr>\n",
       "    <tr>\n",
       "      <th>5</th>\n",
       "      <td>7</td>\n",
       "      <td>95.00</td>\n",
       "      <td>92.58</td>\n",
       "      <td>93.12</td>\n",
       "      <td>97.78</td>\n",
       "      <td>68.06</td>\n",
       "    </tr>\n",
       "    <tr>\n",
       "      <th>6</th>\n",
       "      <td>8</td>\n",
       "      <td>95.05</td>\n",
       "      <td>102.99</td>\n",
       "      <td>56.25</td>\n",
       "      <td>99.07</td>\n",
       "      <td>50.00</td>\n",
       "    </tr>\n",
       "    <tr>\n",
       "      <th>7</th>\n",
       "      <td>7</td>\n",
       "      <td>72.85</td>\n",
       "      <td>86.85</td>\n",
       "      <td>60.00</td>\n",
       "      <td>NaN</td>\n",
       "      <td>56.11</td>\n",
       "    </tr>\n",
       "    <tr>\n",
       "      <th>8</th>\n",
       "      <td>8</td>\n",
       "      <td>84.26</td>\n",
       "      <td>93.10</td>\n",
       "      <td>47.50</td>\n",
       "      <td>18.52</td>\n",
       "      <td>50.83</td>\n",
       "    </tr>\n",
       "    <tr>\n",
       "      <th>9</th>\n",
       "      <td>7</td>\n",
       "      <td>90.10</td>\n",
       "      <td>97.55</td>\n",
       "      <td>51.25</td>\n",
       "      <td>88.89</td>\n",
       "      <td>63.61</td>\n",
       "    </tr>\n",
       "    <tr>\n",
       "      <th>10</th>\n",
       "      <td>7</td>\n",
       "      <td>80.44</td>\n",
       "      <td>90.20</td>\n",
       "      <td>75.00</td>\n",
       "      <td>91.48</td>\n",
       "      <td>39.72</td>\n",
       "    </tr>\n",
       "    <tr>\n",
       "      <th>11</th>\n",
       "      <td>6</td>\n",
       "      <td>86.26</td>\n",
       "      <td>80.60</td>\n",
       "      <td>74.38</td>\n",
       "      <td>87.59</td>\n",
       "      <td>77.50</td>\n",
       "    </tr>\n",
       "    <tr>\n",
       "      <th>12</th>\n",
       "      <td>8</td>\n",
       "      <td>97.16</td>\n",
       "      <td>103.71</td>\n",
       "      <td>72.50</td>\n",
       "      <td>93.52</td>\n",
       "      <td>63.33</td>\n",
       "    </tr>\n",
       "    <tr>\n",
       "      <th>13</th>\n",
       "      <td>7</td>\n",
       "      <td>91.28</td>\n",
       "      <td>83.53</td>\n",
       "      <td>81.25</td>\n",
       "      <td>99.81</td>\n",
       "      <td>92.22</td>\n",
       "    </tr>\n",
       "    <tr>\n",
       "      <th>14</th>\n",
       "      <td>8</td>\n",
       "      <td>84.80</td>\n",
       "      <td>89.08</td>\n",
       "      <td>44.38</td>\n",
       "      <td>16.91</td>\n",
       "      <td>35.83</td>\n",
       "    </tr>\n",
       "  </tbody>\n",
       "</table>\n",
       "</div>"
      ],
      "text/plain": [
       "    Prefix  Assignment  Tutorial  Midterm  TakeHome  Final\n",
       "0        5       57.14     34.09    64.38     51.48  52.50\n",
       "1        8       95.05    105.49    67.50     99.07  68.33\n",
       "2        8       83.70     83.17    30.00     63.15  48.89\n",
       "3        7       81.22     96.06    49.38    105.93  80.56\n",
       "4        8       91.32     93.64    95.00    107.41  73.89\n",
       "5        7       95.00     92.58    93.12     97.78  68.06\n",
       "6        8       95.05    102.99    56.25     99.07  50.00\n",
       "7        7       72.85     86.85    60.00       NaN  56.11\n",
       "8        8       84.26     93.10    47.50     18.52  50.83\n",
       "9        7       90.10     97.55    51.25     88.89  63.61\n",
       "10       7       80.44     90.20    75.00     91.48  39.72\n",
       "11       6       86.26     80.60    74.38     87.59  77.50\n",
       "12       8       97.16    103.71    72.50     93.52  63.33\n",
       "13       7       91.28     83.53    81.25     99.81  92.22\n",
       "14       8       84.80     89.08    44.38     16.91  35.83"
      ]
     },
     "execution_count": 4,
     "metadata": {},
     "output_type": "execute_result"
    }
   ],
   "source": [
    "grados.head (15)"
   ]
  },
  {
   "cell_type": "markdown",
   "metadata": {},
   "source": [
    "### Ejercicio 4\n",
    "\n",
    "Escriba un código en python que determine que columna tiene el mayor valor entre todas.\n",
    "\n",
    "#### Respuesta"
   ]
  },
  {
   "cell_type": "code",
   "execution_count": 5,
   "metadata": {
    "scrolled": true
   },
   "outputs": [
    {
     "data": {
      "text/plain": [
       "'Tutorial'"
      ]
     },
     "execution_count": 5,
     "metadata": {},
     "output_type": "execute_result"
    }
   ],
   "source": [
    "grados.columns.max()"
   ]
  },
  {
   "cell_type": "markdown",
   "metadata": {},
   "source": [
    "### Ejercicio 5\n",
    "\n",
    "\n",
    "Renombre las columnas de la tabla usando las siguientes denominaciones \"examen1\",\"examen2\".. y así sucesivamente hasta el final. No renombre la columna *prefix*. Además, transforme las notas a una escala de 0 a 5.\n",
    "\n",
    "#### Respuesta"
   ]
  },
  {
   "cell_type": "code",
   "execution_count": 6,
   "metadata": {
    "scrolled": true
   },
   "outputs": [
    {
     "data": {
      "text/html": [
       "<div>\n",
       "<style scoped>\n",
       "    .dataframe tbody tr th:only-of-type {\n",
       "        vertical-align: middle;\n",
       "    }\n",
       "\n",
       "    .dataframe tbody tr th {\n",
       "        vertical-align: top;\n",
       "    }\n",
       "\n",
       "    .dataframe thead th {\n",
       "        text-align: right;\n",
       "    }\n",
       "</style>\n",
       "<table border=\"1\" class=\"dataframe\">\n",
       "  <thead>\n",
       "    <tr style=\"text-align: right;\">\n",
       "      <th></th>\n",
       "      <th>Prefix</th>\n",
       "      <th>examen1</th>\n",
       "      <th>examen2</th>\n",
       "      <th>examen3</th>\n",
       "      <th>examen4</th>\n",
       "      <th>examen5</th>\n",
       "    </tr>\n",
       "  </thead>\n",
       "  <tbody>\n",
       "    <tr>\n",
       "      <th>0</th>\n",
       "      <td>5</td>\n",
       "      <td>57.14</td>\n",
       "      <td>34.09</td>\n",
       "      <td>64.38</td>\n",
       "      <td>51.48</td>\n",
       "      <td>52.50</td>\n",
       "    </tr>\n",
       "    <tr>\n",
       "      <th>1</th>\n",
       "      <td>8</td>\n",
       "      <td>95.05</td>\n",
       "      <td>105.49</td>\n",
       "      <td>67.50</td>\n",
       "      <td>99.07</td>\n",
       "      <td>68.33</td>\n",
       "    </tr>\n",
       "    <tr>\n",
       "      <th>2</th>\n",
       "      <td>8</td>\n",
       "      <td>83.70</td>\n",
       "      <td>83.17</td>\n",
       "      <td>30.00</td>\n",
       "      <td>63.15</td>\n",
       "      <td>48.89</td>\n",
       "    </tr>\n",
       "    <tr>\n",
       "      <th>3</th>\n",
       "      <td>7</td>\n",
       "      <td>81.22</td>\n",
       "      <td>96.06</td>\n",
       "      <td>49.38</td>\n",
       "      <td>105.93</td>\n",
       "      <td>80.56</td>\n",
       "    </tr>\n",
       "    <tr>\n",
       "      <th>4</th>\n",
       "      <td>8</td>\n",
       "      <td>91.32</td>\n",
       "      <td>93.64</td>\n",
       "      <td>95.00</td>\n",
       "      <td>107.41</td>\n",
       "      <td>73.89</td>\n",
       "    </tr>\n",
       "  </tbody>\n",
       "</table>\n",
       "</div>"
      ],
      "text/plain": [
       "   Prefix  examen1  examen2  examen3  examen4  examen5\n",
       "0       5    57.14    34.09    64.38    51.48    52.50\n",
       "1       8    95.05   105.49    67.50    99.07    68.33\n",
       "2       8    83.70    83.17    30.00    63.15    48.89\n",
       "3       7    81.22    96.06    49.38   105.93    80.56\n",
       "4       8    91.32    93.64    95.00   107.41    73.89"
      ]
     },
     "execution_count": 6,
     "metadata": {},
     "output_type": "execute_result"
    }
   ],
   "source": [
    "grados=grados.rename(columns={\"Assignment\":\"examen1\",\"Tutorial\":\"examen2\",\"Midterm\":\"examen3\",\"TakeHome\":\"examen4\",\"Final\":\"examen5\"})\n",
    "grados.head()\n"
   ]
  },
  {
   "cell_type": "code",
   "execution_count": 7,
   "metadata": {},
   "outputs": [
    {
     "data": {
      "text/html": [
       "<div>\n",
       "<style scoped>\n",
       "    .dataframe tbody tr th:only-of-type {\n",
       "        vertical-align: middle;\n",
       "    }\n",
       "\n",
       "    .dataframe tbody tr th {\n",
       "        vertical-align: top;\n",
       "    }\n",
       "\n",
       "    .dataframe thead th {\n",
       "        text-align: right;\n",
       "    }\n",
       "</style>\n",
       "<table border=\"1\" class=\"dataframe\">\n",
       "  <thead>\n",
       "    <tr style=\"text-align: right;\">\n",
       "      <th></th>\n",
       "      <th>Prefix</th>\n",
       "      <th>examen1</th>\n",
       "      <th>examen2</th>\n",
       "      <th>examen3</th>\n",
       "      <th>examen4</th>\n",
       "      <th>examen5</th>\n",
       "    </tr>\n",
       "  </thead>\n",
       "  <tbody>\n",
       "    <tr>\n",
       "      <th>0</th>\n",
       "      <td>5</td>\n",
       "      <td>2.833482</td>\n",
       "      <td>1.514034</td>\n",
       "      <td>2.926364</td>\n",
       "      <td>2.363853</td>\n",
       "      <td>2.410690</td>\n",
       "    </tr>\n",
       "    <tr>\n",
       "      <th>1</th>\n",
       "      <td>8</td>\n",
       "      <td>4.713379</td>\n",
       "      <td>4.685113</td>\n",
       "      <td>3.068182</td>\n",
       "      <td>4.549086</td>\n",
       "      <td>3.137570</td>\n",
       "    </tr>\n",
       "    <tr>\n",
       "      <th>2</th>\n",
       "      <td>8</td>\n",
       "      <td>4.150550</td>\n",
       "      <td>3.693818</td>\n",
       "      <td>1.363636</td>\n",
       "      <td>2.899715</td>\n",
       "      <td>2.244926</td>\n",
       "    </tr>\n",
       "    <tr>\n",
       "      <th>3</th>\n",
       "      <td>7</td>\n",
       "      <td>4.027571</td>\n",
       "      <td>4.266300</td>\n",
       "      <td>2.244545</td>\n",
       "      <td>4.864083</td>\n",
       "      <td>3.699146</td>\n",
       "    </tr>\n",
       "    <tr>\n",
       "      <th>4</th>\n",
       "      <td>8</td>\n",
       "      <td>4.528414</td>\n",
       "      <td>4.158820</td>\n",
       "      <td>4.318182</td>\n",
       "      <td>4.932042</td>\n",
       "      <td>3.392874</td>\n",
       "    </tr>\n",
       "  </tbody>\n",
       "</table>\n",
       "</div>"
      ],
      "text/plain": [
       "   Prefix   examen1   examen2   examen3   examen4   examen5\n",
       "0       5  2.833482  1.514034  2.926364  2.363853  2.410690\n",
       "1       8  4.713379  4.685113  3.068182  4.549086  3.137570\n",
       "2       8  4.150550  3.693818  1.363636  2.899715  2.244926\n",
       "3       7  4.027571  4.266300  2.244545  4.864083  3.699146\n",
       "4       8  4.528414  4.158820  4.318182  4.932042  3.392874"
      ]
     },
     "execution_count": 7,
     "metadata": {},
     "output_type": "execute_result"
    }
   ],
   "source": [
    "grados[\"examen1\"] = (grados[\"examen1\"] /grados[\"examen1\"].max())*5\n",
    "grados[\"examen2\"] = (grados[\"examen2\"] /grados[\"examen2\"].max())*5\n",
    "grados[\"examen3\"] = (grados[\"examen3\"] /grados[\"examen3\"].max())*5\n",
    "grados[\"examen4\"] = (grados[\"examen4\"] /grados[\"examen4\"].max())*5\n",
    "grados[\"examen5\"] = (grados[\"examen5\"] /grados[\"examen5\"].max())*5\n",
    "grados.head()\n"
   ]
  },
  {
   "cell_type": "markdown",
   "metadata": {},
   "source": [
    "### Ejercicio  6\n",
    "\n",
    "Escribir un código que determine si la nota promedio de la columna \"examen1\" es mayor que el promedio de la columna \"examen3\".\n",
    "\n",
    "#### Respuesta"
   ]
  },
  {
   "cell_type": "code",
   "execution_count": 8,
   "metadata": {},
   "outputs": [
    {
     "data": {
      "text/plain": [
       "True"
      ]
     },
     "execution_count": 8,
     "metadata": {},
     "output_type": "execute_result"
    }
   ],
   "source": [
    "grados[\"examen1\"].mean() > grados[\"examen3\"].mean()"
   ]
  },
  {
   "cell_type": "markdown",
   "metadata": {},
   "source": [
    "### Ejercicio 7\n",
    "\n",
    "Añada una nuava columna a la tabla con el nombre *promedio* y almacene ahí la nota promedio del curso para cada estudiante. Todos los examenes valen el mismo porcentaje.\n",
    "\n",
    "#### Respuesta"
   ]
  },
  {
   "cell_type": "code",
   "execution_count": 9,
   "metadata": {},
   "outputs": [
    {
     "data": {
      "text/html": [
       "<div>\n",
       "<style scoped>\n",
       "    .dataframe tbody tr th:only-of-type {\n",
       "        vertical-align: middle;\n",
       "    }\n",
       "\n",
       "    .dataframe tbody tr th {\n",
       "        vertical-align: top;\n",
       "    }\n",
       "\n",
       "    .dataframe thead th {\n",
       "        text-align: right;\n",
       "    }\n",
       "</style>\n",
       "<table border=\"1\" class=\"dataframe\">\n",
       "  <thead>\n",
       "    <tr style=\"text-align: right;\">\n",
       "      <th></th>\n",
       "      <th>Prefix</th>\n",
       "      <th>examen1</th>\n",
       "      <th>examen2</th>\n",
       "      <th>examen3</th>\n",
       "      <th>examen4</th>\n",
       "      <th>examen5</th>\n",
       "      <th>promedio</th>\n",
       "    </tr>\n",
       "  </thead>\n",
       "  <tbody>\n",
       "    <tr>\n",
       "      <th>0</th>\n",
       "      <td>5</td>\n",
       "      <td>2.833482</td>\n",
       "      <td>1.514034</td>\n",
       "      <td>2.926364</td>\n",
       "      <td>2.363853</td>\n",
       "      <td>2.410690</td>\n",
       "      <td>2.409685</td>\n",
       "    </tr>\n",
       "    <tr>\n",
       "      <th>1</th>\n",
       "      <td>8</td>\n",
       "      <td>4.713379</td>\n",
       "      <td>4.685113</td>\n",
       "      <td>3.068182</td>\n",
       "      <td>4.549086</td>\n",
       "      <td>3.137570</td>\n",
       "      <td>4.030666</td>\n",
       "    </tr>\n",
       "    <tr>\n",
       "      <th>2</th>\n",
       "      <td>8</td>\n",
       "      <td>4.150550</td>\n",
       "      <td>3.693818</td>\n",
       "      <td>1.363636</td>\n",
       "      <td>2.899715</td>\n",
       "      <td>2.244926</td>\n",
       "      <td>2.870529</td>\n",
       "    </tr>\n",
       "    <tr>\n",
       "      <th>3</th>\n",
       "      <td>7</td>\n",
       "      <td>4.027571</td>\n",
       "      <td>4.266300</td>\n",
       "      <td>2.244545</td>\n",
       "      <td>4.864083</td>\n",
       "      <td>3.699146</td>\n",
       "      <td>3.820329</td>\n",
       "    </tr>\n",
       "    <tr>\n",
       "      <th>4</th>\n",
       "      <td>8</td>\n",
       "      <td>4.528414</td>\n",
       "      <td>4.158820</td>\n",
       "      <td>4.318182</td>\n",
       "      <td>4.932042</td>\n",
       "      <td>3.392874</td>\n",
       "      <td>4.266066</td>\n",
       "    </tr>\n",
       "  </tbody>\n",
       "</table>\n",
       "</div>"
      ],
      "text/plain": [
       "   Prefix   examen1   examen2   examen3   examen4   examen5  promedio\n",
       "0       5  2.833482  1.514034  2.926364  2.363853  2.410690  2.409685\n",
       "1       8  4.713379  4.685113  3.068182  4.549086  3.137570  4.030666\n",
       "2       8  4.150550  3.693818  1.363636  2.899715  2.244926  2.870529\n",
       "3       7  4.027571  4.266300  2.244545  4.864083  3.699146  3.820329\n",
       "4       8  4.528414  4.158820  4.318182  4.932042  3.392874  4.266066"
      ]
     },
     "execution_count": 9,
     "metadata": {},
     "output_type": "execute_result"
    }
   ],
   "source": [
    "grados[\"promedio\"]=(grados[\"examen1\"]+grados[\"examen2\"]+grados[\"examen3\"]+grados[\"examen4\"]+grados[\"examen5\"])/5\n",
    "grados.head()"
   ]
  },
  {
   "cell_type": "markdown",
   "metadata": {},
   "source": [
    "### Ejercicio 8\n",
    "\n",
    "Escriba un  código que imprima sobre la pantalla en mensaje:\n",
    "\n",
    "        La nota promedio del curso fue (resultado)\n",
    "        \n",
    "con su respectivo resultado\n",
    "\n",
    "#### Respuesta"
   ]
  },
  {
   "cell_type": "code",
   "execution_count": 10,
   "metadata": {},
   "outputs": [
    {
     "name": "stdout",
     "output_type": "stream",
     "text": [
      "La nota promedio del curso fue  3.630086968581552\n"
     ]
    }
   ],
   "source": [
    "print(\"La nota promedio del curso fue \", grados[\"promedio\"].mean())"
   ]
  },
  {
   "cell_type": "markdown",
   "metadata": {},
   "source": [
    "### Ejercicio 9\n",
    "\n",
    "Escriba un código que calcule el rango de las notas en el *examen4* y lo muestre en la pantalla con el mensaje : \n",
    "\n",
    "        El rango de notas del cuarto examen es : (resultado)\n",
    "\n",
    "#### Respuesta"
   ]
  },
  {
   "cell_type": "code",
   "execution_count": 11,
   "metadata": {},
   "outputs": [],
   "source": [
    "rango=grados[\"examen4\"].max() -grados[\"examen4\"].min()"
   ]
  },
  {
   "cell_type": "code",
   "execution_count": 12,
   "metadata": {},
   "outputs": [
    {
     "name": "stdout",
     "output_type": "stream",
     "text": [
      "El rango de notas del cuarto examen es  4.223528331343558\n"
     ]
    }
   ],
   "source": [
    "print(\"El rango de notas del cuarto examen es \",rango)"
   ]
  },
  {
   "cell_type": "markdown",
   "metadata": {},
   "source": [
    "### Ejercicio 10\n",
    "\n",
    "Escriba un código que calcule la desviación estandard de las notas del segundo examen.\n",
    "\n",
    "#### Respuesta"
   ]
  },
  {
   "cell_type": "code",
   "execution_count": 13,
   "metadata": {},
   "outputs": [
    {
     "name": "stdout",
     "output_type": "stream",
     "text": [
      "La desviación estandard de la nota del curso fue 0.6693709204695738\n"
     ]
    }
   ],
   "source": [
    "print(\"La desviación estandard de la nota del curso fue\", grados[\"examen2\"].std())"
   ]
  },
  {
   "cell_type": "markdown",
   "metadata": {},
   "source": [
    "### Ejercicio  11\n",
    "\n",
    "Escriba un código que imprima en la pantalla el número de filas y columnas del dataframe que almacena los datos.\n",
    "\n",
    "#### Respuesta"
   ]
  },
  {
   "cell_type": "code",
   "execution_count": 14,
   "metadata": {},
   "outputs": [
    {
     "data": {
      "text/plain": [
       "(99, 7)"
      ]
     },
     "execution_count": 14,
     "metadata": {},
     "output_type": "execute_result"
    }
   ],
   "source": [
    "grados.shape"
   ]
  },
  {
   "cell_type": "markdown",
   "metadata": {},
   "source": [
    "### Ejercicio 12\n",
    "\n",
    "Imprima una lista que contenga los nombres de las columnas en el Dataframe \"df\"\n",
    "\n",
    "#### Respuesta"
   ]
  },
  {
   "cell_type": "code",
   "execution_count": 15,
   "metadata": {},
   "outputs": [
    {
     "data": {
      "text/plain": [
       "Index(['Prefix', 'examen1', 'examen2', 'examen3', 'examen4', 'examen5',\n",
       "       'promedio'],\n",
       "      dtype='object')"
      ]
     },
     "execution_count": 15,
     "metadata": {},
     "output_type": "execute_result"
    }
   ],
   "source": [
    "grados.columns"
   ]
  },
  {
   "cell_type": "markdown",
   "metadata": {},
   "source": []
  },
  {
   "cell_type": "markdown",
   "metadata": {},
   "source": [
    "### Ejercicio 13\n",
    "\n",
    "Muestre sobre la pantalla la nota del mejor estudiante del curso y del peor con un texto alusivo\n",
    "\n",
    "#### Respuesta"
   ]
  },
  {
   "cell_type": "code",
   "execution_count": 16,
   "metadata": {},
   "outputs": [
    {
     "name": "stdout",
     "output_type": "stream",
     "text": [
      "El mejor estudiante obtuvo una nota de 4.817320783050574\n"
     ]
    }
   ],
   "source": [
    "grados[\"promedio\"].max()\n",
    "print (\"El mejor estudiante obtuvo una nota de\", grados [\"promedio\"].max())"
   ]
  },
  {
   "cell_type": "code",
   "execution_count": 17,
   "metadata": {},
   "outputs": [
    {
     "name": "stdout",
     "output_type": "stream",
     "text": [
      "El peor estudiante obtuvo una nota de 2.371503902780943\n"
     ]
    }
   ],
   "source": [
    "grados[\"promedio\"].min()\n",
    "print (\"El peor estudiante obtuvo una nota de\", grados [\"promedio\"].min())"
   ]
  },
  {
   "cell_type": "markdown",
   "metadata": {},
   "source": [
    "### Ejercicio 14\n",
    "\n",
    "Escriba un código que determine el porcentaje de estudiantes que pasaron la materia?\n",
    "\n",
    "#### Respuesta"
   ]
  },
  {
   "cell_type": "code",
   "execution_count": 18,
   "metadata": {},
   "outputs": [
    {
     "data": {
      "text/plain": [
       "80"
      ]
     },
     "execution_count": 18,
     "metadata": {},
     "output_type": "execute_result"
    }
   ],
   "source": [
    "# no. de estudiantes que pasaron la materia\n",
    "estganados = grados[grados[\"promedio\"] > 3.0]\n",
    "estganados.shape[0]"
   ]
  },
  {
   "cell_type": "code",
   "execution_count": 19,
   "metadata": {},
   "outputs": [
    {
     "data": {
      "text/plain": [
       "99"
      ]
     },
     "execution_count": 19,
     "metadata": {},
     "output_type": "execute_result"
    }
   ],
   "source": [
    "# estudiantes en total\n",
    "grados.shape[0]"
   ]
  },
  {
   "cell_type": "code",
   "execution_count": 39,
   "metadata": {},
   "outputs": [
    {
     "data": {
      "text/plain": [
       "80.8080808080808"
      ]
     },
     "execution_count": 39,
     "metadata": {},
     "output_type": "execute_result"
    }
   ],
   "source": [
    "# porcentaje de estudiantes que pasaron la materia = (# de estudiantes ganados / # total de estudiantes) *100\n",
    "pasaron = (estganados/grados)\n",
    "\n",
    "\n",
    "(80/99)*100"
   ]
  },
  {
   "cell_type": "markdown",
   "metadata": {},
   "source": [
    "### Ejercicio 15\n",
    "\n",
    "Cuántos estudiantes tuvieron una nota menor a 2?\n",
    "\n",
    "#### Respuesta"
   ]
  },
  {
   "cell_type": "code",
   "execution_count": 21,
   "metadata": {},
   "outputs": [
    {
     "data": {
      "text/plain": [
       "0     False\n",
       "1     False\n",
       "2     False\n",
       "3     False\n",
       "4     False\n",
       "      ...  \n",
       "94    False\n",
       "95    False\n",
       "96    False\n",
       "97    False\n",
       "98    False\n",
       "Name: promedio, Length: 99, dtype: bool"
      ]
     },
     "execution_count": 21,
     "metadata": {},
     "output_type": "execute_result"
    }
   ],
   "source": [
    "grados[\"promedio\"] < 2"
   ]
  },
  {
   "cell_type": "code",
   "execution_count": 22,
   "metadata": {},
   "outputs": [
    {
     "data": {
      "text/plain": [
       "0"
      ]
     },
     "execution_count": 22,
     "metadata": {},
     "output_type": "execute_result"
    }
   ],
   "source": [
    "prommenor2= grados[grados[\"promedio\"] < 2]\n",
    "prommenor2.shape[0]"
   ]
  },
  {
   "cell_type": "code",
   "execution_count": 23,
   "metadata": {},
   "outputs": [
    {
     "name": "stdout",
     "output_type": "stream",
     "text": [
      "la cantidad de estudiantes que obtuvieron promedio menor a 2 fue de 0\n"
     ]
    }
   ],
   "source": [
    "print (\"la cantidad de estudiantes que obtuvieron promedio menor a 2 fue de\", prommenor2.shape [0])"
   ]
  },
  {
   "cell_type": "markdown",
   "metadata": {},
   "source": [
    "### Ejercicio 16\n",
    "\n",
    "Escriba un código que le permita determinar si el número de estudiantes que obtuvieron más de 4 es mayor al numero de estudiantes que perdieron con menos de 2.\n",
    "\n",
    "#### Respuesta\n",
    "\n"
   ]
  },
  {
   "cell_type": "code",
   "execution_count": 24,
   "metadata": {},
   "outputs": [],
   "source": [
    "mayor4=(grados[\"promedio\"] >4) \n",
    "menor2=(grados[\"promedio\"] <2)"
   ]
  },
  {
   "cell_type": "code",
   "execution_count": 34,
   "metadata": {
    "scrolled": true
   },
   "outputs": [
    {
     "data": {
      "text/plain": [
       "0     False\n",
       "1      True\n",
       "2     False\n",
       "3     False\n",
       "4      True\n",
       "      ...  \n",
       "94    False\n",
       "95    False\n",
       "96     True\n",
       "97    False\n",
       "98    False\n",
       "Name: promedio, Length: 99, dtype: bool"
      ]
     },
     "execution_count": 34,
     "metadata": {},
     "output_type": "execute_result"
    }
   ],
   "source": [
    "mayor4 > menor2"
   ]
  },
  {
   "cell_type": "markdown",
   "metadata": {},
   "source": [
    "### Ejercicio 17\n",
    "\n",
    "Escriba un código que imprima el porcentaje de estudiantes que sacaron una nota entre 2 y 3.\n",
    "\n",
    "#### Respuesta"
   ]
  },
  {
   "cell_type": "code",
   "execution_count": 27,
   "metadata": {},
   "outputs": [
    {
     "data": {
      "text/plain": [
       "18"
      ]
     },
     "execution_count": 27,
     "metadata": {},
     "output_type": "execute_result"
    }
   ],
   "source": [
    "prom2y3= grados[(grados[\"promedio\"] >2) & (grados[\"promedio\"] <3)]\n",
    "# cuantos estudiantes hay con promedio entre 2 y 3\n",
    "prom2y3.shape[0]"
   ]
  },
  {
   "cell_type": "code",
   "execution_count": 28,
   "metadata": {},
   "outputs": [
    {
     "data": {
      "text/plain": [
       "<bound method NDFrame.head of     Prefix   examen1   examen2   examen3   examen4   examen5  promedio\n",
       "0        5  2.833482  1.514034  2.926364  2.363853  2.410690  2.409685\n",
       "2        8  4.150550  3.693818  1.363636  2.899715  2.244926  2.870529\n",
       "8        8  4.178320  4.134837  2.159091  0.850399  2.334007  2.731331\n",
       "14       8  4.205098  3.956298  2.017273  0.776472  1.645238  2.520076\n",
       "16       8  4.205098  3.956298  2.159091  0.776472  2.448802  2.709152\n",
       "22       8  3.162749  3.384704  1.790000  1.938654  1.581412  2.371504\n",
       "36       6  4.713379  3.119559  2.386364  2.406557  2.193957  2.963963\n",
       "37       7  4.457503  2.574614  1.477273  3.911746  2.372578  2.958743\n",
       "40       6  1.395418  2.598597  3.295455  2.465791  3.137570  2.578566\n",
       "44       6  2.833482  1.514034  3.040000  2.363853  2.563596  2.462993\n",
       "45       7  4.652881  2.545745  1.278182  3.579759  2.092019  2.829717\n",
       "46       8  3.419121  2.891721  2.017273  2.636147  2.997520  2.792356\n",
       "54       8  3.559952  4.568751  2.471364  0.988612  1.658095  2.649355\n",
       "55       8  3.559952  4.515900  3.409091  0.988612  2.270181  2.948747\n",
       "58       8  3.419121  2.891721  1.818182  2.636147  3.622463  2.877527\n",
       "59       7  3.612516  3.857257  1.875000  2.772064  2.142988  2.851965\n",
       "60       8  3.559952  4.568751  1.903636  1.137386  1.611718  2.556289\n",
       "86       6  4.883963  4.238319  1.931818  1.137386  1.811002  2.800498>"
      ]
     },
     "execution_count": 28,
     "metadata": {},
     "output_type": "execute_result"
    }
   ],
   "source": [
    "# estos son los 18 estudiantes con promedio entre 2 y 3\n",
    "prom2y3.head"
   ]
  },
  {
   "cell_type": "code",
   "execution_count": 20,
   "metadata": {},
   "outputs": [
    {
     "data": {
      "text/plain": [
       "18.181818181818183"
      ]
     },
     "execution_count": 20,
     "metadata": {},
     "output_type": "execute_result"
    }
   ],
   "source": [
    "#porcentaje     es      (prom2y3/grados)*100\n",
    "\n",
    "(18 / 99)*100"
   ]
  },
  {
   "cell_type": "markdown",
   "metadata": {},
   "source": [
    "## Visualización de datos"
   ]
  },
  {
   "cell_type": "markdown",
   "metadata": {},
   "source": [
    "### Ejercicio 18\n",
    "\n",
    "Escriba un código que imprima la distribución de notas (histograma) de los resultados del tercer examen. El histograma debe ser 15 pulgadas de ancho, 10 de altura, sin malla y con 15 bins.\n",
    "\n",
    "#### Respuesta"
   ]
  },
  {
   "cell_type": "code",
   "execution_count": 29,
   "metadata": {},
   "outputs": [
    {
     "data": {
      "text/plain": [
       "<AxesSubplot:>"
      ]
     },
     "execution_count": 29,
     "metadata": {},
     "output_type": "execute_result"
    },
    {
     "data": {
      "image/png": "[encoded data removed]",
      "text/plain": [
       "<Figure size 1080x720 with 1 Axes>"
      ]
     },
     "metadata": {
      "needs_background": "light"
     },
     "output_type": "display_data"
    }
   ],
   "source": [
    "grados[\"examen3\"].hist(bins=15, grid=False, figsize=(15,10))\n"
   ]
  },
  {
   "cell_type": "markdown",
   "metadata": {},
   "source": [
    "### Ejercicio 19\n",
    "\n",
    "Escriba un código que muestre el diagrama de dispersión entre las notas del primer examen y el segundo. \n",
    "\n",
    "    Se puede observar algun posible patrón?\n",
    "\n",
    "#### Respuesta"
   ]
  },
  {
   "cell_type": "code",
   "execution_count": 30,
   "metadata": {},
   "outputs": [
    {
     "data": {
      "text/plain": [
       "<AxesSubplot:xlabel='examen1', ylabel='examen2'>"
      ]
     },
     "execution_count": 30,
     "metadata": {},
     "output_type": "execute_result"
    },
    {
     "data": {
      "image/png": "[encoded data removed]",
      "text/plain": [
       "<Figure size 432x432 with 1 Axes>"
      ]
     },
     "metadata": {
      "needs_background": "light"
     },
     "output_type": "display_data"
    }
   ],
   "source": [
    "grados.plot.scatter(x=\"examen1\", y=\"examen2\", figsize=(6,6))"
   ]
  },
  {
   "cell_type": "code",
   "execution_count": 19,
   "metadata": {},
   "outputs": [],
   "source": [
    "# en los examenes 1 y 2, las notas fueron altas, la mayoria están concentradas entre 4 y 5"
   ]
  },
  {
   "cell_type": "markdown",
   "metadata": {},
   "source": [
    "### Ejercicio 20\n",
    "\n",
    "Dibuje un diagrama de caja de las notas finales del curso.\n",
    "\n",
    "        Que interpretación se puede extraer del resultado?\n",
    "\n",
    "#### Respuesta"
   ]
  },
  {
   "cell_type": "code",
   "execution_count": 32,
   "metadata": {},
   "outputs": [
    {
     "data": {
      "text/plain": [
       "<AxesSubplot:>"
      ]
     },
     "execution_count": 32,
     "metadata": {},
     "output_type": "execute_result"
    },
    {
     "data": {
      "image/png": "[encoded data removed]",
      "text/plain": [
       "<Figure size 432x432 with 1 Axes>"
      ]
     },
     "metadata": {
      "needs_background": "light"
     },
     "output_type": "display_data"
    }
   ],
   "source": [
    "grados[\"promedio\"].plot.box(figsize = (6,6))"
   ]
  },
  {
   "cell_type": "code",
   "execution_count": 33,
   "metadata": {},
   "outputs": [],
   "source": [
    "# significa que la distribución no es simetrica "
   ]
  }
 ],
 "metadata": {
  "kernelspec": {
   "display_name": "Python 3",
   "language": "python",
   "name": "python3"
  },
  "language_info": {
   "codemirror_mode": {
    "name": "ipython",
    "version": 3
   },
   "file_extension": ".py",
   "mimetype": "text/x-python",
   "name": "python",
   "nbconvert_exporter": "python",
   "pygments_lexer": "ipython3",
   "version": "3.7.8"
  }
 },
 "nbformat": 4,
 "nbformat_minor": 4
}
