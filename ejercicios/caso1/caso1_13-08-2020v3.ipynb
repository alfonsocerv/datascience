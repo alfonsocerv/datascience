{
 "cells": [
  {
   "cell_type": "markdown",
   "metadata": {},
   "source": [
    "## Caso 1 \n",
    "### Explorando y calculando algunas estadísticas de los resultados de un curso de Ingeniería Química en la Universidad McMaster.\n"
   ]
  },
  {
   "cell_type": "markdown",
   "metadata": {},
   "source": [
    "Profesor Alfonso Cervantes Barragán  - 5 de agosto de 2020"
   ]
  },
  {
   "cell_type": "markdown",
   "metadata": {},
   "source": [
    "### Objetivo\n",
    "Al final de este caso, el objetivo es aportar una idea general sobre como se realizara en trabajo con datos, su lectura, manipulación y escritura de archivos csv mediante el uso de la libreria pandas en Python.\n"
   ]
  },
  {
   "cell_type": "markdown",
   "metadata": {},
   "source": [
    "### Que se entiende por Python?\n",
    "\n",
    "Python es un lenguaje de programación de propósito general que permite análisis de datos simples y complejos, muy sencillo de aprender de tal manera que permite no sólo a ingenieros sino tambíen a profesionales de carreras no técnicas el análisis de datos para la toma de decisión."
   ]
  },
  {
   "cell_type": "markdown",
   "metadata": {},
   "source": [
    "### Introducción"
   ]
  },
  {
   "cell_type": "markdown",
   "metadata": {},
   "source": [
    "Estas trabajando para la Universidad de McMaster en el Dpto. de Ingenería Química y te han pedido revises las notas resultantes de los diferentes componentes calificables. Esas notas se encuentran en el archivo class-grades.csv. Según el profesor del curso en el archivo Class-grades.csv los valores registrados son el promedio de los subcomponentes: por ejemplo, la variable Tutorial es el promedio de todos los tutoriales realizados, la variable del examen final es el promedio de todas las preguntas en el examen escrito final."
   ]
  },
  {
   "cell_type": "markdown",
   "metadata": {},
   "source": [
    "#### Que es una libreria o biblioteca externa?"
   ]
  },
  {
   "cell_type": "markdown",
   "metadata": {},
   "source": [
    "Las bibliotecas externas (también conocidas como paquetes) son bases de código que contienen una variedad de funciones y herramientas previamente escritas. Esto le permite realizar una variedad de tareas complejas en Python.\n",
    "\n",
    "Iniciaremos con dos paquetes principales: *Pandas y numpy*."
   ]
  },
  {
   "cell_type": "markdown",
   "metadata": {},
   "source": [
    "#### Introducción a  Pandas"
   ]
  },
  {
   "cell_type": "markdown",
   "metadata": {},
   "source": [
    "Pandas es una biblioteca externa que proporciona funcionalidad para el análisis de datos. Pandas ofrece específicamente una variedad de estructuras de datos y métodos de manipulación de datos que le permiten realizar tareas complejas con comandos simples de una línea.\n",
    "\n",
    "Una de sus ventajas es que permite crear tablas de datos básicas (similar a una hoja de cálculo de Excel) utilizando listas anidadas. Esta estructura de datos en forma de tabla es conocida como DataFrame y ofrece un conjunto de funciones que permiten fácilmente la manipulación de los datos pensado como un conjunto de filas y columnas. \n",
    "\n",
    "Comando :  \n",
    "\n",
    "> import ***nombre_de_libreria*** as ***Alias***\n",
    "                     \n",
    "El alias es un nombre alternativo mediante el cual accederemos a las herramientas que ofrece una libreria."
   ]
  },
  {
   "cell_type": "code",
   "execution_count": null,
   "metadata": {},
   "outputs": [],
   "source": [
    "# importando la libreria pandas\n",
    "import pandas as pd"
   ]
  },
  {
   "cell_type": "markdown",
   "metadata": {},
   "source": [
    "#### Introducción a Numpy"
   ]
  },
  {
   "cell_type": "markdown",
   "metadata": {},
   "source": [
    "*Numpy* es un libreria que usaremos más adelante la cuál ofrece numerosas operaciones matemáticas. Juntos, pandas y numpy le permiten crear un flujo de trabajo de ciencia de datos dentro de Python. numpy es fundamental en muchos aspectos para *pandas*, ya que proporciona operaciones vectorizadas, mientras que pandas proporciona abstracciones de mayor nivel construidas sobre numpy."
   ]
  },
  {
   "cell_type": "code",
   "execution_count": null,
   "metadata": {},
   "outputs": [],
   "source": [
    "# importando numby\n",
    "import numpy as np"
   ]
  },
  {
   "cell_type": "markdown",
   "metadata": {},
   "source": [
    "Ahora que estos paquetes están cargados en Python, podemos usar sus contenidos. "
   ]
  },
  {
   "cell_type": "markdown",
   "metadata": {},
   "source": [
    "#### Que es un archivo CSV?"
   ]
  },
  {
   "cell_type": "markdown",
   "metadata": {},
   "source": [
    "Un archivo CSV (Comma-Separated Values) es un archivo de texto plano que contiene una lista de datos. Los archivos que terminan en la extensión .CSV se utilizan a menudo para el intercambio de datos entre diferentes aplicaciones. Por ejemplo, las bases de datos y los gestores de contactos suelen admitir archivos CSV.\n",
    "\n",
    "*Ejemplo* : a continuación se presenta una tabla excel."
   ]
  },
  {
   "cell_type": "markdown",
   "metadata": {},
   "source": [
    "![adfas](https://comofriki.com/wp-content/uploads/2017/12/csv-min.jpg \"Philadelphia's Magic Gardens\")"
   ]
  },
  {
   "cell_type": "markdown",
   "metadata": {},
   "source": [
    "Esos mismos datos almacenados en formato csv tendrían la forma:\n",
    "\n",
    "Nombre,Año,Apartamento,Cuarto,Hotel  \n",
    "Joaquin Fernandez,2017,102,1,Verano  \n",
    "Junior Maccry,2016,104,2,Cacias  \n",
    "Donna May,2015,105,3,Draft  \n",
    "Kamila Kimbely,2014,106,4,Montaña  \n",
    "Daniela Perez,2013,108,5,Azul\n",
    "\n",
    "Aquí, los campos de datos en cada fila están delimitados con una coma y las filas individuales están separadas por saltos de linea."
   ]
  },
  {
   "cell_type": "markdown",
   "metadata": {},
   "source": [
    "### Lectura de el archivo de datos\n",
    "\n",
    "Se te a proporcionado un archivo CSV que contiene los datos de las notas del curso. Pandas te permite cargar fácilmente archivos CSV mediante el uso del método pd.read_csv ():\n"
   ]
  },
  {
   "cell_type": "code",
   "execution_count": null,
   "metadata": {},
   "outputs": [],
   "source": [
    "df = pd.read_csv(\"class-grades.csv\")"
   ]
  },
  {
   "cell_type": "markdown",
   "metadata": {},
   "source": [
    "### Explorando el archivo de datos\n",
    "\n",
    "Mostrar los primeros cinco registros"
   ]
  },
  {
   "cell_type": "code",
   "execution_count": null,
   "metadata": {
    "scrolled": true
   },
   "outputs": [],
   "source": [
    "df.head()"
   ]
  },
  {
   "cell_type": "markdown",
   "metadata": {},
   "source": [
    "Mostrando los primero 15 registros"
   ]
  },
  {
   "cell_type": "code",
   "execution_count": null,
   "metadata": {
    "scrolled": false
   },
   "outputs": [],
   "source": [
    "df.head(15)"
   ]
  },
  {
   "cell_type": "markdown",
   "metadata": {},
   "source": [
    "Mostrando los últimios 5 registros"
   ]
  },
  {
   "cell_type": "code",
   "execution_count": null,
   "metadata": {
    "scrolled": false
   },
   "outputs": [],
   "source": [
    "df.tail()"
   ]
  },
  {
   "cell_type": "markdown",
   "metadata": {},
   "source": [
    "#### Ejercicio\n",
    "Muestre los últimos 10 registros de \"df\".\n",
    "\n",
    "*Respuesta*"
   ]
  },
  {
   "cell_type": "code",
   "execution_count": null,
   "metadata": {},
   "outputs": [],
   "source": [
    "df.tail(10)"
   ]
  },
  {
   "cell_type": "markdown",
   "metadata": {},
   "source": [
    "Extraiendo los nombres de las columnas"
   ]
  },
  {
   "cell_type": "code",
   "execution_count": null,
   "metadata": {},
   "outputs": [],
   "source": [
    "df.columns"
   ]
  },
  {
   "cell_type": "markdown",
   "metadata": {},
   "source": [
    "Extraiendo el maximo valor de la columna Tutorial.\n",
    "\n",
    "Para poder extraer información basada únicamente en los datos de una de las columnas del Dataframe hay que hacer referencia a esa columna usando su nombre exacto en el DataFrame."
   ]
  },
  {
   "cell_type": "code",
   "execution_count": null,
   "metadata": {},
   "outputs": [],
   "source": [
    "df[\"Tutorial\"].max()"
   ]
  },
  {
   "cell_type": "markdown",
   "metadata": {},
   "source": [
    "Calculando el minimo valor de la columna *Midterm*"
   ]
  },
  {
   "cell_type": "code",
   "execution_count": null,
   "metadata": {},
   "outputs": [],
   "source": [
    "df[\"Midterm\"].min()"
   ]
  },
  {
   "cell_type": "markdown",
   "metadata": {},
   "source": [
    "#### Ejercicio\n",
    "Calcular el valor mínimo de la columna \"TakeHome\"\n",
    "\n",
    "*Respuesta*"
   ]
  },
  {
   "cell_type": "code",
   "execution_count": null,
   "metadata": {},
   "outputs": [],
   "source": [
    "df[\"TakeHome\"].min()"
   ]
  },
  {
   "cell_type": "markdown",
   "metadata": {},
   "source": [
    "En la exploración del contenido de los datos de un dataframe es importante tambíen conocer el rango de los datos en una columna cuando este contiene datos númericos, es decir, la diferencia entre el mínimo y el máximo."
   ]
  },
  {
   "cell_type": "code",
   "execution_count": null,
   "metadata": {},
   "outputs": [],
   "source": [
    "# Calculando el rango de la columna Midterm\n",
    "rango = df[\"Midterm\"].max() - df[\"Midterm\"].min()\n",
    "# imprimiendo el rango de la columna Midterm\n",
    "print(\"El rango de Midterm es \", rango)"
   ]
  },
  {
   "cell_type": "markdown",
   "metadata": {},
   "source": [
    "La función *print* simplemente envía datos a su pantalla (no tiene nada que ver con una impresora de computadora."
   ]
  },
  {
   "cell_type": "markdown",
   "metadata": {},
   "source": [
    "### Ejercicio\n",
    "\n",
    "Determine el rango en el que se encuentran las notas de los estudiantes en la evaluación \"Final\" e imprima el resultado en la pantalla.\n",
    "\n",
    "#### Respuesta"
   ]
  },
  {
   "cell_type": "code",
   "execution_count": null,
   "metadata": {},
   "outputs": [],
   "source": [
    "# Calculando el rango de la columna Midterm\n",
    "rango_final = df[\"Final\"].max() - df[\"Final\"].min()\n",
    "# imprimiendo el rango de la columna Midterm\n",
    "print(\"El rango de Final es \", rango_final)"
   ]
  },
  {
   "cell_type": "markdown",
   "metadata": {},
   "source": [
    "### Manipulando el contenido de un DataFrame\n",
    "\n",
    "Muchas veces los nombres de las columnas de un DataFrame no son lo suficientemente informativo por lo que para facilitar su uso es requerido adaptar los nombres de las columnas."
   ]
  },
  {
   "cell_type": "markdown",
   "metadata": {},
   "source": [
    "#### Cambiando el nombre de las columnas"
   ]
  },
  {
   "cell_type": "code",
   "execution_count": null,
   "metadata": {},
   "outputs": [],
   "source": [
    "# renombrando las columnas Assignment, tutorial, midterm and takehome\n",
    "df=  df.rename(columns={\"Assignment\":\"Primer corte\", \"Tutorial\":\"Segundo corte\",\"Midterm\":\"Tercer Corte\",\"TakeHome\":\"Participacion\"})\n"
   ]
  },
  {
   "cell_type": "markdown",
   "metadata": {},
   "source": [
    "### Ejercicio\n",
    "\n",
    "Imprima la lista que contiene los nombres de las columnas en el Dataframe \"df\"\n",
    "\n",
    "#### Respuesta"
   ]
  },
  {
   "cell_type": "code",
   "execution_count": null,
   "metadata": {},
   "outputs": [],
   "source": [
    "df.columns"
   ]
  },
  {
   "cell_type": "markdown",
   "metadata": {},
   "source": [
    "### Cambiando a una escala de notas de 0 a 5\n",
    "\n",
    "Los valores de las evaluaciones no se encuentran en una escala de 0 a 5, que es la escala nominal en la cual indicamos el desempeño de un estudiante en Colombia. Para eso vamos a asumir que el valor máximo que se puede alcanzar corresponde con el valor máximo de cada columna.\n",
    "\n",
    "Una posible solución es :  (tomar_valor_de_cada_campo_en una_columna/maximo_columna)*5 \n"
   ]
  },
  {
   "cell_type": "code",
   "execution_count": null,
   "metadata": {},
   "outputs": [],
   "source": [
    "df[\"Primer corte\"] = (df[\"Primer corte\"]/df[\"Primer corte\"].max())*5"
   ]
  },
  {
   "cell_type": "markdown",
   "metadata": {},
   "source": [
    "#### Ejercicio\n",
    "Muestre las 8 primeras filas del Dataframe \"df\""
   ]
  },
  {
   "cell_type": "markdown",
   "metadata": {},
   "source": [
    "*Respuesta*"
   ]
  },
  {
   "cell_type": "code",
   "execution_count": null,
   "metadata": {},
   "outputs": [],
   "source": [
    "df.head(8)"
   ]
  },
  {
   "cell_type": "markdown",
   "metadata": {},
   "source": [
    "Como nos podemos dar cuenta los valores en la columna *Primer corte* ya se encuentran en un rango de 0 a 5, pero cada uno esta indicado con un gran número de decimales. Ahora lo que vamos a hacer es redondear el resultado a sólo dos decimales.\n",
    "\n",
    "Para eso vamos a utilizar el método round(valor, no. de decimales) de la libreria Numpy que retorna el mismo valor pero redondeado a 2 decimales. \n",
    "\n",
    "Al final imprima las 7 primeras filas del DataFrame"
   ]
  },
  {
   "cell_type": "code",
   "execution_count": null,
   "metadata": {},
   "outputs": [],
   "source": [
    "df[\"Primer corte\"] = np.round(df[\"Primer corte\"],2)\n",
    "df.head()"
   ]
  },
  {
   "cell_type": "markdown",
   "metadata": {},
   "source": [
    "### Ejercicio\n",
    "\n",
    "Convierta el dataframe \"df\" de tal manera que los valores de las columnas \"Segundo corte\", \"Tercer corte\", \"Participación\" y \"Final\" esten en una escala de 0 a 5.\n",
    "\n",
    "#### Respuesta"
   ]
  },
  {
   "cell_type": "code",
   "execution_count": null,
   "metadata": {},
   "outputs": [],
   "source": [
    "df[\"Segundo corte\"] = (df[\"Segundo corte\"]/df[\"Segundo corte\"].max())*5\n",
    "\n",
    "# notas tercer corte\n",
    "df[\"Tercer Corte\"] = (df[\"Tercer Corte\"]/df[\"Tercer Corte\"].max())*5\n",
    "\n",
    "#notas Participacion\n",
    "df[\"Participacion\"] = (df[\"Participacion\"]/df[\"Participacion\"].max())*5\n",
    "\n",
    "#notas final\n",
    "df[\"Final\"] = (df[\"Final\"]/df[\"Final\"].max())*5\n",
    "\n",
    "df.head()"
   ]
  },
  {
   "cell_type": "code",
   "execution_count": null,
   "metadata": {},
   "outputs": [],
   "source": [
    "# redondeando los valores a dos decimales\n",
    "df[\"Segundo corte\"] = np.round(df[\"Segundo corte\"],2)\n",
    "df[\"Tercer Corte\"] = np.round(df[\"Tercer Corte\"],2)\n",
    "df[\"Participacion\"] = np.round(df[\"Participacion\"],2)\n",
    "df[\"Final\"] = np.round(df[\"Final\"],2)\n",
    "df.head()"
   ]
  },
  {
   "cell_type": "markdown",
   "metadata": {},
   "source": [
    "#### Atributos y Métodos\n",
    "\n",
    "En informática, un *atributo* es una especificación que define una propiedad de un objeto, elemento o archivo, mientras que un *metodo* hace referencia a un conjunto de acciones que realizan una tarea particular, bien independientemente, o bien en el contexto de un programa mayor."
   ]
  },
  {
   "cell_type": "markdown",
   "metadata": {},
   "source": [
    "Algunos atributos y métodos disponibles para echar un vistazo a los datos y tener una idea de ellos:\n",
    "\n",
    "*Métodos*  \n",
    "DataFrame.head (n) -> devuelve los nombres de las columnas y las primeras 5 filas por defecto    \n",
    "DataFrame.tail (n) -> devuelve los nombres de las columnas y las últimas 5 filas por defecto   \n",
    "\n",
    "*Atributo*  \n",
    "DataFrame.shape -> devuelve (num_filas, num_columnas)  \n",
    "DataFrame.columns -> devuelve el índice de columnas  \n",
    "DataFrame.index -> devuelve índice de filas  "
   ]
  },
  {
   "cell_type": "markdown",
   "metadata": {},
   "source": [
    "### Ejercicio\n",
    "\n",
    "Cuántas filas y columnas tiene la tabla de datos?\n",
    "\n",
    "#### Respuesta"
   ]
  },
  {
   "cell_type": "code",
   "execution_count": null,
   "metadata": {},
   "outputs": [],
   "source": [
    "df.shape"
   ]
  },
  {
   "cell_type": "markdown",
   "metadata": {},
   "source": [
    "### Medidas estadísticas sobre los datos"
   ]
  },
  {
   "cell_type": "markdown",
   "metadata": {},
   "source": [
    "Algunos métodos que proveen medidas estadísticas sobre los *datos de las columnas* son:\n",
    "\n",
    "min()     -> El mínimo valor en la columna.  \n",
    "median() -> La mediana de los valores en la columna  \n",
    "mean()  -> El valor promedio de todos los valores en la columna  \n",
    "max ()  -> el mayor valor en la columna   \n",
    "count() -> numero de registros en la columna   "
   ]
  },
  {
   "cell_type": "markdown",
   "metadata": {},
   "source": [
    "### Ejercicio"
   ]
  },
  {
   "cell_type": "markdown",
   "metadata": {},
   "source": [
    "Determinar los promedios del curso en cada uno de los items de evaluación.\n",
    "\n",
    "#### Respuesta"
   ]
  },
  {
   "cell_type": "code",
   "execution_count": null,
   "metadata": {},
   "outputs": [],
   "source": [
    "print(\"Promedio primer corte\", df[\"Primer corte\"].mean())\n",
    "print(\"Promedio segundo corte\", df[\"Segundo corte\"].mean())\n",
    "print(\"Promedio tercer corte\", df[\"Tercer Corte\"].mean())\n",
    "print(\"Promedio participacion\", df[\"Participacion\"].mean())\n",
    "print(\"Promedio final \", df[\"Final\"].mean())"
   ]
  },
  {
   "cell_type": "markdown",
   "metadata": {},
   "source": [
    "*¿Existe un método más eficaz para calcular rápidamente todas estas estadísticas resumidas?*\n",
    "\n",
    "Re/ Si.   \n",
    "\n",
    "Un método increíblemente útil que combina estas estadísticas resumidas y también agrega un par más es el método describe ():"
   ]
  },
  {
   "cell_type": "code",
   "execution_count": null,
   "metadata": {},
   "outputs": [],
   "source": [
    "df[\"Primer corte\"].describe()"
   ]
  },
  {
   "cell_type": "markdown",
   "metadata": {},
   "source": [
    "### Ejercicio\n",
    "\n",
    "En cual de los cortes en promedio les fue mejor a los estudiantes?\n",
    "\n",
    "#### Respuesta"
   ]
  },
  {
   "cell_type": "markdown",
   "metadata": {},
   "source": [
    "En el primer corte con un promedio de 4.23"
   ]
  },
  {
   "cell_type": "markdown",
   "metadata": {},
   "source": [
    "### Creando nuevas columnas en el Dataframe\n",
    "\n",
    "En muchas ocaciones se requiere crear nuevas columnas que contengan información que complemente los datos ya existente.\n",
    "\n",
    "En nuestro caso particular, nos interesaria saber la nota final del curso que obtuvo cada estudiante y almacenar esta información en el DataFrame. (Asumiremos que cada uno de los componentes evaluativos contribuye con un 20% a la nota final del curso)."
   ]
  },
  {
   "cell_type": "code",
   "execution_count": null,
   "metadata": {},
   "outputs": [],
   "source": [
    "#1.paso: Crear la columna que almacenara esa información\n",
    "df[\"Nota curso\"] = (df[\"Primer corte\"] + df[\"Segundo corte\"] + df[\"Tercer Corte\"] + df[\"Participacion\"] + df[\"Final\"])/5"
   ]
  },
  {
   "cell_type": "code",
   "execution_count": null,
   "metadata": {
    "scrolled": true
   },
   "outputs": [],
   "source": [
    "# mostrando el resultado\n",
    "df.head()"
   ]
  },
  {
   "cell_type": "markdown",
   "metadata": {},
   "source": [
    "### Ejercicio\n",
    "\n",
    "Cuál fue el promedio y la desviación estandard de la nota del curso?\n",
    "\n",
    "#### Respuesta"
   ]
  },
  {
   "cell_type": "code",
   "execution_count": null,
   "metadata": {},
   "outputs": [],
   "source": [
    "print(\"El promedio de la nota del curso fue \", df[\"Nota curso\"].mean())\n",
    "print(\"La desviación estandard de la nota del curso fue\", df[\"Nota curso\"].std())"
   ]
  },
  {
   "cell_type": "markdown",
   "metadata": {},
   "source": [
    "### Ejercicio\n",
    "\n",
    "Repita el mismo ejercicio anterior pero asuma ahora que la contribución de las diferentes notas a la nota final del curso no es uniforme, sino que sigue la siguiente reglas:\n",
    "\n",
    "Primer corte : 20%  \n",
    "Segundo corte: 20%  \n",
    "Tercer corte : 30%    \n",
    "Participacion: 10%  \n",
    "Final:         20%\n",
    "\n",
    "*a)* Agregue una columna nueva con el nombre \"Nota corte 2\" y asiguele a cada registro el resultado corresponde con la nota final del curso segun la contribución anterior. *b)* Calcule la nota promedio del curso. "
   ]
  },
  {
   "cell_type": "code",
   "execution_count": null,
   "metadata": {},
   "outputs": [],
   "source": []
  },
  {
   "cell_type": "markdown",
   "metadata": {},
   "source": [
    "### Buscando registros en la tabla"
   ]
  },
  {
   "cell_type": "markdown",
   "metadata": {},
   "source": [
    "### Ejercicio\n",
    "\n",
    "Encuentre el número de alumnos con una nota inferior a 3.0 en el Primer Corte\n",
    "\n",
    "*Respuesta*\n",
    "\n",
    "Un método para buscar registros en la tabla que cumplen con una condición en particular es mediante expresiones lógicas que retornen verdadero en el caso que algun campo de una columna coincida o Falso en el caso opuesto.\n",
    "\n",
    "De acuerdo con el ejercicio planteado, lo que interesa son aquellos alumnos cuyo puntaje en el primer corte sea menor a 3.0\n",
    "\n",
    "La expresión anterior se puede traducir en:\n",
    "\n",
    "                              Nota primero Corte < 3.0\n",
    "                              \n",
    "Como las notas del primero corte estan almacenadas en la columna df[\"Primer corte\"] la expresión anterior se puede reescribir como\n",
    "\n",
    "                               df[\"Primer corte\"] < 3.0\n",
    "                               \n",
    "Recordar que df[\"Primer corte\"] representa toda una columna de valores y no un valor en particular. \n",
    "\n",
    "La expresión anterior corresponde a aplicar la condición menor a 3.0 a cada elemento de la columna del primero corte.\n",
    "\n",
    "Las operaciones menor que, menor o igual que, mayor que, mayor o igual que, igual y no igual representan *operadores de comparación*, es decir, retornan true o false si el resultado de la comparación es verdadera o false.\n",
    "\n",
    "En Python los operadores de comparación se representan como:\n",
    "\n",
    "\"==\" corresponde con \"es igual que\"  \n",
    "\"!=\" corresponde con \"no es igual que\"  \n",
    "\"<>\" corresponde con \"no es igual que\" (es equivalente al anterior)  \n",
    "\">\"  corresponde con \"es mayor que\"  \n",
    "\"<\"  corresponde con \"es menor que\"  \n",
    "\">=\" corresponde con \"es mayor o igual que\"    \n",
    "\"<=\" corresponde con \"es menor o igual que\"  \n",
    "\n",
    "\n",
    "En este ejercicio no interesa que el resultado sea en donde en el primer corte un estudiante obtuvo menor a 3.0, sino obtener todo el registro del estudiante cuyo valor del primer corte sea menor a 3.0.\n",
    "\n",
    "*Como decirselo a Python?*\n",
    "\n",
    "El objeto \"df\" es un DataFrame y comprende toda la información en forma tabular.\n",
    "\n",
    "El objetivo es que retorne las filas que contenga la nota < 3 en el primer corte.\n",
    "\n",
    "Así lo hacemos para mostrar los 5 primeros registros que cumplen la condición anterior:\n",
    "\n",
    "\n",
    "                           df[df[\"Primer corte\"] < 3.0].head()\n",
    "\n",
    "                              "
   ]
  },
  {
   "cell_type": "code",
   "execution_count": null,
   "metadata": {},
   "outputs": [],
   "source": [
    "# Probando expresión logica que retorna true si el valor es menor a 3.0 o false en el caso opuesto.\n",
    "df[\"Primer corte\"] < 3.0"
   ]
  },
  {
   "cell_type": "code",
   "execution_count": null,
   "metadata": {},
   "outputs": [],
   "source": [
    "df[df[\"Primer corte\"] < 3.0].head()"
   ]
  },
  {
   "cell_type": "markdown",
   "metadata": {},
   "source": [
    "Una vez obtenida la tabla con los resultados, debemos determinar el número de registros. Para eso podemos aplicar el atributo shape que retorna un resultado con 2 valores (#filas, #columnas)\n",
    "\n",
    "Un problema: la tabla resultante no esta almacenada en ninguna variable (o contenedor). Esto lo hay que hacer primero para poder trabajar con ella posteriormente."
   ]
  },
  {
   "cell_type": "code",
   "execution_count": null,
   "metadata": {},
   "outputs": [],
   "source": [
    "df_PC_3 = df[df[\"Primer corte\"] < 3.0].head()"
   ]
  },
  {
   "cell_type": "code",
   "execution_count": null,
   "metadata": {},
   "outputs": [],
   "source": [
    "df_PC_3.shape"
   ]
  },
  {
   "cell_type": "markdown",
   "metadata": {},
   "source": [
    "El número de estudiantes que no pasaron el primero corte son 5."
   ]
  },
  {
   "cell_type": "markdown",
   "metadata": {},
   "source": [
    "### Ejercicio\n",
    "\n",
    "Determine el número de estudiantes que no pasaron el curso si la contribución de cada corte a la nota final fue uniforme.\n",
    "\n",
    "#### Respuesta"
   ]
  },
  {
   "cell_type": "code",
   "execution_count": null,
   "metadata": {},
   "outputs": [],
   "source": []
  },
  {
   "cell_type": "markdown",
   "metadata": {},
   "source": [
    "### Expresiones lógicas compuestas\n",
    "\n",
    "Una expresión lógica es una afirmación con sentido completo, y constituye la forma más elemental de la lógica. Las proposiciones brindan información sobre un acontecimiento falsable, es decir, que puede ser falso o verdadero.\n",
    "\n",
    "En el ejercicio anterior se buscaban los registros de estudiantes con nota menor a 3 en el primer corte definida como\n",
    "\n",
    "                        df[\"Primer corte\"] < 3\n",
    "                        \n",
    "En Python esta expresión aplica a todos los elementos de la columna y se traduce en\n",
    "\n",
    "                        Nota de estudiante en fila 1 < 3      true/false ?\n",
    "                        Nota de estudiante en fila 2 < 3      true/false ?..etc.\n",
    "                        \n",
    "Las *expresión lógica simple* es aquella que expresa un estado de situación en su estado más sencillo, es decir, uniendo a un sujeto con un objeto a partir del verbo “es”.  Ejemplos de este tipo de expresiones lógicas son los que hemos hecho hasta ahora.\n",
    "\n",
    "Las *expresiones lógicas compuestas* representan conjuntos de expresiones lógicas simples que aparecen mediadas por la presencia de alguna clase de conector, que puede ser de oposición (o, ni), de adición (y, e) o de condición (si). \n",
    "\n",
    "Por ejemplo: El conjunto de estudiantes que obtuvo una nota mayor que 3 y menor que 4.\n",
    "\n",
    "Los *conectores lógicos* son símbolos que se utilizan para conectar dos fórmulas, de modo que el valor de verdad de la fórmula compuesta dependa del valor de verdad de las fórmulas de sus componentes.\n",
    "\n",
    "Entre los conectores lógicos se encuentran:\n",
    "\n",
    "*La conjunción (y)*: presenta un *conector lógico* que impone que la afirmación compuesta es verdadera siempre y cuando se cumplan las dos expresiones lógicas simples que la componen, es decir, sean verdaderas.\n",
    "\n",
    "*La disyunción (o)*: impone que la afirmación compuesta es verdadera siempre y cuando por lo menos una de las afirmaciones que la componen sea verdadera.\n",
    "\n",
    "Para el trabajo con Dataframes los conectores lógicos se traducen en\n",
    "\n",
    "a y b  = a *&* b  ------------     *&* para la conjunción  \n",
    "a o b  = a *|*  b  -----------     *|*  para la disyunción  \n",
    "\n",
    "Mira los siguientes ejemplos:"
   ]
  },
  {
   "cell_type": "markdown",
   "metadata": {},
   "source": [
    "### Ejercicio\n",
    "\n",
    "Determine el número de estudiantes cuya nota del primero corte estuvo entre 3 y 4 (incluidos el 3 y el 4).\n",
    "\n",
    "#### Respuesta\n",
    "\n",
    "Cual es la expresión lógica para la afirmación anterior."
   ]
  },
  {
   "cell_type": "code",
   "execution_count": null,
   "metadata": {},
   "outputs": [],
   "source": [
    "# En expresiones lógicas compuestas es importante definir claramente cuales exactamente son las\n",
    "# expresiones lógicas simples y como estan conectadas entre si. Para eso utilizamos parentesis.\n",
    "(df[\"Primer corte\"] >= 3) & (df[\"Primer corte\"] <= 4)"
   ]
  },
  {
   "cell_type": "markdown",
   "metadata": {},
   "source": [
    "El Dataframe con los estudiantes con notas en el primer corte entre 3 y 4 (incluidos 3 y 4) es:"
   ]
  },
  {
   "cell_type": "code",
   "execution_count": null,
   "metadata": {},
   "outputs": [],
   "source": [
    "df_PC_34 = df[(df[\"Primer corte\"] >= 3) & (df[\"Primer corte\"] <= 4)]\n",
    "# cuantos estudiantes hay con nota entre 3 y 4\n",
    "df_PC_34.shape"
   ]
  },
  {
   "cell_type": "markdown",
   "metadata": {},
   "source": [
    "### Ejercicio\n",
    "\n",
    "Determine el porcentaje de estudiantes que pasaron el curso con una nota mayor de 4 en el segundo caso donde los cortes tenian diferentes contribuciones a la nota final.\n",
    "\n",
    "#### Respuesta"
   ]
  },
  {
   "cell_type": "code",
   "execution_count": null,
   "metadata": {},
   "outputs": [],
   "source": []
  },
  {
   "cell_type": "markdown",
   "metadata": {},
   "source": [
    "## Visualización de datos"
   ]
  },
  {
   "cell_type": "code",
   "execution_count": null,
   "metadata": {},
   "outputs": [],
   "source": [
    "# Este comando es necesario para mostrar las graficas en el jupyter notebook\n",
    "%matplotlib inline\n",
    "\n",
    "# La libreria matplotlib provee con funcionalidad basica para graficar\n",
    "import matplotlib.pyplot as plt"
   ]
  },
  {
   "cell_type": "markdown",
   "metadata": {},
   "source": [
    "#### Que es un histograma?\n",
    "Un *histograma* es una representación aproximada de la distribución de datos numéricos. \n",
    "\n",
    "#### Como se construye un histograma?\n",
    "Para construir un histograma, el primer paso es dividir todo el rango de valores en una serie de intervalos, y luego contar cuántos valores caen en cada intervalo. Estos intervalos se especifican como intervalos consecutivos, no superpuestos de una variable, deben ser adjacentes y a menudo del mismo tamaño.\n",
    "\n",
    "En general, el número de intervalos que se utilizaran para dibujar un histograma se conocen como *bins*.\n",
    "\n",
    "Por ejemplo, en un intervalo de 0 a 10 con bins=2 llevara a un histograma con dos columnas, la primera que agrupa los valores de 0 a 5 y la segundo que agrupa los valores de 5 a 10.\n",
    "\n",
    "#### Como crear un histograma con ayuda de Pandas?\n",
    "\n",
    "Pandas mediante la función *hist()* te permite de forma facil y sencilla crear histogramas de los datos de una columna.\n",
    "\n",
    "Por ejemplo:"
   ]
  },
  {
   "cell_type": "code",
   "execution_count": null,
   "metadata": {},
   "outputs": [],
   "source": [
    "# Recuerda que el valor por defecto para los bins es 10, es decir, Pandas va a utilizar 10\n",
    "# subintervalos para agrupar los datos.\n",
    "df[\"Primer corte\"].hist()"
   ]
  },
  {
   "cell_type": "markdown",
   "metadata": {},
   "source": [
    "#### Como customizar el histograma?\n",
    "\n",
    "*Customizar* significa caracterizar una grafica mediante el uso de legendas, colores, cambiar el número de bins...etc.\n",
    "\n",
    "Algunos parametros que se pueden utilizar para la función hist() son:\n",
    "\n",
    "1. bins : número de intervalos\n",
    "2. grids : indica si se debe mostrar la malla sobre el diagrama.\n",
    "3. figsize : tamaño del histograma  (#ancho, #alto) en pulgadas.\n"
   ]
  },
  {
   "cell_type": "code",
   "execution_count": null,
   "metadata": {},
   "outputs": [],
   "source": [
    "df[\"Primer corte\"].hist(bins=15, grid=True, figsize=(10,5))\n",
    "plt.xlabel(\"Notas\")\n",
    "plt.ylabel(\"Número de notas\")\n",
    "plt.title(\"Distribución de las notas del curso \")"
   ]
  },
  {
   "cell_type": "markdown",
   "metadata": {},
   "source": [
    "### Ejercicio\n",
    "\n",
    "Graficar la distribución de las notas de curso con 20 bins, sin malla y con un año de 20 pulgadas de ancho y 15 de alto.\n",
    "\n",
    "#### Respuesta"
   ]
  },
  {
   "cell_type": "code",
   "execution_count": null,
   "metadata": {},
   "outputs": [],
   "source": []
  },
  {
   "cell_type": "markdown",
   "metadata": {},
   "source": [
    "### Ejercicio\n",
    "\n",
    "Grafique la distribución de las notas del curso y coloquele un subtitulo al eje horizontal, vertical y un título a la gráfica usando los métodos que ofrece la librería Matplotlib. El histograma debe estar formado por 10 bins, con malla y 15 pulgadas de ancho con 15 de alto.\n",
    "\n",
    "Alias *plt*  \n",
    "\n",
    "plt.xlabel(\"texto\") --------   subtitulo para el eje horizontal   \n",
    "plt.ylabel(\"texto\") --------      subtitulo para el eje vertical     \n",
    "plt.title(\"text\")   --------       título de la grafica\n",
    "\n",
    "#### Respuesta:"
   ]
  },
  {
   "cell_type": "code",
   "execution_count": null,
   "metadata": {},
   "outputs": [],
   "source": [
    "df[\"Primer corte\"].hist(bins=15, grid=True, figsize=(10,5))\n",
    "plt.xlabel(\"Notas\")\n",
    "plt.ylabel(\"Número de notas\")\n",
    "plt.title(\"Distribución de las notas del curso \")"
   ]
  },
  {
   "cell_type": "markdown",
   "metadata": {},
   "source": [
    "### Diagrama de dispersión \n",
    "\n",
    "Un diagrama de dispersión o gráfica de dispersión o gráfico de burbujas es un tipo de diagrama matemático que utiliza las coordenadas cartesianas para mostrar los valores de dos variables para un conjunto de datos.\n",
    "\n",
    "Entre sus usos está descubrir y mostrar las relaciones entre dos conjuntos asociados de datos  y confirmar relaciones anticipadas entre dos conjuntos asociados de datos."
   ]
  },
  {
   "cell_type": "code",
   "execution_count": null,
   "metadata": {},
   "outputs": [],
   "source": [
    "df.plot.scatter(x='Final', y='Nota curso', figsize=(8,6))"
   ]
  },
  {
   "cell_type": "markdown",
   "metadata": {},
   "source": [
    "### Ejercicio\n",
    "\n",
    "Realice un diagrama de dispersión entre los datos de las columnas primer y segundo corte.\n",
    "\n",
    "#### Respuesta"
   ]
  },
  {
   "cell_type": "code",
   "execution_count": null,
   "metadata": {},
   "outputs": [],
   "source": []
  },
  {
   "cell_type": "markdown",
   "metadata": {},
   "source": [
    "### Diagrama de caja\n",
    "\n",
    "También conocido como diagrama de caja y bigote, box plot, box-plot o boxplot. Es un método estandarizado para representar gráficamente una serie de datos numéricos a través de sus cuartiles. De esta manera, el diagrama de caja muestra a simple vista la mediana y los cuartiles de los datos, pudiendo también representar los valores atípicos de estos. \n",
    "\n",
    "Su utilidad se basa  en proporcionan una visión general de la simetría de la distribución de los datos; si la mediana no está en el centro del rectángulo, la distribución no es simétrica. Son útiles para ver la presencia de valores atípicos también llamados *outliers*. Pertenece a las herramientas de las estadística descriptiva. Permite ver como es la dispersión de los puntos con la mediana, los percentiles 25 y 75 y los valores máximos y mínimos.  \n",
    "\n",
    "En la ilustración a continuación encontraras una comparación de como un histograma y un diagrama de caja representan los mismos datos."
   ]
  },
  {
   "cell_type": "markdown",
   "metadata": {},
   "source": [
    "\n",
    "\n",
    "![](https://es.wikipedia.org/wiki/Diagrama_de_caja#/media/Archivo:Diagrama_de_caja.jpg)"
   ]
  },
  {
   "cell_type": "markdown",
   "metadata": {},
   "source": [
    "![](https://es.wikipedia.org/wiki/Diagrama_de_caja#/media/Archivo:Diagrama_de_caja.jpg)"
   ]
  },
  {
   "cell_type": "markdown",
   "metadata": {},
   "source": [
    "![diagrama](https://upload.wikimedia.org/wikipedia/commons/4/4a/Diagrama_de_caja.jpg)\n"
   ]
  },
  {
   "cell_type": "markdown",
   "metadata": {},
   "source": [
    "### Ejercicio\n",
    "\n",
    "Dibuje un diagrama de caja de los datos de la columna *Primer corte*.\n",
    "\n",
    "#### Respuesta"
   ]
  },
  {
   "cell_type": "code",
   "execution_count": null,
   "metadata": {},
   "outputs": [],
   "source": [
    "#df[\"Primer corte\"].plot.box(figsize=(4,6))\n"
   ]
  },
  {
   "cell_type": "markdown",
   "metadata": {},
   "source": [
    "### Ejercicio\n",
    "\n",
    "Dibuje un diagrama de caja de todos los cortes en una misma grafica.\n",
    "\n",
    "#### Respuesta"
   ]
  },
  {
   "cell_type": "code",
   "execution_count": null,
   "metadata": {},
   "outputs": [],
   "source": [
    "#df.plot.box(figsize=(6,8))"
   ]
  },
  {
   "cell_type": "code",
   "execution_count": null,
   "metadata": {},
   "outputs": [],
   "source": []
  },
  {
   "cell_type": "code",
   "execution_count": null,
   "metadata": {},
   "outputs": [],
   "source": []
  },
  {
   "cell_type": "code",
   "execution_count": null,
   "metadata": {},
   "outputs": [],
   "source": []
  },
  {
   "cell_type": "code",
   "execution_count": null,
   "metadata": {},
   "outputs": [],
   "source": []
  }
 ],
 "metadata": {
  "kernelspec": {
   "display_name": "Python 3",
   "language": "python",
   "name": "python3"
  },
  "language_info": {
   "codemirror_mode": {
    "name": "ipython",
    "version": 3
   },
   "file_extension": ".py",
   "mimetype": "text/x-python",
   "name": "python",
   "nbconvert_exporter": "python",
   "pygments_lexer": "ipython3",
   "version": "3.8.3"
  }
 },
 "nbformat": 4,
 "nbformat_minor": 4
}
