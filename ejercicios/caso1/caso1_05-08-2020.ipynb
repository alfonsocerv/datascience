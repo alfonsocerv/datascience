{
 "cells": [
  {
   "cell_type": "markdown",
   "metadata": {},
   "source": [
    "## Caso 1 \n",
    "### Explorando y calculando algunas estadísticas de los resultados de un curso de Ingeniería Química en la Universidad McMaster.\n"
   ]
  },
  {
   "cell_type": "markdown",
   "metadata": {},
   "source": [
    "Profesor Alfonso Cervantes Barragán  - 5 de agosto de 2020"
   ]
  },
  {
   "cell_type": "markdown",
   "metadata": {},
   "source": [
    "### Objetivo\n",
    "Al final de este caso, el objetivo es aportar una idea general sobre como se realizara en trabajo con datos, su lectura, manipulación y escritura de archivos csv mediante el uso de la libreria pandas en Python.\n"
   ]
  },
  {
   "cell_type": "markdown",
   "metadata": {},
   "source": [
    "### Que se entiende por Python?\n",
    "\n",
    "Python es un lenguaje de programación de propósito general que permite análisis de datos simples y complejos, muy sencillo de aprender de tal manera que permite no sólo a ingenieros sino tambíen a profesionales de carreras no técnicas el análisis de datos para la toma de decisión."
   ]
  },
  {
   "cell_type": "markdown",
   "metadata": {},
   "source": [
    "### Introducción"
   ]
  },
  {
   "cell_type": "markdown",
   "metadata": {},
   "source": [
    "Estas trabajando para la Universidad de McMaster en el Dpto. de Ingenería Química y te han pedido revises las notas resultantes de los diferentes componentes calificables. Esas notas se encuentran en el archivo class-grades.csv. Según el profesor del curso en el archivo Class-grades.csv los valores registrados son el promedio de los subcomponentes: por ejemplo, la variable Tutorial es el promedio de todos los tutoriales realizados, la variable del examen final es el promedio de todas las preguntas en el examen escrito final."
   ]
  },
  {
   "cell_type": "markdown",
   "metadata": {},
   "source": [
    "#### Que es una libreria o biblioteca externa?"
   ]
  },
  {
   "cell_type": "markdown",
   "metadata": {},
   "source": [
    "Las bibliotecas externas (también conocidas como paquetes) son bases de código que contienen una variedad de funciones y herramientas previamente escritas. Esto le permite realizar una variedad de tareas complejas en Python.\n",
    "\n",
    "Iniciaremos con dos paquetes principales: *Pandas y numpy*."
   ]
  },
  {
   "cell_type": "markdown",
   "metadata": {},
   "source": [
    "#### Introducción a  Pandas"
   ]
  },
  {
   "cell_type": "markdown",
   "metadata": {},
   "source": [
    "Pandas es una biblioteca externa que proporciona funcionalidad para el análisis de datos. Pandas ofrece específicamente una variedad de estructuras de datos y métodos de manipulación de datos que le permiten realizar tareas complejas con comandos simples de una línea.\n",
    "\n",
    "Una de sus ventajas es que permite crear tablas de datos básicas (similar a una hoja de cálculo de Excel) utilizando listas anidadas. Esta estructura de datos en forma de tabla es conocida como DataFrame y ofrece un conjunto de funciones que permiten fácilmente la manipulación de los datos pensado como un conjunto de filas y columnas. \n",
    "\n",
    "Comando :  \n",
    "\n",
    "> import ***nombre_de_libreria*** as ***Alias***\n",
    "                     \n",
    "El alias es un nombre alternativo mediante el cual accederemos a las herramientas que ofrece una libreria."
   ]
  },
  {
   "cell_type": "code",
   "execution_count": null,
   "metadata": {},
   "outputs": [],
   "source": [
    "# importando la libreria pandas\n",
    "import pandas as pd"
   ]
  },
  {
   "cell_type": "markdown",
   "metadata": {},
   "source": [
    "#### Introducción a Numpy"
   ]
  },
  {
   "cell_type": "markdown",
   "metadata": {},
   "source": [
    "*Numpy* es un libreria que usaremos más adelante la cuál ofrece numerosas operaciones matemáticas. Juntos, pandas y numpy le permiten crear un flujo de trabajo de ciencia de datos dentro de Python. numpy es fundamental en muchos aspectos para *pandas*, ya que proporciona operaciones vectorizadas, mientras que pandas proporciona abstracciones de mayor nivel construidas sobre numpy."
   ]
  },
  {
   "cell_type": "code",
   "execution_count": null,
   "metadata": {},
   "outputs": [],
   "source": [
    "# importando numby\n",
    "import numpy as np"
   ]
  },
  {
   "cell_type": "markdown",
   "metadata": {},
   "source": [
    "Ahora que estos paquetes están cargados en Python, podemos usar sus contenidos. "
   ]
  },
  {
   "cell_type": "markdown",
   "metadata": {},
   "source": [
    "#### Que es un archivo CSV?"
   ]
  },
  {
   "cell_type": "markdown",
   "metadata": {},
   "source": [
    "Un archivo CSV (Comma-Separated Values) es un archivo de texto plano que contiene una lista de datos. Los archivos que terminan en la extensión .CSV se utilizan a menudo para el intercambio de datos entre diferentes aplicaciones. Por ejemplo, las bases de datos y los gestores de contactos suelen admitir archivos CSV.\n",
    "\n",
    "*Ejemplo* : a continuación se presenta una tabla excel."
   ]
  },
  {
   "cell_type": "markdown",
   "metadata": {},
   "source": [
    "![adfas](https://comofriki.com/wp-content/uploads/2017/12/csv-min.jpg \"Philadelphia's Magic Gardens\")"
   ]
  },
  {
   "cell_type": "markdown",
   "metadata": {},
   "source": [
    "Esos mismos datos almacenados en formato csv tendrían la forma:\n",
    "\n",
    "Nombre,Año,Apartamento,Cuarto,Hotel  \n",
    "Joaquin Fernandez,2017,102,1,Verano  \n",
    "Junior Maccry,2016,104,2,Cacias  \n",
    "Donna May,2015,105,3,Draft  \n",
    "Kamila Kimbely,2014,106,4,Montaña  \n",
    "Daniela Perez,2013,108,5,Azul\n",
    "\n",
    "Aquí, los campos de datos en cada fila están delimitados con una coma y las filas individuales están separadas por saltos de linea."
   ]
  },
  {
   "cell_type": "markdown",
   "metadata": {},
   "source": [
    "### Lectura de el archivo de datos\n",
    "\n",
    "Se te a proporcionado un archivo CSV que contiene los datos de las notas del curso. Pandas te permite cargar fácilmente archivos CSV mediante el uso del método pd.read_csv ():\n"
   ]
  },
  {
   "cell_type": "code",
   "execution_count": null,
   "metadata": {},
   "outputs": [],
   "source": [
    "df = pd.read_csv(\"class-grades.csv\")"
   ]
  },
  {
   "cell_type": "markdown",
   "metadata": {},
   "source": [
    "### Explorando el archivo de datos\n",
    "\n",
    "Mostrar los primeros cinco registros"
   ]
  },
  {
   "cell_type": "code",
   "execution_count": null,
   "metadata": {
    "scrolled": true
   },
   "outputs": [],
   "source": [
    "df.head()"
   ]
  },
  {
   "cell_type": "markdown",
   "metadata": {},
   "source": [
    "Mostrando los primero 15 registros"
   ]
  },
  {
   "cell_type": "code",
   "execution_count": null,
   "metadata": {
    "scrolled": false
   },
   "outputs": [],
   "source": [
    "df.head(15)"
   ]
  },
  {
   "cell_type": "markdown",
   "metadata": {},
   "source": [
    "Mostrando los últimios 5 registros"
   ]
  },
  {
   "cell_type": "code",
   "execution_count": null,
   "metadata": {
    "scrolled": false
   },
   "outputs": [],
   "source": [
    "df.tail()"
   ]
  },
  {
   "cell_type": "markdown",
   "metadata": {},
   "source": [
    "#### Ejercicio\n",
    "Muestre los últimos 10 registros de \"df\".\n",
    "\n",
    "*Respuesta*"
   ]
  },
  {
   "cell_type": "code",
   "execution_count": null,
   "metadata": {},
   "outputs": [],
   "source": []
  },
  {
   "cell_type": "markdown",
   "metadata": {},
   "source": [
    "Extraiendo los nombres de las columnas"
   ]
  },
  {
   "cell_type": "code",
   "execution_count": null,
   "metadata": {},
   "outputs": [],
   "source": [
    "df.columns"
   ]
  },
  {
   "cell_type": "markdown",
   "metadata": {},
   "source": [
    "Extraiendo el maximo valor de la columna Tutorial.\n",
    "\n",
    "Para poder extraer información basada únicamente en los datos de una de las columnas del Dataframe hay que hacer referencia a esa columna usando su nombre exacto en el DataFrame."
   ]
  },
  {
   "cell_type": "code",
   "execution_count": null,
   "metadata": {},
   "outputs": [],
   "source": [
    "df[\"Tutorial\"].max()"
   ]
  },
  {
   "cell_type": "markdown",
   "metadata": {},
   "source": [
    "Calculando el minimo valor de la columna *Midterm*"
   ]
  },
  {
   "cell_type": "code",
   "execution_count": null,
   "metadata": {},
   "outputs": [],
   "source": [
    "df[\"Midterm\"].min()"
   ]
  },
  {
   "cell_type": "markdown",
   "metadata": {},
   "source": [
    "#### Ejercicio\n",
    "Calcular el valor mínimo de la columna \"TakeHome\"\n",
    "\n",
    "*Respuesta*"
   ]
  },
  {
   "cell_type": "code",
   "execution_count": null,
   "metadata": {},
   "outputs": [],
   "source": []
  },
  {
   "cell_type": "markdown",
   "metadata": {},
   "source": [
    "En la exploración del contenido de los datos de un dataframe es importante tambíen conocer el rango de los datos en una columna cuando este contiene datos númericos, es decir, la diferencia entre el mínimo y el máximo."
   ]
  },
  {
   "cell_type": "code",
   "execution_count": null,
   "metadata": {},
   "outputs": [],
   "source": [
    "# Calculando el rango de la columna Midterm\n",
    "rango = df[\"Midterm\"].max() - df[\"Midterm\"].min()\n",
    "# imprimiendo el rango de la columna Midterm\n",
    "print(\"El rango de Midterm es \", rango)"
   ]
  },
  {
   "cell_type": "markdown",
   "metadata": {},
   "source": [
    "La función *print* simplemente envía datos a su pantalla (no tiene nada que ver con una impresora de computadora."
   ]
  },
  {
   "cell_type": "markdown",
   "metadata": {},
   "source": [
    "### Ejercicio\n",
    "\n",
    "Determine el rango en el que se encuentran las notas de los estudiantes en la evaluación \"Final\" e imprima el resultado en la pantalla.\n",
    "\n",
    "#### Respuesta"
   ]
  },
  {
   "cell_type": "code",
   "execution_count": null,
   "metadata": {},
   "outputs": [],
   "source": []
  },
  {
   "cell_type": "markdown",
   "metadata": {},
   "source": [
    "### Manipulando el contenido de un DataFrame\n",
    "\n",
    "Muchas veces los nombres de las columnas de un DataFrame no son lo suficientemente informativo por lo que para facilitar su uso es requerido adaptar los nombres de las columnas."
   ]
  },
  {
   "cell_type": "markdown",
   "metadata": {},
   "source": [
    "#### Cambiando el nombre de las columnas"
   ]
  },
  {
   "cell_type": "code",
   "execution_count": null,
   "metadata": {},
   "outputs": [],
   "source": [
    "# renombrando las columnas Assignment y Tutorial\n",
    "df=  df.rename(columns={\"Assignment\":\"Primer corte\", \"Tutorial\":\"Segundo corte\"})\n",
    "# renombrando las columnas Midterm y TakeHome\n",
    "df = df.rename(columns={\"Midterm\":\"Tercer Corte\",\"TakeHome\":\"Participacion\"})"
   ]
  },
  {
   "cell_type": "markdown",
   "metadata": {},
   "source": [
    "### Ejercicio\n",
    "\n",
    "Imprima la lista que contiene los nombres de las columnas en el Dataframe \"df\"\n",
    "\n",
    "#### Respuesta"
   ]
  },
  {
   "cell_type": "code",
   "execution_count": null,
   "metadata": {},
   "outputs": [],
   "source": []
  },
  {
   "cell_type": "markdown",
   "metadata": {},
   "source": [
    "### Cambiando a una escala de notas de 0 a 5\n",
    "\n",
    "Los valores de las evaluaciones no se encuentran en una escala de 0 a 5, que es la escala nominal en la cual indicamos el desempeño de un estudiante en Colombia. Para eso vamos a asumir que el valor máximo que se puede alcanzar corresponde con el valor máximo de cada columna.\n",
    "\n",
    "Una posible solución es :  (tomar_valor_de_cada_campo_en una_columna/maximo_columna)*5 \n"
   ]
  },
  {
   "cell_type": "code",
   "execution_count": null,
   "metadata": {},
   "outputs": [],
   "source": [
    "df[\"Primer corte\"] = (df[\"Primer corte\"]/df[\"Primer corte\"].max())*5"
   ]
  },
  {
   "cell_type": "markdown",
   "metadata": {},
   "source": [
    "#### Ejercicio\n",
    "Muestre las 8 primeras filas del Dataframe \"df\""
   ]
  },
  {
   "cell_type": "markdown",
   "metadata": {},
   "source": [
    "*Respuesta*"
   ]
  },
  {
   "cell_type": "code",
   "execution_count": null,
   "metadata": {},
   "outputs": [],
   "source": []
  },
  {
   "cell_type": "markdown",
   "metadata": {},
   "source": [
    "Como nos podemos dar cuenta los valores en la columna *Primer corte* ya se encuentran en un rango de 0 a 5, pero cada uno esta indicado con un gran número de decimales. Ahora lo que vamos a hacer es redondear el resultado a sólo dos decimales.\n",
    "\n",
    "Para eso vamos a utilizar el método round(valor, no. de decimales) de la libreria Numpy que retorna el mismo valor pero redondeado a 2 decimales. \n",
    "\n",
    "Al final imprima las 7 primeras filas del DataFrame"
   ]
  },
  {
   "cell_type": "code",
   "execution_count": null,
   "metadata": {},
   "outputs": [],
   "source": [
    "df[\"Primer corte\"] = np.round(df[\"Primer corte\"],2)\n",
    "df.head()"
   ]
  },
  {
   "cell_type": "markdown",
   "metadata": {},
   "source": [
    "### Ejercicio\n",
    "\n",
    "Convierta el dataframe \"df\" de tal manera que los valores de las columnas \"Segundo corte\", \"Tercer corte\", \"Participación\" y \"Final\" esten en una escala de 0 a 5.\n",
    "\n",
    "#### Respuesta"
   ]
  },
  {
   "cell_type": "code",
   "execution_count": null,
   "metadata": {},
   "outputs": [],
   "source": []
  },
  {
   "cell_type": "markdown",
   "metadata": {},
   "source": [
    "#### Atributos y Métodos\n",
    "\n",
    "En informática, un *atributo* es una especificación que define una propiedad de un objeto, elemento o archivo, mientras que un *metodo* hace referencia a un conjunto de acciones que realizan una tarea particular, bien independientemente, o bien en el contexto de un programa mayor."
   ]
  },
  {
   "cell_type": "markdown",
   "metadata": {},
   "source": [
    "Algunos atributos y métodos disponibles para echar un vistazo a los datos y tener una idea de ellos:\n",
    "\n",
    "*Métodos*  \n",
    "DataFrame.head (n) -> devuelve los nombres de las columnas y las primeras 5 filas por defecto    \n",
    "DataFrame.tail (n) -> devuelve los nombres de las columnas y las últimas 5 filas por defecto   \n",
    "\n",
    "*Atributo*  \n",
    "DataFrame.shape -> devuelve (num_filas, num_columnas)  \n",
    "DataFrame.columns -> devuelve el índice de columnas  \n",
    "DataFrame.index -> devuelve índice de filas  "
   ]
  },
  {
   "cell_type": "markdown",
   "metadata": {},
   "source": [
    "### Ejercicio\n",
    "\n",
    "Cuántas filas y columnas tiene la tabla de datos?\n",
    "\n",
    "#### Respuesta"
   ]
  },
  {
   "cell_type": "code",
   "execution_count": null,
   "metadata": {},
   "outputs": [],
   "source": []
  },
  {
   "cell_type": "markdown",
   "metadata": {},
   "source": [
    "### Medidas estadísticas sobre los datos"
   ]
  },
  {
   "cell_type": "markdown",
   "metadata": {},
   "source": [
    "Algunos métodos que proveen medidas estadísticas sobre los *datos de las columnas* son:\n",
    "\n",
    "min()     -> El mínimo valor en la columna.  \n",
    "mediana() -> La mediana de los valores en la columna  \n",
    "media()  -> El valor promedio de todos los valores en la columna  \n",
    "max ()  -> el mayor valor en la columna   \n",
    "count() -> numero de registros en la columna   "
   ]
  },
  {
   "cell_type": "markdown",
   "metadata": {},
   "source": [
    "### Ejercicio"
   ]
  },
  {
   "cell_type": "markdown",
   "metadata": {},
   "source": [
    "Determinar los promedios del curso en cada uno de los items de evaluación.\n",
    "\n",
    "#### Respuesta"
   ]
  },
  {
   "cell_type": "code",
   "execution_count": null,
   "metadata": {},
   "outputs": [],
   "source": []
  },
  {
   "cell_type": "markdown",
   "metadata": {},
   "source": [
    "*¿Existe un método más eficaz para calcular rápidamente todas estas estadísticas resumidas?*\n",
    "\n",
    "Re/ Si.   \n",
    "\n",
    "Un método increíblemente útil que combina estas estadísticas resumidas y también agrega un par más es el método describe ():"
   ]
  },
  {
   "cell_type": "code",
   "execution_count": null,
   "metadata": {},
   "outputs": [],
   "source": [
    "df[\"Primer corte\"].describe()"
   ]
  },
  {
   "cell_type": "markdown",
   "metadata": {},
   "source": [
    "### Ejercicio\n",
    "\n",
    "En cual de los cortes en promedio les fue mejor a los estudiantes?\n",
    "\n",
    "#### Respuesta"
   ]
  },
  {
   "cell_type": "code",
   "execution_count": null,
   "metadata": {},
   "outputs": [],
   "source": []
  },
  {
   "cell_type": "markdown",
   "metadata": {},
   "source": [
    "### Creando nuevas columnas en el Dataframe\n",
    "\n",
    "En muchas ocaciones se requiere crear nuevas columnas que contengan información que complemente los datos ya existente.\n",
    "\n",
    "En nuestro caso particular, nos interesaria saber la nota final del curso que obtuvo cada estudiante y almacenar esta información en el DataFrame. (Asumiremos que cada uno de los componentes evaluativos contribuye con un 20% a la nota final del curso)."
   ]
  },
  {
   "cell_type": "code",
   "execution_count": null,
   "metadata": {},
   "outputs": [],
   "source": [
    "#1.paso: Crear la columna que almacenara esa información\n",
    "df[\"Nota curso\"] = (df[\"Primer corte\"] + df[\"Segundo corte\"] + df[\"Tercer Corte\"] + df[\"Participacion\"] + df[\"Final\"])/5"
   ]
  },
  {
   "cell_type": "code",
   "execution_count": null,
   "metadata": {},
   "outputs": [],
   "source": [
    "# mostrando el resultado\n",
    "df.head()"
   ]
  },
  {
   "cell_type": "markdown",
   "metadata": {},
   "source": [
    "### Ejercicio\n",
    "\n",
    "Cuál fue el rando y el promedio de la nota del curso?\n",
    "\n",
    "#### Respuesta"
   ]
  },
  {
   "cell_type": "code",
   "execution_count": null,
   "metadata": {},
   "outputs": [],
   "source": []
  },
  {
   "cell_type": "markdown",
   "metadata": {},
   "source": [
    "### Ejercicio\n",
    "\n",
    "Repita el mismo ejercicio anterior pero asuma ahora que la contribución de las diferentes notas a la nota final del curso no es uniforme, sino que sigue la siguiente reglas:\n",
    "\n",
    "Primer corte : 20%  \n",
    "Segundo corte: 20%  \n",
    "Tercer corte : 30%    \n",
    "Participacion: 10%  \n",
    "Final:         20%\n",
    "\n",
    "*a)* Agregue una columna nueva con el nombre \"Nota corte 2\" y asiguele a cada registro el resultado corresponde con la nota final del curso segun la contribución anterior. *b)* Calcule la nota promedio del curso. "
   ]
  },
  {
   "cell_type": "code",
   "execution_count": null,
   "metadata": {},
   "outputs": [],
   "source": []
  },
  {
   "cell_type": "code",
   "execution_count": null,
   "metadata": {},
   "outputs": [],
   "source": []
  }
 ],
 "metadata": {
  "kernelspec": {
   "display_name": "Python 3",
   "language": "python",
   "name": "python3"
  },
  "language_info": {
   "codemirror_mode": {
    "name": "ipython",
    "version": 3
   },
   "file_extension": ".py",
   "mimetype": "text/x-python",
   "name": "python",
   "nbconvert_exporter": "python",
   "pygments_lexer": "ipython3",
   "version": "3.8.3"
  }
 },
 "nbformat": 4,
 "nbformat_minor": 4
}
