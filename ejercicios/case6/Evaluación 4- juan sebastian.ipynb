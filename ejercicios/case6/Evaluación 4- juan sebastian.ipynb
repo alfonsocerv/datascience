{
  "nbformat": 4,
  "nbformat_minor": 0,
  "metadata": {
    "kernelspec": {
      "display_name": "Python 3",
      "language": "python",
      "name": "python3"
    },
    "language_info": {
      "codemirror_mode": {
        "name": "ipython",
        "version": 3
      },
      "file_extension": ".py",
      "mimetype": "text/x-python",
      "name": "python",
      "nbconvert_exporter": "python",
      "pygments_lexer": "ipython3",
      "version": "3.8.3"
    },
    "colab": {
      "name": "caso6.ipynb",
      "provenance": [],
      "collapsed_sections": [],
      "toc_visible": true
    }
  },
  "cells": [
    {
      "cell_type": "markdown",
      "metadata": {
        "id": "6Iy5HIXyzegY"
      },
      "source": [
        "## Cuarta actividad evaluativa\n",
        "\n",
        "Profesor Alfonso Cervantes Barragán - 05-10-2020\n",
        "\n",
        "Universidad Sergio Arboleda - Informatica III"
      ]
    },
    {
      "cell_type": "markdown",
      "metadata": {
        "id": "_3rTYKJ3zegZ"
      },
      "source": [
        "### Descripción del contexto.\n",
        "\n",
        "En esta actividad el estudiante debera realizar un análisis exploratorio de Datos (EDA) del dataset *ventas-de-juegos.csv*, que contiene información sobre videos juegos vendidos que superarion las 100 000 copias.  \n",
        "\n",
        "La siguiente tabla contiene la descripción de las columnas:\n",
        "\n",
        "|Columna |\tDescripción |  \n",
        "|--------|--------------|\n",
        "|Rank|Ranking sobre las ventas totales |   \n",
        "|Name| Nombre del juego|   \n",
        "|Platform |\tPlataforma mediante la cual fue dado a conocer el juego| \n",
        "|year |\taño en el que se dio a conocer el juego|   \n",
        "|genre |genero del juego |  \n",
        "|Publisher |\teditor del juego |  \n",
        "|NA_sales |Ventas en Norte America (en millones) |  \n",
        "|EU_sales |Ventas en Europa (en millones) | \n",
        "|JP_sales| ventas en Japón (en millones) |  \n",
        "|Other_sales| ventas en el resto del mundo (en millones)|\n",
        "|Global_sales|ventas totales en el mundo|\n",
        "\n",
        "\n",
        "#### Entregable\n",
        "\n",
        "El estudiante debera entregar un documento con extensión *ipynb* mediante el taller \"Cuarta Evaluación \" que se encuentra en el curso virtual Informatica III en el plataforma Sergio Virtual\n",
        "\n",
        "\n",
        "#### Plazo\n",
        "\n",
        "El plazo de entrega sera hasta el sabado, 24 de octubre a las 11:30 p.m. En el aula del curso en la plataforma Sergio Virtual estará disponible un taller en el cual deberan subir el archivo .ipynb (Jupyter notebook) con todo el código requerido. \n",
        "\n",
        "No esta permitido resolver los ejercicios a mano ni ingresar la respuesta sin que haya un código que lo respalde.\n",
        "\n",
        "#### Donde puedo trabajar?\n",
        "\n",
        "Este ejercicio se puede realizar en el entorno virtual creado con base en el repositorio github.com/alfonsocerv/datascience en la carpeta /ejericicio/caso6.\n",
        "\n",
        "#### Criterios de evaluación\n",
        "\n",
        "1. Todo el código requerido debe estar presente. Cada ejercicio debe tener su respectiva respuesta.\n",
        "2. No pueden haber errores que se generen al ejecutar el código.\n",
        "3. El código debe cumplir con las especificaciones de cada ejercicio."
      ]
    },
    {
      "cell_type": "markdown",
      "metadata": {
        "id": "aymZPeDHzegb"
      },
      "source": [
        "### Ejercicio 1\n",
        "\n",
        "Importa las librerias pandas, numpy y matplotlib\n",
        "\n",
        "#### Respuesta"
      ]
    },
    {
      "cell_type": "code",
      "metadata": {
        "id": "kGb6WJL7zegb"
      },
      "source": [
        "%matplotlib inline"
      ],
      "execution_count": 2,
      "outputs": []
    },
    {
      "cell_type": "code",
      "metadata": {
        "id": "LAeaxpyxzegg"
      },
      "source": [
        "import matplotlib.pyplot as plt\n",
        "import pandas as pd\n",
        "import numpy as np"
      ],
      "execution_count": 3,
      "outputs": []
    },
    {
      "cell_type": "markdown",
      "metadata": {
        "id": "tuhGU3y2NoA6"
      },
      "source": [
        "### Ejercicio 2\n",
        "\n",
        "Lee la base de datos *ventas-de-juegos.csv* y el dataframe resultante bajo el nombre *data*\n",
        "\n",
        "#### Respuesta"
      ]
    },
    {
      "cell_type": "code",
      "metadata": {
        "id": "oULZgzWR0W45"
      },
      "source": [
        "data = pd.read_csv('ventas-de-juegos.csv')"
      ],
      "execution_count": 4,
      "outputs": []
    },
    {
      "cell_type": "markdown",
      "metadata": {
        "id": "rk7dZCuWN9bz"
      },
      "source": [
        "### Ejercicio 3\n",
        "\n",
        "Muestra las primeras 10 filas del dataframe *data*\n",
        "\n",
        "#### Respuesta"
      ]
    },
    {
      "cell_type": "code",
      "metadata": {
        "id": "4B29U5JpOZ0g",
        "outputId": "862c9431-7087-4b4f-bc42-297ae9687e28",
        "colab": {
          "base_uri": "https://localhost:8080/",
          "height": 410
        }
      },
      "source": [
        "data.head(10)"
      ],
      "execution_count": 5,
      "outputs": [
        {
          "output_type": "execute_result",
          "data": {
            "text/html": [
              "<div>\n",
              "<style scoped>\n",
              "    .dataframe tbody tr th:only-of-type {\n",
              "        vertical-align: middle;\n",
              "    }\n",
              "\n",
              "    .dataframe tbody tr th {\n",
              "        vertical-align: top;\n",
              "    }\n",
              "\n",
              "    .dataframe thead th {\n",
              "        text-align: right;\n",
              "    }\n",
              "</style>\n",
              "<table border=\"1\" class=\"dataframe\">\n",
              "  <thead>\n",
              "    <tr style=\"text-align: right;\">\n",
              "      <th></th>\n",
              "      <th>Rank</th>\n",
              "      <th>Name</th>\n",
              "      <th>Platform</th>\n",
              "      <th>Year</th>\n",
              "      <th>Genre</th>\n",
              "      <th>Publisher</th>\n",
              "      <th>NA_Sales</th>\n",
              "      <th>EU_Sales</th>\n",
              "      <th>JP_Sales</th>\n",
              "      <th>Other_Sales</th>\n",
              "      <th>Global_Sales</th>\n",
              "    </tr>\n",
              "  </thead>\n",
              "  <tbody>\n",
              "    <tr>\n",
              "      <th>0</th>\n",
              "      <td>1</td>\n",
              "      <td>Wii Sports</td>\n",
              "      <td>Wii</td>\n",
              "      <td>2006.0</td>\n",
              "      <td>Sports</td>\n",
              "      <td>Nintendo</td>\n",
              "      <td>41.49</td>\n",
              "      <td>29.02</td>\n",
              "      <td>3.77</td>\n",
              "      <td>8.46</td>\n",
              "      <td>82.74</td>\n",
              "    </tr>\n",
              "    <tr>\n",
              "      <th>1</th>\n",
              "      <td>2</td>\n",
              "      <td>Super Mario Bros.</td>\n",
              "      <td>NES</td>\n",
              "      <td>1985.0</td>\n",
              "      <td>Platform</td>\n",
              "      <td>Nintendo</td>\n",
              "      <td>29.08</td>\n",
              "      <td>3.58</td>\n",
              "      <td>6.81</td>\n",
              "      <td>0.77</td>\n",
              "      <td>40.24</td>\n",
              "    </tr>\n",
              "    <tr>\n",
              "      <th>2</th>\n",
              "      <td>3</td>\n",
              "      <td>Mario Kart Wii</td>\n",
              "      <td>Wii</td>\n",
              "      <td>2008.0</td>\n",
              "      <td>Racing</td>\n",
              "      <td>Nintendo</td>\n",
              "      <td>15.85</td>\n",
              "      <td>12.88</td>\n",
              "      <td>3.79</td>\n",
              "      <td>3.31</td>\n",
              "      <td>35.82</td>\n",
              "    </tr>\n",
              "    <tr>\n",
              "      <th>3</th>\n",
              "      <td>4</td>\n",
              "      <td>Wii Sports Resort</td>\n",
              "      <td>Wii</td>\n",
              "      <td>2009.0</td>\n",
              "      <td>Sports</td>\n",
              "      <td>Nintendo</td>\n",
              "      <td>15.75</td>\n",
              "      <td>11.01</td>\n",
              "      <td>3.28</td>\n",
              "      <td>2.96</td>\n",
              "      <td>33.00</td>\n",
              "    </tr>\n",
              "    <tr>\n",
              "      <th>4</th>\n",
              "      <td>5</td>\n",
              "      <td>Pokemon Red/Pokemon Blue</td>\n",
              "      <td>GB</td>\n",
              "      <td>1996.0</td>\n",
              "      <td>Role-Playing</td>\n",
              "      <td>Nintendo</td>\n",
              "      <td>11.27</td>\n",
              "      <td>8.89</td>\n",
              "      <td>10.22</td>\n",
              "      <td>1.00</td>\n",
              "      <td>31.37</td>\n",
              "    </tr>\n",
              "    <tr>\n",
              "      <th>5</th>\n",
              "      <td>6</td>\n",
              "      <td>Tetris</td>\n",
              "      <td>GB</td>\n",
              "      <td>1989.0</td>\n",
              "      <td>Puzzle</td>\n",
              "      <td>Nintendo</td>\n",
              "      <td>23.20</td>\n",
              "      <td>2.26</td>\n",
              "      <td>4.22</td>\n",
              "      <td>0.58</td>\n",
              "      <td>30.26</td>\n",
              "    </tr>\n",
              "    <tr>\n",
              "      <th>6</th>\n",
              "      <td>7</td>\n",
              "      <td>New Super Mario Bros.</td>\n",
              "      <td>DS</td>\n",
              "      <td>2006.0</td>\n",
              "      <td>Platform</td>\n",
              "      <td>Nintendo</td>\n",
              "      <td>11.38</td>\n",
              "      <td>9.23</td>\n",
              "      <td>6.50</td>\n",
              "      <td>2.90</td>\n",
              "      <td>30.01</td>\n",
              "    </tr>\n",
              "    <tr>\n",
              "      <th>7</th>\n",
              "      <td>8</td>\n",
              "      <td>Wii Play</td>\n",
              "      <td>Wii</td>\n",
              "      <td>2006.0</td>\n",
              "      <td>Misc</td>\n",
              "      <td>Nintendo</td>\n",
              "      <td>14.03</td>\n",
              "      <td>9.20</td>\n",
              "      <td>2.93</td>\n",
              "      <td>2.85</td>\n",
              "      <td>29.02</td>\n",
              "    </tr>\n",
              "    <tr>\n",
              "      <th>8</th>\n",
              "      <td>9</td>\n",
              "      <td>New Super Mario Bros. Wii</td>\n",
              "      <td>Wii</td>\n",
              "      <td>2009.0</td>\n",
              "      <td>Platform</td>\n",
              "      <td>Nintendo</td>\n",
              "      <td>14.59</td>\n",
              "      <td>7.06</td>\n",
              "      <td>4.70</td>\n",
              "      <td>2.26</td>\n",
              "      <td>28.62</td>\n",
              "    </tr>\n",
              "    <tr>\n",
              "      <th>9</th>\n",
              "      <td>10</td>\n",
              "      <td>Duck Hunt</td>\n",
              "      <td>NES</td>\n",
              "      <td>1984.0</td>\n",
              "      <td>Shooter</td>\n",
              "      <td>Nintendo</td>\n",
              "      <td>26.93</td>\n",
              "      <td>0.63</td>\n",
              "      <td>0.28</td>\n",
              "      <td>0.47</td>\n",
              "      <td>28.31</td>\n",
              "    </tr>\n",
              "  </tbody>\n",
              "</table>\n",
              "</div>"
            ],
            "text/plain": [
              "   Rank                       Name  ... Other_Sales  Global_Sales\n",
              "0     1                 Wii Sports  ...        8.46         82.74\n",
              "1     2          Super Mario Bros.  ...        0.77         40.24\n",
              "2     3             Mario Kart Wii  ...        3.31         35.82\n",
              "3     4          Wii Sports Resort  ...        2.96         33.00\n",
              "4     5   Pokemon Red/Pokemon Blue  ...        1.00         31.37\n",
              "5     6                     Tetris  ...        0.58         30.26\n",
              "6     7      New Super Mario Bros.  ...        2.90         30.01\n",
              "7     8                   Wii Play  ...        2.85         29.02\n",
              "8     9  New Super Mario Bros. Wii  ...        2.26         28.62\n",
              "9    10                  Duck Hunt  ...        0.47         28.31\n",
              "\n",
              "[10 rows x 11 columns]"
            ]
          },
          "metadata": {
            "tags": []
          },
          "execution_count": 5
        }
      ]
    },
    {
      "cell_type": "markdown",
      "metadata": {
        "id": "0Cow_XQBnUUN"
      },
      "source": [
        "### Ejercicio 4\n",
        "\n",
        "Muestre el número de videojuegos registrados en la base de datos que superaron las 100 000 copias.\n",
        "\n",
        "#### Respuesta"
      ]
    },
    {
      "cell_type": "code",
      "metadata": {
        "id": "PUKNKxLLQ4y_",
        "outputId": "92f6c6ba-9976-429c-f5b3-79dc1ed6e91b",
        "colab": {
          "base_uri": "https://localhost:8080/",
          "height": 34
        }
      },
      "source": [
        "print('La base de datos tiene %i registros.' % data.shape[0])"
      ],
      "execution_count": 6,
      "outputs": [
        {
          "output_type": "stream",
          "text": [
            "La base de datos tiene 16598 registros.\n"
          ],
          "name": "stdout"
        }
      ]
    },
    {
      "cell_type": "markdown",
      "metadata": {
        "id": "BUtLjjrb2_0D"
      },
      "source": [
        "### Ejercicio 5\n",
        "\n",
        "Con los géneros de los videojuegos muestre un gráfico circular o de torta, y con base en este escriba cuáles son los dos primeros géneros con mayor porcentaje.\n",
        "\n",
        "#### Respuesta"
      ]
    },
    {
      "cell_type": "code",
      "metadata": {
        "id": "PNpwsBvH3hy0",
        "outputId": "12389caa-50d4-44f0-b527-3bdadfd0e017",
        "colab": {
          "base_uri": "https://localhost:8080/",
          "height": 265
        }
      },
      "source": [
        "data['Genre'].value_counts().plot.pie()"
      ],
      "execution_count": 7,
      "outputs": [
        {
          "output_type": "execute_result",
          "data": {
            "text/plain": [
              "<matplotlib.axes._subplots.AxesSubplot at 0x7f488c77cc18>"
            ]
          },
          "metadata": {
            "tags": []
          },
          "execution_count": 7
        },
        {
          "output_type": "display_data",
          "data": {
            "image/png": "[encoded data removed]",
            "text/plain": [
              "<Figure size 432x288 with 1 Axes>"
            ]
          },
          "metadata": {
            "tags": []
          }
        }
      ]
    },
    {
      "cell_type": "markdown",
      "metadata": {
        "id": "9J8gtXdJ3jcr"
      },
      "source": [
        "    Se observa que el género de 'Action' es el que tiene un mayor número de juegos registrados, seguido del género 'Sports'. \n",
        "    Estos dos géneros se distinguen mucho del resto debido a que ocupan una gran porción del gráfico circular."
      ]
    },
    {
      "cell_type": "markdown",
      "metadata": {
        "id": "VoUfotI1lMau"
      },
      "source": [
        "### Ejercicio 6\n",
        "\n",
        "Ahora, muestre la lista todos de géneros de videojuegos ordenados por su frecuencia. \n",
        "\n",
        "#### Respuesta"
      ]
    },
    {
      "cell_type": "code",
      "metadata": {
        "id": "f-4CGsLslUBn",
        "outputId": "b1536fab-9c35-4577-f989-032cf81bbba4",
        "colab": {
          "base_uri": "https://localhost:8080/",
          "height": 238
        }
      },
      "source": [
        "data['Genre'].value_counts()"
      ],
      "execution_count": 8,
      "outputs": [
        {
          "output_type": "execute_result",
          "data": {
            "text/plain": [
              "Action          3316\n",
              "Sports          2346\n",
              "Misc            1739\n",
              "Role-Playing    1488\n",
              "Shooter         1310\n",
              "Adventure       1286\n",
              "Racing          1249\n",
              "Platform         886\n",
              "Simulation       867\n",
              "Fighting         848\n",
              "Strategy         681\n",
              "Puzzle           582\n",
              "Name: Genre, dtype: int64"
            ]
          },
          "metadata": {
            "tags": []
          },
          "execution_count": 8
        }
      ]
    },
    {
      "cell_type": "markdown",
      "metadata": {
        "id": "8lvTJyEbrqs0"
      },
      "source": [
        "### Ejercicio 7\n",
        "\n",
        "Muestre el número de plataformas distintas que dan a conocer estos videojuegos, además muestre el top 5 de plataformas más influyentes en dar a conocer los juegos.\n",
        "\n",
        "#### Respuesta"
      ]
    },
    {
      "cell_type": "code",
      "metadata": {
        "id": "YKTm9LFZrhsU",
        "outputId": "d2a55b89-ca93-4020-b251-2b0128a932bf",
        "colab": {
          "base_uri": "https://localhost:8080/",
          "height": 153
        }
      },
      "source": [
        "print('Número total de plataformas: %i' % data['Platform'].nunique())\n",
        "print('Top 5 de paltaformas:')\n",
        "data['Platform'].value_counts().head(5)"
      ],
      "execution_count": 9,
      "outputs": [
        {
          "output_type": "stream",
          "text": [
            "Número total de plataformas: 31\n",
            "Top 5 de paltaformas:\n"
          ],
          "name": "stdout"
        },
        {
          "output_type": "execute_result",
          "data": {
            "text/plain": [
              "DS      2163\n",
              "PS2     2161\n",
              "PS3     1329\n",
              "Wii     1325\n",
              "X360    1265\n",
              "Name: Platform, dtype: int64"
            ]
          },
          "metadata": {
            "tags": []
          },
          "execution_count": 9
        }
      ]
    },
    {
      "cell_type": "markdown",
      "metadata": {
        "id": "Gmb-zKABtGqJ"
      },
      "source": [
        "### Ejercicio 8\n",
        "Muestre toda la información de los juegos vendidos que se dieron a conocer en el año más antiguo, hacer lo mismo con el año más reciente.\n",
        "#### Respuesta"
      ]
    },
    {
      "cell_type": "code",
      "metadata": {
        "id": "BNrxzbX5tjLD",
        "outputId": "1f8cbf7c-5b8e-475c-bf58-9e0f3285fe22",
        "colab": {
          "base_uri": "https://localhost:8080/",
          "height": 345
        }
      },
      "source": [
        "dataminyear = data[data['Year'].min() == data['Year']]\n",
        "print('Número de juegos: %i' % dataminyear.shape[0])\n",
        "dataminyear"
      ],
      "execution_count": 10,
      "outputs": [
        {
          "output_type": "stream",
          "text": [
            "Número de juegos: 9\n"
          ],
          "name": "stdout"
        },
        {
          "output_type": "execute_result",
          "data": {
            "text/html": [
              "<div>\n",
              "<style scoped>\n",
              "    .dataframe tbody tr th:only-of-type {\n",
              "        vertical-align: middle;\n",
              "    }\n",
              "\n",
              "    .dataframe tbody tr th {\n",
              "        vertical-align: top;\n",
              "    }\n",
              "\n",
              "    .dataframe thead th {\n",
              "        text-align: right;\n",
              "    }\n",
              "</style>\n",
              "<table border=\"1\" class=\"dataframe\">\n",
              "  <thead>\n",
              "    <tr style=\"text-align: right;\">\n",
              "      <th></th>\n",
              "      <th>Rank</th>\n",
              "      <th>Name</th>\n",
              "      <th>Platform</th>\n",
              "      <th>Year</th>\n",
              "      <th>Genre</th>\n",
              "      <th>Publisher</th>\n",
              "      <th>NA_Sales</th>\n",
              "      <th>EU_Sales</th>\n",
              "      <th>JP_Sales</th>\n",
              "      <th>Other_Sales</th>\n",
              "      <th>Global_Sales</th>\n",
              "    </tr>\n",
              "  </thead>\n",
              "  <tbody>\n",
              "    <tr>\n",
              "      <th>258</th>\n",
              "      <td>259</td>\n",
              "      <td>Asteroids</td>\n",
              "      <td>2600</td>\n",
              "      <td>1980.0</td>\n",
              "      <td>Shooter</td>\n",
              "      <td>Atari</td>\n",
              "      <td>4.00</td>\n",
              "      <td>0.26</td>\n",
              "      <td>0.0</td>\n",
              "      <td>0.05</td>\n",
              "      <td>4.31</td>\n",
              "    </tr>\n",
              "    <tr>\n",
              "      <th>544</th>\n",
              "      <td>545</td>\n",
              "      <td>Missile Command</td>\n",
              "      <td>2600</td>\n",
              "      <td>1980.0</td>\n",
              "      <td>Shooter</td>\n",
              "      <td>Atari</td>\n",
              "      <td>2.56</td>\n",
              "      <td>0.17</td>\n",
              "      <td>0.0</td>\n",
              "      <td>0.03</td>\n",
              "      <td>2.76</td>\n",
              "    </tr>\n",
              "    <tr>\n",
              "      <th>1766</th>\n",
              "      <td>1768</td>\n",
              "      <td>Kaboom!</td>\n",
              "      <td>2600</td>\n",
              "      <td>1980.0</td>\n",
              "      <td>Misc</td>\n",
              "      <td>Activision</td>\n",
              "      <td>1.07</td>\n",
              "      <td>0.07</td>\n",
              "      <td>0.0</td>\n",
              "      <td>0.01</td>\n",
              "      <td>1.15</td>\n",
              "    </tr>\n",
              "    <tr>\n",
              "      <th>1969</th>\n",
              "      <td>1971</td>\n",
              "      <td>Defender</td>\n",
              "      <td>2600</td>\n",
              "      <td>1980.0</td>\n",
              "      <td>Misc</td>\n",
              "      <td>Atari</td>\n",
              "      <td>0.99</td>\n",
              "      <td>0.05</td>\n",
              "      <td>0.0</td>\n",
              "      <td>0.01</td>\n",
              "      <td>1.05</td>\n",
              "    </tr>\n",
              "    <tr>\n",
              "      <th>2669</th>\n",
              "      <td>2671</td>\n",
              "      <td>Boxing</td>\n",
              "      <td>2600</td>\n",
              "      <td>1980.0</td>\n",
              "      <td>Fighting</td>\n",
              "      <td>Activision</td>\n",
              "      <td>0.72</td>\n",
              "      <td>0.04</td>\n",
              "      <td>0.0</td>\n",
              "      <td>0.01</td>\n",
              "      <td>0.77</td>\n",
              "    </tr>\n",
              "    <tr>\n",
              "      <th>4025</th>\n",
              "      <td>4027</td>\n",
              "      <td>Ice Hockey</td>\n",
              "      <td>2600</td>\n",
              "      <td>1980.0</td>\n",
              "      <td>Sports</td>\n",
              "      <td>Activision</td>\n",
              "      <td>0.46</td>\n",
              "      <td>0.03</td>\n",
              "      <td>0.0</td>\n",
              "      <td>0.01</td>\n",
              "      <td>0.49</td>\n",
              "    </tr>\n",
              "    <tr>\n",
              "      <th>5366</th>\n",
              "      <td>5368</td>\n",
              "      <td>Freeway</td>\n",
              "      <td>2600</td>\n",
              "      <td>1980.0</td>\n",
              "      <td>Action</td>\n",
              "      <td>Activision</td>\n",
              "      <td>0.32</td>\n",
              "      <td>0.02</td>\n",
              "      <td>0.0</td>\n",
              "      <td>0.00</td>\n",
              "      <td>0.34</td>\n",
              "    </tr>\n",
              "    <tr>\n",
              "      <th>6317</th>\n",
              "      <td>6319</td>\n",
              "      <td>Bridge</td>\n",
              "      <td>2600</td>\n",
              "      <td>1980.0</td>\n",
              "      <td>Misc</td>\n",
              "      <td>Activision</td>\n",
              "      <td>0.25</td>\n",
              "      <td>0.02</td>\n",
              "      <td>0.0</td>\n",
              "      <td>0.00</td>\n",
              "      <td>0.27</td>\n",
              "    </tr>\n",
              "    <tr>\n",
              "      <th>6896</th>\n",
              "      <td>6898</td>\n",
              "      <td>Checkers</td>\n",
              "      <td>2600</td>\n",
              "      <td>1980.0</td>\n",
              "      <td>Misc</td>\n",
              "      <td>Atari</td>\n",
              "      <td>0.22</td>\n",
              "      <td>0.01</td>\n",
              "      <td>0.0</td>\n",
              "      <td>0.00</td>\n",
              "      <td>0.24</td>\n",
              "    </tr>\n",
              "  </tbody>\n",
              "</table>\n",
              "</div>"
            ],
            "text/plain": [
              "      Rank             Name Platform  ...  JP_Sales Other_Sales Global_Sales\n",
              "258    259        Asteroids     2600  ...       0.0        0.05         4.31\n",
              "544    545  Missile Command     2600  ...       0.0        0.03         2.76\n",
              "1766  1768          Kaboom!     2600  ...       0.0        0.01         1.15\n",
              "1969  1971         Defender     2600  ...       0.0        0.01         1.05\n",
              "2669  2671           Boxing     2600  ...       0.0        0.01         0.77\n",
              "4025  4027       Ice Hockey     2600  ...       0.0        0.01         0.49\n",
              "5366  5368          Freeway     2600  ...       0.0        0.00         0.34\n",
              "6317  6319           Bridge     2600  ...       0.0        0.00         0.27\n",
              "6896  6898         Checkers     2600  ...       0.0        0.00         0.24\n",
              "\n",
              "[9 rows x 11 columns]"
            ]
          },
          "metadata": {
            "tags": []
          },
          "execution_count": 10
        }
      ]
    },
    {
      "cell_type": "code",
      "metadata": {
        "id": "XmE7nyWtvOQO",
        "outputId": "539dd3f6-e0cc-4fa2-9cf8-3fc25438f9e7",
        "colab": {
          "base_uri": "https://localhost:8080/",
          "height": 114
        }
      },
      "source": [
        "datamaxyear = data[data['Year'].max() == data['Year']]\n",
        "print('Número de juegos: %i' % datamaxyear.shape[0])\n",
        "datamaxyear"
      ],
      "execution_count": 11,
      "outputs": [
        {
          "output_type": "stream",
          "text": [
            "Número de juegos: 1\n"
          ],
          "name": "stdout"
        },
        {
          "output_type": "execute_result",
          "data": {
            "text/html": [
              "<div>\n",
              "<style scoped>\n",
              "    .dataframe tbody tr th:only-of-type {\n",
              "        vertical-align: middle;\n",
              "    }\n",
              "\n",
              "    .dataframe tbody tr th {\n",
              "        vertical-align: top;\n",
              "    }\n",
              "\n",
              "    .dataframe thead th {\n",
              "        text-align: right;\n",
              "    }\n",
              "</style>\n",
              "<table border=\"1\" class=\"dataframe\">\n",
              "  <thead>\n",
              "    <tr style=\"text-align: right;\">\n",
              "      <th></th>\n",
              "      <th>Rank</th>\n",
              "      <th>Name</th>\n",
              "      <th>Platform</th>\n",
              "      <th>Year</th>\n",
              "      <th>Genre</th>\n",
              "      <th>Publisher</th>\n",
              "      <th>NA_Sales</th>\n",
              "      <th>EU_Sales</th>\n",
              "      <th>JP_Sales</th>\n",
              "      <th>Other_Sales</th>\n",
              "      <th>Global_Sales</th>\n",
              "    </tr>\n",
              "  </thead>\n",
              "  <tbody>\n",
              "    <tr>\n",
              "      <th>5957</th>\n",
              "      <td>5959</td>\n",
              "      <td>Imagine: Makeup Artist</td>\n",
              "      <td>DS</td>\n",
              "      <td>2020.0</td>\n",
              "      <td>Simulation</td>\n",
              "      <td>Ubisoft</td>\n",
              "      <td>0.27</td>\n",
              "      <td>0.0</td>\n",
              "      <td>0.0</td>\n",
              "      <td>0.02</td>\n",
              "      <td>0.29</td>\n",
              "    </tr>\n",
              "  </tbody>\n",
              "</table>\n",
              "</div>"
            ],
            "text/plain": [
              "      Rank                    Name  ... Other_Sales  Global_Sales\n",
              "5957  5959  Imagine: Makeup Artist  ...        0.02          0.29\n",
              "\n",
              "[1 rows x 11 columns]"
            ]
          },
          "metadata": {
            "tags": []
          },
          "execution_count": 11
        }
      ]
    },
    {
      "cell_type": "markdown",
      "metadata": {
        "id": "Ja3kGccJ5amB"
      },
      "source": [
        "### Ejercicio 9\n",
        "¿Cuántos son los años distintos en los cuales los juegos vendidos se popularizaron?\n",
        "#### Respuesta"
      ]
    },
    {
      "cell_type": "code",
      "metadata": {
        "id": "JGAjU2LN8LWG",
        "outputId": "3709dd10-396f-4dde-99dd-11d338cabf8a",
        "colab": {
          "base_uri": "https://localhost:8080/",
          "height": 34
        }
      },
      "source": [
        "data['Year'].nunique()"
      ],
      "execution_count": 12,
      "outputs": [
        {
          "output_type": "execute_result",
          "data": {
            "text/plain": [
              "39"
            ]
          },
          "metadata": {
            "tags": []
          },
          "execution_count": 12
        }
      ]
    },
    {
      "cell_type": "markdown",
      "metadata": {
        "id": "oB4JBdL4F8WL"
      },
      "source": [
        "### Ejercicio 10\n",
        "¿Cuál es el género de videojuegos que más se vende en Norte América?\n",
        "#### Respuesta"
      ]
    },
    {
      "cell_type": "code",
      "metadata": {
        "id": "_0wdvj0xGDli",
        "outputId": "1b9a654a-c8d8-4cec-a87b-115de3fa8c57",
        "colab": {
          "base_uri": "https://localhost:8080/",
          "height": 51
        }
      },
      "source": [
        "data.query('NA_Sales > EU_Sales & NA_Sales > JP_Sales & NA_Sales > Other_Sales')['Genre'].value_counts().head(1)"
      ],
      "execution_count": 13,
      "outputs": [
        {
          "output_type": "execute_result",
          "data": {
            "text/plain": [
              "Action    2020\n",
              "Name: Genre, dtype: int64"
            ]
          },
          "metadata": {
            "tags": []
          },
          "execution_count": 13
        }
      ]
    },
    {
      "cell_type": "markdown",
      "metadata": {
        "id": "-PbKcH_uXaGI"
      },
      "source": [
        "### Ejercicio 11\n",
        "¿Cuál es el género de videojuegos que más se vende en Europa?\n",
        "#### Respuesta"
      ]
    },
    {
      "cell_type": "code",
      "metadata": {
        "id": "htR26JxmXft1",
        "outputId": "167e232c-9eb5-40d4-a6fc-4b5e0c54b828",
        "colab": {
          "base_uri": "https://localhost:8080/",
          "height": 51
        }
      },
      "source": [
        "data.query('EU_Sales > NA_Sales & EU_Sales > JP_Sales & EU_Sales > Other_Sales')['Genre'].value_counts().head(1)"
      ],
      "execution_count": 14,
      "outputs": [
        {
          "output_type": "execute_result",
          "data": {
            "text/plain": [
              "Action    519\n",
              "Name: Genre, dtype: int64"
            ]
          },
          "metadata": {
            "tags": []
          },
          "execution_count": 14
        }
      ]
    },
    {
      "cell_type": "markdown",
      "metadata": {
        "id": "Wcvlt7DDX2CC"
      },
      "source": [
        "### Ejercicio 12\n",
        "¿Cuál es el género de videojuegos que más se vende en Japón?\n",
        "#### Respuesta"
      ]
    },
    {
      "cell_type": "code",
      "metadata": {
        "id": "G5V88R1uX6W8",
        "outputId": "3a583e80-6219-443a-ee96-e3d8302b361f",
        "colab": {
          "base_uri": "https://localhost:8080/",
          "height": 51
        }
      },
      "source": [
        "data.query('JP_Sales > NA_Sales & JP_Sales > EU_Sales & JP_Sales > Other_Sales')['Genre'].value_counts().head(1)"
      ],
      "execution_count": 15,
      "outputs": [
        {
          "output_type": "execute_result",
          "data": {
            "text/plain": [
              "Role-Playing    764\n",
              "Name: Genre, dtype: int64"
            ]
          },
          "metadata": {
            "tags": []
          },
          "execution_count": 15
        }
      ]
    },
    {
      "cell_type": "markdown",
      "metadata": {
        "id": "eRvmCMVa5kjk"
      },
      "source": [
        "### Ejercicio 13\n",
        "¿Cuántos videojuegos que superaron las 100 000 copias se popularizaron en el año 2010?\n",
        "#### Respuesta"
      ]
    },
    {
      "cell_type": "code",
      "metadata": {
        "id": "J1pzpSI95wvA",
        "outputId": "6e82c9fb-8ced-4462-9496-4d2d2cddea32",
        "colab": {
          "base_uri": "https://localhost:8080/",
          "height": 34
        }
      },
      "source": [
        "print('Número de videojuegos que se popularizaron en 2010:', data[data['Year'] == 2010].shape[0])"
      ],
      "execution_count": 16,
      "outputs": [
        {
          "output_type": "stream",
          "text": [
            "Número de videojuegos que se popularizaron en 2010: 1259\n"
          ],
          "name": "stdout"
        }
      ]
    },
    {
      "cell_type": "markdown",
      "metadata": {
        "id": "3Acfca4dbUIw"
      },
      "source": [
        "### Ejercicio 14\n",
        "Organice en orden descendente los promedios de las ventas a nivel global, Norteamérica, Europa, Japón y otros sitios.\n",
        "#### Respuesta"
      ]
    },
    {
      "cell_type": "code",
      "metadata": {
        "id": "q61VVVVDbjsH",
        "outputId": "d043e575-c2ba-4848-b4ce-709b0d7fa5a3",
        "colab": {
          "base_uri": "https://localhost:8080/",
          "height": 119
        }
      },
      "source": [
        "data[['NA_Sales', 'EU_Sales', 'JP_Sales', 'Other_Sales', 'Global_Sales']].mean().sort_values(ascending=False)"
      ],
      "execution_count": 17,
      "outputs": [
        {
          "output_type": "execute_result",
          "data": {
            "text/plain": [
              "Global_Sales    0.537441\n",
              "NA_Sales        0.264667\n",
              "EU_Sales        0.146652\n",
              "JP_Sales        0.077782\n",
              "Other_Sales     0.048063\n",
              "dtype: float64"
            ]
          },
          "metadata": {
            "tags": []
          },
          "execution_count": 17
        }
      ]
    },
    {
      "cell_type": "markdown",
      "metadata": {
        "id": "21c_zgaf0hoH"
      },
      "source": [
        "    Através de estos datos, podemos afirmar que la mayoría de compras de videojuegos se llevan a cabo en Norte América."
      ]
    },
    {
      "cell_type": "markdown",
      "metadata": {
        "id": "lwX5Jx7NqyAF"
      },
      "source": [
        "### Ejercicio 15\n",
        "¿Realice un histograma de los años en los cuales se popularizaron los juegos de la base de datos?\n",
        "#### Respuesta"
      ]
    },
    {
      "cell_type": "code",
      "metadata": {
        "id": "F-Wy1giQnjgr",
        "outputId": "146933eb-d4b0-414a-c981-564e11fa1a6d",
        "colab": {
          "base_uri": "https://localhost:8080/",
          "height": 282
        }
      },
      "source": [
        "data['Year'].hist()"
      ],
      "execution_count": 18,
      "outputs": [
        {
          "output_type": "execute_result",
          "data": {
            "text/plain": [
              "<matplotlib.axes._subplots.AxesSubplot at 0x7f488b423b00>"
            ]
          },
          "metadata": {
            "tags": []
          },
          "execution_count": 18
        },
        {
          "output_type": "display_data",
          "data": {
            "image/png": "[encoded data removed]",
            "text/plain": [
              "<Figure size 432x288 with 1 Axes>"
            ]
          },
          "metadata": {
            "tags": [],
            "needs_background": "light"
          }
        }
      ]
    },
    {
      "cell_type": "markdown",
      "metadata": {
        "id": "_qn1d93EtNth"
      },
      "source": [
        "### Ejercicio 16\n",
        "\n",
        "Determine los coeficientes de asimetría y curtosis de los datos correspondientes al año en que se dieron a conocer los juegos, explique los resultados.\n",
        "\n",
        "#### Respuesta"
      ]
    },
    {
      "cell_type": "code",
      "metadata": {
        "id": "8NIsr8ogtobZ",
        "outputId": "8cb52ad1-5296-42c1-c915-ab7a25b56fdb",
        "colab": {
          "base_uri": "https://localhost:8080/",
          "height": 34
        }
      },
      "source": [
        "print('Coeficiente de asimetría: %f' % data['Year'].skew())"
      ],
      "execution_count": 19,
      "outputs": [
        {
          "output_type": "stream",
          "text": [
            "Coeficiente de asimetría: -1.002560\n"
          ],
          "name": "stdout"
        }
      ]
    },
    {
      "cell_type": "markdown",
      "metadata": {
        "id": "K6bYh5-Kt9BR"
      },
      "source": [
        "    El coeficiente de asimetría es negativo, esto significa que la cola de la distribución se alarga para valores inferiores a la media."
      ]
    },
    {
      "cell_type": "code",
      "metadata": {
        "id": "i02HXOiMt8Qo",
        "outputId": "1704ac48-be5b-49c6-adc7-332e82e68107",
        "colab": {
          "base_uri": "https://localhost:8080/",
          "height": 34
        }
      },
      "source": [
        "print('Curtosis: %f' % data['Year'].kurt())"
      ],
      "execution_count": 20,
      "outputs": [
        {
          "output_type": "stream",
          "text": [
            "Curtosis: 1.848181\n"
          ],
          "name": "stdout"
        }
      ]
    },
    {
      "cell_type": "markdown",
      "metadata": {
        "id": "0BqP8J7Tv1ul"
      },
      "source": [
        "    La curtosis es positiva, por lo tanto, la curva es Leptocúrtica, esto significa que hay mayor concentración de los datos en torno a la media.\n",
        "    Gráficamente se ve más apuntada o más alta que la distribución normal."
      ]
    }
  ]
}