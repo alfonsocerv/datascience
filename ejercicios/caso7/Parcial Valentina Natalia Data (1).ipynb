{
 "cells": [
  {
   "cell_type": "markdown",
   "metadata": {},
   "source": [
    "### Importacion de Librerias"
   ]
  },
  {
   "cell_type": "code",
   "execution_count": 3,
   "metadata": {},
   "outputs": [],
   "source": [
    "import pandas as pd\n",
    "import numpy as np\n",
    "import matplotlib.pyplot as plt"
   ]
  },
  {
   "cell_type": "markdown",
   "metadata": {},
   "source": [
    "### Importando base de datos"
   ]
  },
  {
   "cell_type": "markdown",
   "metadata": {},
   "source": [
    "Se accede a la base de datos y posteriormente es almacenada en una variable para poder ser llamada en los posteriores pasos del Analisis Exploratorio de Datos."
   ]
  },
  {
   "cell_type": "code",
   "execution_count": 4,
   "metadata": {
    "scrolled": true
   },
   "outputs": [],
   "source": [
    "dataframe = pd.read_csv(\"religion-india3.csv\")"
   ]
  },
  {
   "cell_type": "markdown",
   "metadata": {},
   "source": [
    "### Mostrando las 10 primeras filas de base de datos"
   ]
  },
  {
   "cell_type": "code",
   "execution_count": 5,
   "metadata": {},
   "outputs": [
    {
     "data": {
      "text/html": [
       "<div>\n",
       "<style scoped>\n",
       "    .dataframe tbody tr th:only-of-type {\n",
       "        vertical-align: middle;\n",
       "    }\n",
       "\n",
       "    .dataframe tbody tr th {\n",
       "        vertical-align: top;\n",
       "    }\n",
       "\n",
       "    .dataframe thead th {\n",
       "        text-align: right;\n",
       "    }\n",
       "</style>\n",
       "<table border=\"1\" class=\"dataframe\">\n",
       "  <thead>\n",
       "    <tr style=\"text-align: right;\">\n",
       "      <th></th>\n",
       "      <th>state_name</th>\n",
       "      <th>is_state</th>\n",
       "      <th>year</th>\n",
       "      <th>gender</th>\n",
       "      <th>convicts</th>\n",
       "      <th>under_trial</th>\n",
       "      <th>detenues</th>\n",
       "      <th>others</th>\n",
       "      <th>Unnamed: 8</th>\n",
       "    </tr>\n",
       "  </thead>\n",
       "  <tbody>\n",
       "    <tr>\n",
       "      <th>0</th>\n",
       "      <td>A &amp; N Islands</td>\n",
       "      <td>0</td>\n",
       "      <td>2001</td>\n",
       "      <td>Female</td>\n",
       "      <td>Christian</td>\n",
       "      <td>0</td>\n",
       "      <td>0</td>\n",
       "      <td>0</td>\n",
       "      <td>0</td>\n",
       "    </tr>\n",
       "    <tr>\n",
       "      <th>1</th>\n",
       "      <td>A &amp; N Islands</td>\n",
       "      <td>0</td>\n",
       "      <td>2001</td>\n",
       "      <td>Female</td>\n",
       "      <td>Hindu</td>\n",
       "      <td>3</td>\n",
       "      <td>1</td>\n",
       "      <td>0</td>\n",
       "      <td>0</td>\n",
       "    </tr>\n",
       "    <tr>\n",
       "      <th>2</th>\n",
       "      <td>A &amp; N Islands</td>\n",
       "      <td>0</td>\n",
       "      <td>2001</td>\n",
       "      <td>Female</td>\n",
       "      <td>Muslim</td>\n",
       "      <td>0</td>\n",
       "      <td>0</td>\n",
       "      <td>0</td>\n",
       "      <td>0</td>\n",
       "    </tr>\n",
       "    <tr>\n",
       "      <th>3</th>\n",
       "      <td>A &amp; N Islands</td>\n",
       "      <td>0</td>\n",
       "      <td>2001</td>\n",
       "      <td>Female</td>\n",
       "      <td>Others</td>\n",
       "      <td>0</td>\n",
       "      <td>0</td>\n",
       "      <td>0</td>\n",
       "      <td>0</td>\n",
       "    </tr>\n",
       "    <tr>\n",
       "      <th>4</th>\n",
       "      <td>A &amp; N Islands</td>\n",
       "      <td>0</td>\n",
       "      <td>2001</td>\n",
       "      <td>Female</td>\n",
       "      <td>Sikh</td>\n",
       "      <td>0</td>\n",
       "      <td>0</td>\n",
       "      <td>0</td>\n",
       "      <td>0</td>\n",
       "    </tr>\n",
       "    <tr>\n",
       "      <th>5</th>\n",
       "      <td>A &amp; N Islands</td>\n",
       "      <td>0</td>\n",
       "      <td>2001</td>\n",
       "      <td>Male</td>\n",
       "      <td>Christian</td>\n",
       "      <td>27</td>\n",
       "      <td>23</td>\n",
       "      <td>0</td>\n",
       "      <td>0</td>\n",
       "    </tr>\n",
       "    <tr>\n",
       "      <th>6</th>\n",
       "      <td>A &amp; N Islands</td>\n",
       "      <td>0</td>\n",
       "      <td>2001</td>\n",
       "      <td>Male</td>\n",
       "      <td>Hindu</td>\n",
       "      <td>46</td>\n",
       "      <td>44</td>\n",
       "      <td>0</td>\n",
       "      <td>0</td>\n",
       "    </tr>\n",
       "    <tr>\n",
       "      <th>7</th>\n",
       "      <td>A &amp; N Islands</td>\n",
       "      <td>0</td>\n",
       "      <td>2001</td>\n",
       "      <td>Male</td>\n",
       "      <td>Muslim</td>\n",
       "      <td>16</td>\n",
       "      <td>18</td>\n",
       "      <td>0</td>\n",
       "      <td>0</td>\n",
       "    </tr>\n",
       "    <tr>\n",
       "      <th>8</th>\n",
       "      <td>A &amp; N Islands</td>\n",
       "      <td>0</td>\n",
       "      <td>2001</td>\n",
       "      <td>Male</td>\n",
       "      <td>Others</td>\n",
       "      <td>123</td>\n",
       "      <td>79</td>\n",
       "      <td>0</td>\n",
       "      <td>0</td>\n",
       "    </tr>\n",
       "    <tr>\n",
       "      <th>9</th>\n",
       "      <td>A &amp; N Islands</td>\n",
       "      <td>0</td>\n",
       "      <td>2001</td>\n",
       "      <td>Male</td>\n",
       "      <td>Sikh</td>\n",
       "      <td>2</td>\n",
       "      <td>1</td>\n",
       "      <td>0</td>\n",
       "      <td>0</td>\n",
       "    </tr>\n",
       "  </tbody>\n",
       "</table>\n",
       "</div>"
      ],
      "text/plain": [
       "      state_name  is_state  year  gender   convicts  under_trial  detenues  \\\n",
       "0  A & N Islands         0  2001  Female  Christian            0         0   \n",
       "1  A & N Islands         0  2001  Female      Hindu            3         1   \n",
       "2  A & N Islands         0  2001  Female     Muslim            0         0   \n",
       "3  A & N Islands         0  2001  Female     Others            0         0   \n",
       "4  A & N Islands         0  2001  Female       Sikh            0         0   \n",
       "5  A & N Islands         0  2001    Male  Christian           27        23   \n",
       "6  A & N Islands         0  2001    Male      Hindu           46        44   \n",
       "7  A & N Islands         0  2001    Male     Muslim           16        18   \n",
       "8  A & N Islands         0  2001    Male     Others          123        79   \n",
       "9  A & N Islands         0  2001    Male       Sikh            2         1   \n",
       "\n",
       "   others  Unnamed: 8  \n",
       "0       0           0  \n",
       "1       0           0  \n",
       "2       0           0  \n",
       "3       0           0  \n",
       "4       0           0  \n",
       "5       0           0  \n",
       "6       0           0  \n",
       "7       0           0  \n",
       "8       0           0  \n",
       "9       0           0  "
      ]
     },
     "execution_count": 5,
     "metadata": {},
     "output_type": "execute_result"
    }
   ],
   "source": [
    "dataframe.head(10)"
   ]
  },
  {
   "cell_type": "markdown",
   "metadata": {},
   "source": [
    "### Mostrando las 10 ultimas filas de base de datos"
   ]
  },
  {
   "cell_type": "code",
   "execution_count": 6,
   "metadata": {},
   "outputs": [
    {
     "data": {
      "text/html": [
       "<div>\n",
       "<style scoped>\n",
       "    .dataframe tbody tr th:only-of-type {\n",
       "        vertical-align: middle;\n",
       "    }\n",
       "\n",
       "    .dataframe tbody tr th {\n",
       "        vertical-align: top;\n",
       "    }\n",
       "\n",
       "    .dataframe thead th {\n",
       "        text-align: right;\n",
       "    }\n",
       "</style>\n",
       "<table border=\"1\" class=\"dataframe\">\n",
       "  <thead>\n",
       "    <tr style=\"text-align: right;\">\n",
       "      <th></th>\n",
       "      <th>state_name</th>\n",
       "      <th>is_state</th>\n",
       "      <th>year</th>\n",
       "      <th>gender</th>\n",
       "      <th>convicts</th>\n",
       "      <th>under_trial</th>\n",
       "      <th>detenues</th>\n",
       "      <th>others</th>\n",
       "      <th>Unnamed: 8</th>\n",
       "    </tr>\n",
       "  </thead>\n",
       "  <tbody>\n",
       "    <tr>\n",
       "      <th>4450</th>\n",
       "      <td>West Bengal</td>\n",
       "      <td>1</td>\n",
       "      <td>2013</td>\n",
       "      <td>Female</td>\n",
       "      <td>Christian</td>\n",
       "      <td>5</td>\n",
       "      <td>6</td>\n",
       "      <td>0</td>\n",
       "      <td>0</td>\n",
       "    </tr>\n",
       "    <tr>\n",
       "      <th>4451</th>\n",
       "      <td>West Bengal</td>\n",
       "      <td>1</td>\n",
       "      <td>2013</td>\n",
       "      <td>Female</td>\n",
       "      <td>Hindu</td>\n",
       "      <td>217</td>\n",
       "      <td>528</td>\n",
       "      <td>0</td>\n",
       "      <td>10</td>\n",
       "    </tr>\n",
       "    <tr>\n",
       "      <th>4452</th>\n",
       "      <td>West Bengal</td>\n",
       "      <td>1</td>\n",
       "      <td>2013</td>\n",
       "      <td>Female</td>\n",
       "      <td>Muslim</td>\n",
       "      <td>143</td>\n",
       "      <td>440</td>\n",
       "      <td>0</td>\n",
       "      <td>38</td>\n",
       "    </tr>\n",
       "    <tr>\n",
       "      <th>4453</th>\n",
       "      <td>West Bengal</td>\n",
       "      <td>1</td>\n",
       "      <td>2013</td>\n",
       "      <td>Female</td>\n",
       "      <td>Others</td>\n",
       "      <td>2</td>\n",
       "      <td>4</td>\n",
       "      <td>0</td>\n",
       "      <td>0</td>\n",
       "    </tr>\n",
       "    <tr>\n",
       "      <th>4454</th>\n",
       "      <td>West Bengal</td>\n",
       "      <td>1</td>\n",
       "      <td>2013</td>\n",
       "      <td>Female</td>\n",
       "      <td>Sikh</td>\n",
       "      <td>0</td>\n",
       "      <td>0</td>\n",
       "      <td>0</td>\n",
       "      <td>0</td>\n",
       "    </tr>\n",
       "    <tr>\n",
       "      <th>4455</th>\n",
       "      <td>West Bengal</td>\n",
       "      <td>1</td>\n",
       "      <td>2013</td>\n",
       "      <td>Male</td>\n",
       "      <td>Christian</td>\n",
       "      <td>154</td>\n",
       "      <td>564</td>\n",
       "      <td>0</td>\n",
       "      <td>2</td>\n",
       "    </tr>\n",
       "    <tr>\n",
       "      <th>4456</th>\n",
       "      <td>West Bengal</td>\n",
       "      <td>1</td>\n",
       "      <td>2013</td>\n",
       "      <td>Male</td>\n",
       "      <td>Hindu</td>\n",
       "      <td>3021</td>\n",
       "      <td>7408</td>\n",
       "      <td>0</td>\n",
       "      <td>47</td>\n",
       "    </tr>\n",
       "    <tr>\n",
       "      <th>4457</th>\n",
       "      <td>West Bengal</td>\n",
       "      <td>1</td>\n",
       "      <td>2013</td>\n",
       "      <td>Male</td>\n",
       "      <td>Muslim</td>\n",
       "      <td>2330</td>\n",
       "      <td>7290</td>\n",
       "      <td>0</td>\n",
       "      <td>320</td>\n",
       "    </tr>\n",
       "    <tr>\n",
       "      <th>4458</th>\n",
       "      <td>West Bengal</td>\n",
       "      <td>1</td>\n",
       "      <td>2013</td>\n",
       "      <td>Male</td>\n",
       "      <td>Others</td>\n",
       "      <td>12</td>\n",
       "      <td>209</td>\n",
       "      <td>0</td>\n",
       "      <td>0</td>\n",
       "    </tr>\n",
       "    <tr>\n",
       "      <th>4459</th>\n",
       "      <td>West Bengal</td>\n",
       "      <td>1</td>\n",
       "      <td>2013</td>\n",
       "      <td>Male</td>\n",
       "      <td>Sikh</td>\n",
       "      <td>6</td>\n",
       "      <td>22</td>\n",
       "      <td>0</td>\n",
       "      <td>0</td>\n",
       "    </tr>\n",
       "  </tbody>\n",
       "</table>\n",
       "</div>"
      ],
      "text/plain": [
       "       state_name  is_state  year  gender   convicts  under_trial  detenues  \\\n",
       "4450  West Bengal         1  2013  Female  Christian            5         6   \n",
       "4451  West Bengal         1  2013  Female      Hindu          217       528   \n",
       "4452  West Bengal         1  2013  Female     Muslim          143       440   \n",
       "4453  West Bengal         1  2013  Female     Others            2         4   \n",
       "4454  West Bengal         1  2013  Female       Sikh            0         0   \n",
       "4455  West Bengal         1  2013    Male  Christian          154       564   \n",
       "4456  West Bengal         1  2013    Male      Hindu         3021      7408   \n",
       "4457  West Bengal         1  2013    Male     Muslim         2330      7290   \n",
       "4458  West Bengal         1  2013    Male     Others           12       209   \n",
       "4459  West Bengal         1  2013    Male       Sikh            6        22   \n",
       "\n",
       "      others  Unnamed: 8  \n",
       "4450       0           0  \n",
       "4451       0          10  \n",
       "4452       0          38  \n",
       "4453       0           0  \n",
       "4454       0           0  \n",
       "4455       0           2  \n",
       "4456       0          47  \n",
       "4457       0         320  \n",
       "4458       0           0  \n",
       "4459       0           0  "
      ]
     },
     "execution_count": 6,
     "metadata": {},
     "output_type": "execute_result"
    }
   ],
   "source": [
    "dataframe.tail(10)"
   ]
  },
  {
   "cell_type": "markdown",
   "metadata": {},
   "source": [
    "### Enlistando Columnas"
   ]
  },
  {
   "cell_type": "markdown",
   "metadata": {},
   "source": [
    "Se enlistan las columnas de la base de datos para saber como son reconocidas por la libreria pandas"
   ]
  },
  {
   "cell_type": "code",
   "execution_count": 7,
   "metadata": {
    "scrolled": true
   },
   "outputs": [
    {
     "data": {
      "text/plain": [
       "Index(['state_name', 'is_state', 'year', 'gender', 'convicts', 'under_trial',\n",
       "       'detenues', 'others', 'Unnamed: 8'],\n",
       "      dtype='object')"
      ]
     },
     "execution_count": 7,
     "metadata": {},
     "output_type": "execute_result"
    }
   ],
   "source": [
    "dataframe.columns"
   ]
  },
  {
   "cell_type": "markdown",
   "metadata": {},
   "source": [
    "### Resumen general de la base de datos\n"
   ]
  },
  {
   "cell_type": "code",
   "execution_count": 8,
   "metadata": {},
   "outputs": [
    {
     "data": {
      "text/plain": [
       "<bound method DataFrame.info of          state_name  is_state  year  gender   convicts  under_trial  detenues  \\\n",
       "0     A & N Islands         0  2001  Female  Christian            0         0   \n",
       "1     A & N Islands         0  2001  Female      Hindu            3         1   \n",
       "2     A & N Islands         0  2001  Female     Muslim            0         0   \n",
       "3     A & N Islands         0  2001  Female     Others            0         0   \n",
       "4     A & N Islands         0  2001  Female       Sikh            0         0   \n",
       "...             ...       ...   ...     ...        ...          ...       ...   \n",
       "4455    West Bengal         1  2013    Male  Christian          154       564   \n",
       "4456    West Bengal         1  2013    Male      Hindu         3021      7408   \n",
       "4457    West Bengal         1  2013    Male     Muslim         2330      7290   \n",
       "4458    West Bengal         1  2013    Male     Others           12       209   \n",
       "4459    West Bengal         1  2013    Male       Sikh            6        22   \n",
       "\n",
       "      others  Unnamed: 8  \n",
       "0          0           0  \n",
       "1          0           0  \n",
       "2          0           0  \n",
       "3          0           0  \n",
       "4          0           0  \n",
       "...      ...         ...  \n",
       "4455       0           2  \n",
       "4456       0          47  \n",
       "4457       0         320  \n",
       "4458       0           0  \n",
       "4459       0           0  \n",
       "\n",
       "[4460 rows x 9 columns]>"
      ]
     },
     "execution_count": 8,
     "metadata": {},
     "output_type": "execute_result"
    }
   ],
   "source": [
    "dataframe.info"
   ]
  },
  {
   "cell_type": "markdown",
   "metadata": {},
   "source": [
    "### Accediendo al dato de orientacion religiosa de la sexta fila"
   ]
  },
  {
   "cell_type": "markdown",
   "metadata": {},
   "source": [
    "Se accede al dato mediante la funcion iloc con los argumentos [fila,columna]. Podemos acceder a cualquier elemento de la base de datos."
   ]
  },
  {
   "cell_type": "code",
   "execution_count": 9,
   "metadata": {},
   "outputs": [
    {
     "name": "stdout",
     "output_type": "stream",
     "text": [
      "La religion del prisionero de la quinta fila es: Hindu\n"
     ]
    }
   ],
   "source": [
    "print(\"La religion del prisionero de la quinta fila es:\",dataframe.iloc[6,4])"
   ]
  },
  {
   "cell_type": "markdown",
   "metadata": {},
   "source": [
    "### Grafica de barras de numero de detenciones segun religion de prisioneros"
   ]
  },
  {
   "cell_type": "markdown",
   "metadata": {},
   "source": [
    "Se realiza la suma entre la agrupacion de columnas orientacion religiosa y detenciones, posteriormente, se procede a graficar mediante un diagrama de barras."
   ]
  },
  {
   "cell_type": "code",
   "execution_count": 10,
   "metadata": {},
   "outputs": [
    {
     "data": {
      "text/plain": [
       "<AxesSubplot:xlabel='convicts'>"
      ]
     },
     "execution_count": 10,
     "metadata": {},
     "output_type": "execute_result"
    },
    {
     "data": {
      "image/png": "[encoded data removed]",
      "text/plain": [
       "<Figure size 432x288 with 1 Axes>"
      ]
     },
     "metadata": {
      "needs_background": "light"
     },
     "output_type": "display_data"
    }
   ],
   "source": [
    "dataframe.groupby('convicts')['detenues'].sum().plot(kind='bar',legend='Reverse')"
   ]
  },
  {
   "cell_type": "markdown",
   "metadata": {},
   "source": [
    "### Grafica pastel de cantidad de prisioneros bajo juicio segun año"
   ]
  },
  {
   "cell_type": "markdown",
   "metadata": {},
   "source": [
    "Se realiza la suma entre la agrupacion de columnas bajo juicio y año, posteriormente, se procede a graficar mediante un diagrama de circular."
   ]
  },
  {
   "cell_type": "code",
   "execution_count": 21,
   "metadata": {
    "scrolled": true
   },
   "outputs": [
    {
     "data": {
      "text/plain": [
       "(-1.1036916634810225,\n",
       " 1.1001757934990963,\n",
       " -1.1046419992539247,\n",
       " 1.1034363349277674)"
      ]
     },
     "execution_count": 21,
     "metadata": {},
     "output_type": "execute_result"
    },
    {
     "data": {
      "image/png": "[encoded data removed]",
      "text/plain": [
       "<Figure size 432x288 with 1 Axes>"
      ]
     },
     "metadata": {},
     "output_type": "display_data"
    }
   ],
   "source": [
    "dataframe.under_trial.groupby(dataframe.year).sum().plot(kind='pie',cmap='Paired')\n",
    "plt.axis('equal')"
   ]
  },
  {
   "cell_type": "markdown",
   "metadata": {},
   "source": [
    "### Datos generales estadistica descriptiva de columna bajo juicio (Numero de datos, Media, Desviacion Estandar, Min)"
   ]
  },
  {
   "cell_type": "code",
   "execution_count": 12,
   "metadata": {
    "scrolled": true
   },
   "outputs": [
    {
     "data": {
      "text/plain": [
       "count     4460.000000\n",
       "mean       325.043049\n",
       "std       1278.204680\n",
       "min          0.000000\n",
       "25%          0.000000\n",
       "50%          7.000000\n",
       "75%         75.000000\n",
       "max      20036.000000\n",
       "Name: under_trial, dtype: float64"
      ]
     },
     "execution_count": 12,
     "metadata": {},
     "output_type": "execute_result"
    }
   ],
   "source": [
    "dataframe['under_trial'].describe()"
   ]
  },
  {
   "cell_type": "markdown",
   "metadata": {},
   "source": [
    "### Histograma de detenciones"
   ]
  },
  {
   "cell_type": "code",
   "execution_count": 13,
   "metadata": {},
   "outputs": [
    {
     "data": {
      "text/plain": [
       "<AxesSubplot:>"
      ]
     },
     "execution_count": 13,
     "metadata": {},
     "output_type": "execute_result"
    },
    {
     "data": {
      "image/png": "[encoded data removed]",
      "text/plain": [
       "<Figure size 432x288 with 1 Axes>"
      ]
     },
     "metadata": {
      "needs_background": "light"
     },
     "output_type": "display_data"
    }
   ],
   "source": [
    "dataframe['detenues'].hist()"
   ]
  },
  {
   "cell_type": "markdown",
   "metadata": {},
   "source": [
    "### Determinar maximo de numero de detenciones"
   ]
  },
  {
   "cell_type": "code",
   "execution_count": 14,
   "metadata": {},
   "outputs": [
    {
     "name": "stdout",
     "output_type": "stream",
     "text": [
      "El numero maximo de detenciones es: 40278\n"
     ]
    }
   ],
   "source": [
    "print(\"El numero maximo de detenciones es:\",dataframe['detenues'].max())\n"
   ]
  },
  {
   "cell_type": "markdown",
   "metadata": {},
   "source": [
    "### Determinar el numero de orientaciones religiosas de los prisioneros"
   ]
  },
  {
   "cell_type": "markdown",
   "metadata": {},
   "source": [
    "Se realiza conteo solo entre datos de diferente valor en la columna de orientacion religiosa."
   ]
  },
  {
   "cell_type": "code",
   "execution_count": 15,
   "metadata": {},
   "outputs": [
    {
     "name": "stdout",
     "output_type": "stream",
     "text": [
      "El numero de diferentes orientaciones religiosas es: 5\n"
     ]
    }
   ],
   "source": [
    "print(\"El numero de diferentes orientaciones religiosas es:\",dataframe['convicts'].nunique())"
   ]
  },
  {
   "cell_type": "markdown",
   "metadata": {},
   "source": [
    "### Determinar la frecuencia de prisioneros por estado"
   ]
  },
  {
   "cell_type": "code",
   "execution_count": 16,
   "metadata": {},
   "outputs": [
    {
     "data": {
      "text/plain": [
       "Tripura              130\n",
       "Maharashtra          130\n",
       "Chandigarh           130\n",
       "Kerala               130\n",
       "Bihar                130\n",
       "Uttar Pradesh        130\n",
       "Madhya Pradesh       130\n",
       "Uttaranchal          130\n",
       "Haryana              130\n",
       "Lakshadweep          130\n",
       "Jharkhand            130\n",
       "D & N Haveli         130\n",
       "Meghalaya            130\n",
       "Assam                130\n",
       "Daman & Diu          130\n",
       "Delhi                130\n",
       "A & N Islands        130\n",
       "Nagaland             130\n",
       "Mizoram              130\n",
       "Jammu & Kashmir      130\n",
       "Orissa               130\n",
       "Pondicherry          130\n",
       "Himachal Pradesh     130\n",
       "Andhra Pradesh       130\n",
       "West Bengal          130\n",
       "Punjab               130\n",
       "Goa                  130\n",
       "Tamilnadu            130\n",
       "Gujarat              130\n",
       "Manipur              130\n",
       "Rajasthan            130\n",
       "Sikkim               130\n",
       "Chhattisgarh         120\n",
       "Karnataka            120\n",
       "Arunachal Pradesh     50\n",
       "Chhatisgarh           10\n",
       "Name: state_name, dtype: int64"
      ]
     },
     "execution_count": 16,
     "metadata": {},
     "output_type": "execute_result"
    }
   ],
   "source": [
    "dataframe[\"state_name\"].value_counts()"
   ]
  },
  {
   "cell_type": "markdown",
   "metadata": {},
   "source": [
    "### Determinar numero de hombres y mujeres en la base de datos"
   ]
  },
  {
   "cell_type": "markdown",
   "metadata": {},
   "source": [
    "Se realiza conteo entre los dos unicos tipos de valores en la columna genero (Hombres y Mujeres)."
   ]
  },
  {
   "cell_type": "code",
   "execution_count": 17,
   "metadata": {},
   "outputs": [
    {
     "name": "stdout",
     "output_type": "stream",
     "text": [
      "Male      2230\n",
      "Female    2230\n",
      "Name: gender, dtype: int64\n"
     ]
    }
   ],
   "source": [
    "print(dataframe['gender'].value_counts())"
   ]
  },
  {
   "cell_type": "markdown",
   "metadata": {},
   "source": [
    "### Media de detenciones por orientacion religiosa\n"
   ]
  },
  {
   "cell_type": "markdown",
   "metadata": {},
   "source": [
    "Se realiza una sub-tabla con las columnas de orientacion religiosa y detenciones para posteriormente obtener la media solo en las clasificaciones que se enlistan en la columna de orientacion religiosa."
   ]
  },
  {
   "cell_type": "markdown",
   "metadata": {},
   "source": [
    "### Desviacion Estandar de detenciones"
   ]
  },
  {
   "cell_type": "code",
   "execution_count": 19,
   "metadata": {},
   "outputs": [
    {
     "name": "stdout",
     "output_type": "stream",
     "text": [
      "La desviacion estandar de las detenciones es: 2794.268941488714\n"
     ]
    }
   ],
   "source": [
    "print(\"La desviacion estandar de las detenciones es:\", dataframe['detenues'].std())"
   ]
  }
 ],
 "metadata": {
  "kernelspec": {
   "display_name": "Python 3",
   "language": "python",
   "name": "python3"
  },
  "language_info": {
   "codemirror_mode": {
    "name": "ipython",
    "version": 3
   },
   "file_extension": ".py",
   "mimetype": "text/x-python",
   "name": "python",
   "nbconvert_exporter": "python",
   "pygments_lexer": "ipython3",
   "version": "3.8.3"
  }
 },
 "nbformat": 4,
 "nbformat_minor": 4
}
