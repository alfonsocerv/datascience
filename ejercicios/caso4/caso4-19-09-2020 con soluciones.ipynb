{
 "cells": [
  {
   "cell_type": "markdown",
   "metadata": {},
   "source": [
    "## Tercera actividad evaluativa\n",
    "\n",
    "Profesor Alfonso Cervantes Barragán - 19-09-2020\n",
    "\n",
    "Universidad Sergio Arboleda - Informatica III"
   ]
  },
  {
   "cell_type": "markdown",
   "metadata": {},
   "source": [
    "### Descripción del contexto.\n",
    "\n",
    "Para esta lección, usaremos los datos de “Portal Teaching” que son subconjunto de los datos estudiados por Ernst et al. Long-term monitoring and experimental manipulation of a Chihuahuan Desert ecosystem near Portal, Arizona, USA.\n",
    "\n",
    "Vamos a estudiar la especie y el peso de los animales capturados en sitios dentro de nuestra área de estudio. El conjunto de datos esta guardado en un archivo *surveys.csv*, donde cada línea tiene información sobre un solo animal y las columnas representan:   \n",
    "\n",
    "|Columna |\tDescripción |  \n",
    "|--------|--------------|\n",
    "|record_id \t|identificador único de la observación |   \n",
    "|month| \tmes de observación|   \n",
    "|day |\tdía de la observación  | \n",
    "|year |\taño de la observación|   \n",
    "|plot_id |\tID de un sitio en particular |  \n",
    "|species_id |\tcódigo de dos letras |  \n",
    "|sex |\tsexo del animal (“M”, “F”) |  \n",
    "|hindfoot_length| \ttamaño de pata en mm  | \n",
    "|weight| \tpeso del animal en gramos |  \n",
    "\n",
    "\n",
    "#### Entregable\n",
    "\n",
    "El estudiante debera entregar un documento con extensión *ipynb* mediante el taller \"Tercera Evaluación \" que se encuentra en el curso virtual Informatica III en el plataforma Sergio Virtual\n",
    "\n",
    "Usaremos los datos de Portal Project Teaching Database. Esta sección usa el archivo surveys.csv\n",
    "\n",
    "#### Plazo\n",
    "\n",
    "El plazo de entrega sera hasta el miercoles, 23 de septiembre a las 11:30 p.m. En el aula del curso en la plataforma Sergio Virtual estará disponible un taller en el cual deberan subir el archivo .ipynb (Jupyter notebook) con todo el código requerido. \n",
    "\n",
    "No esta permitido resolver los ejercicios a mano ni ingresar la respuesta sin que haya un código que lo respalde.\n",
    "\n",
    "#### Donde puedo trabajar?\n",
    "\n",
    "Este ejercicio se puede realizar en el entorno virtual creado con base en el repositorio github.com/alfonsocerv/datascience en la carpeta /ejericicio/caso4.\n",
    "\n",
    "#### Criterios de evaluación\n",
    "\n",
    "1. Todo el código requerido debe estar presente. Cada ejercicio debe tener su respectiva respuesta.\n",
    "2. No pueden haber errores que se generen al ejecutar el código.\n",
    "3. El código debe cumplir con las especificaciones de cada ejercicio."
   ]
  },
  {
   "cell_type": "markdown",
   "metadata": {},
   "source": [
    "### Ejercicio 1\n",
    "\n",
    "Importa las librerias pandas, numpy y matplotlib\n",
    "\n",
    "#### Respuesta"
   ]
  },
  {
   "cell_type": "code",
   "execution_count": 26,
   "metadata": {},
   "outputs": [],
   "source": [
    "%matplotlib inline"
   ]
  },
  {
   "cell_type": "code",
   "execution_count": 1,
   "metadata": {},
   "outputs": [],
   "source": [
    "import pandas as pd\n",
    "import numpy as np\n",
    "import matplotlib.pyplot as plt"
   ]
  },
  {
   "cell_type": "markdown",
   "metadata": {},
   "source": [
    "### Ejercicio 2\n",
    "\n",
    "Lee la base de datos *surveys.csv* y el dataframe resultante bajo el nombre *data*\n",
    "\n",
    "#### Respuesta"
   ]
  },
  {
   "cell_type": "code",
   "execution_count": 4,
   "metadata": {
    "scrolled": true
   },
   "outputs": [],
   "source": [
    "data = pd.read_csv(\"surveys.csv\")"
   ]
  },
  {
   "cell_type": "markdown",
   "metadata": {},
   "source": [
    "### Ejercicio 3\n",
    "\n",
    "Muestra las primeras 10 filas del dataframe *data*\n",
    "\n",
    "#### Respuesta"
   ]
  },
  {
   "cell_type": "code",
   "execution_count": 7,
   "metadata": {},
   "outputs": [
    {
     "data": {
      "text/html": [
       "<div>\n",
       "<style scoped>\n",
       "    .dataframe tbody tr th:only-of-type {\n",
       "        vertical-align: middle;\n",
       "    }\n",
       "\n",
       "    .dataframe tbody tr th {\n",
       "        vertical-align: top;\n",
       "    }\n",
       "\n",
       "    .dataframe thead th {\n",
       "        text-align: right;\n",
       "    }\n",
       "</style>\n",
       "<table border=\"1\" class=\"dataframe\">\n",
       "  <thead>\n",
       "    <tr style=\"text-align: right;\">\n",
       "      <th></th>\n",
       "      <th>record_id</th>\n",
       "      <th>month</th>\n",
       "      <th>day</th>\n",
       "      <th>year</th>\n",
       "      <th>plot_id</th>\n",
       "      <th>species_id</th>\n",
       "      <th>sex</th>\n",
       "      <th>hindfoot_length</th>\n",
       "      <th>weight</th>\n",
       "    </tr>\n",
       "  </thead>\n",
       "  <tbody>\n",
       "    <tr>\n",
       "      <th>0</th>\n",
       "      <td>1</td>\n",
       "      <td>7</td>\n",
       "      <td>16</td>\n",
       "      <td>1977</td>\n",
       "      <td>2</td>\n",
       "      <td>NL</td>\n",
       "      <td>M</td>\n",
       "      <td>32.0</td>\n",
       "      <td>NaN</td>\n",
       "    </tr>\n",
       "    <tr>\n",
       "      <th>1</th>\n",
       "      <td>2</td>\n",
       "      <td>7</td>\n",
       "      <td>16</td>\n",
       "      <td>1977</td>\n",
       "      <td>3</td>\n",
       "      <td>NL</td>\n",
       "      <td>M</td>\n",
       "      <td>33.0</td>\n",
       "      <td>NaN</td>\n",
       "    </tr>\n",
       "    <tr>\n",
       "      <th>2</th>\n",
       "      <td>3</td>\n",
       "      <td>7</td>\n",
       "      <td>16</td>\n",
       "      <td>1977</td>\n",
       "      <td>2</td>\n",
       "      <td>DM</td>\n",
       "      <td>F</td>\n",
       "      <td>37.0</td>\n",
       "      <td>NaN</td>\n",
       "    </tr>\n",
       "    <tr>\n",
       "      <th>3</th>\n",
       "      <td>4</td>\n",
       "      <td>7</td>\n",
       "      <td>16</td>\n",
       "      <td>1977</td>\n",
       "      <td>7</td>\n",
       "      <td>DM</td>\n",
       "      <td>M</td>\n",
       "      <td>36.0</td>\n",
       "      <td>NaN</td>\n",
       "    </tr>\n",
       "    <tr>\n",
       "      <th>4</th>\n",
       "      <td>5</td>\n",
       "      <td>7</td>\n",
       "      <td>16</td>\n",
       "      <td>1977</td>\n",
       "      <td>3</td>\n",
       "      <td>DM</td>\n",
       "      <td>M</td>\n",
       "      <td>35.0</td>\n",
       "      <td>NaN</td>\n",
       "    </tr>\n",
       "    <tr>\n",
       "      <th>5</th>\n",
       "      <td>6</td>\n",
       "      <td>7</td>\n",
       "      <td>16</td>\n",
       "      <td>1977</td>\n",
       "      <td>1</td>\n",
       "      <td>PF</td>\n",
       "      <td>M</td>\n",
       "      <td>14.0</td>\n",
       "      <td>NaN</td>\n",
       "    </tr>\n",
       "    <tr>\n",
       "      <th>6</th>\n",
       "      <td>7</td>\n",
       "      <td>7</td>\n",
       "      <td>16</td>\n",
       "      <td>1977</td>\n",
       "      <td>2</td>\n",
       "      <td>PE</td>\n",
       "      <td>F</td>\n",
       "      <td>NaN</td>\n",
       "      <td>NaN</td>\n",
       "    </tr>\n",
       "    <tr>\n",
       "      <th>7</th>\n",
       "      <td>8</td>\n",
       "      <td>7</td>\n",
       "      <td>16</td>\n",
       "      <td>1977</td>\n",
       "      <td>1</td>\n",
       "      <td>DM</td>\n",
       "      <td>M</td>\n",
       "      <td>37.0</td>\n",
       "      <td>NaN</td>\n",
       "    </tr>\n",
       "    <tr>\n",
       "      <th>8</th>\n",
       "      <td>9</td>\n",
       "      <td>7</td>\n",
       "      <td>16</td>\n",
       "      <td>1977</td>\n",
       "      <td>1</td>\n",
       "      <td>DM</td>\n",
       "      <td>F</td>\n",
       "      <td>34.0</td>\n",
       "      <td>NaN</td>\n",
       "    </tr>\n",
       "    <tr>\n",
       "      <th>9</th>\n",
       "      <td>10</td>\n",
       "      <td>7</td>\n",
       "      <td>16</td>\n",
       "      <td>1977</td>\n",
       "      <td>6</td>\n",
       "      <td>PF</td>\n",
       "      <td>F</td>\n",
       "      <td>20.0</td>\n",
       "      <td>NaN</td>\n",
       "    </tr>\n",
       "  </tbody>\n",
       "</table>\n",
       "</div>"
      ],
      "text/plain": [
       "   record_id  month  day  year  plot_id species_id sex  hindfoot_length  \\\n",
       "0          1      7   16  1977        2         NL   M             32.0   \n",
       "1          2      7   16  1977        3         NL   M             33.0   \n",
       "2          3      7   16  1977        2         DM   F             37.0   \n",
       "3          4      7   16  1977        7         DM   M             36.0   \n",
       "4          5      7   16  1977        3         DM   M             35.0   \n",
       "5          6      7   16  1977        1         PF   M             14.0   \n",
       "6          7      7   16  1977        2         PE   F              NaN   \n",
       "7          8      7   16  1977        1         DM   M             37.0   \n",
       "8          9      7   16  1977        1         DM   F             34.0   \n",
       "9         10      7   16  1977        6         PF   F             20.0   \n",
       "\n",
       "   weight  \n",
       "0     NaN  \n",
       "1     NaN  \n",
       "2     NaN  \n",
       "3     NaN  \n",
       "4     NaN  \n",
       "5     NaN  \n",
       "6     NaN  \n",
       "7     NaN  \n",
       "8     NaN  \n",
       "9     NaN  "
      ]
     },
     "execution_count": 7,
     "metadata": {},
     "output_type": "execute_result"
    }
   ],
   "source": [
    "data.head(10)"
   ]
  },
  {
   "cell_type": "markdown",
   "metadata": {},
   "source": [
    "## ANALISIS EXPLORATORIO DE DATOS (EDA)\n",
    "\n",
    "### CONOCE LOS DATOS QUE ESTAS ESTUDIANDO"
   ]
  },
  {
   "cell_type": "markdown",
   "metadata": {},
   "source": [
    "### Ejercicio 4\n",
    "\n",
    "Cuántos registros tiene la base de datos *surveys.css*? Imprima el mensaje \"la base de datos surveys tiene xxxx registros\". Remplace xxxx por el código necesario que indique el número de registros.\n",
    "\n",
    "#### Respuesta"
   ]
  },
  {
   "cell_type": "code",
   "execution_count": 8,
   "metadata": {},
   "outputs": [
    {
     "data": {
      "text/plain": [
       "(35549, 9)"
      ]
     },
     "execution_count": 8,
     "metadata": {},
     "output_type": "execute_result"
    }
   ],
   "source": [
    "data.shape"
   ]
  },
  {
   "cell_type": "markdown",
   "metadata": {},
   "source": [
    "### Ejercicio 5\n",
    "\n",
    "Cuales cree usted son las variables categoricas y por que?, cuales son las numéricas?. \n",
    "Escriba en una celda de texto su respuesta.\n",
    "\n",
    "#### Respuesta"
   ]
  },
  {
   "cell_type": "markdown",
   "metadata": {},
   "source": [
    "### Ejercicio 6\n",
    "\n",
    "Cuántas especies diferentes de animales hay en la base de datos?\n",
    "\n",
    "#### Respuesta"
   ]
  },
  {
   "cell_type": "code",
   "execution_count": 10,
   "metadata": {},
   "outputs": [
    {
     "data": {
      "text/plain": [
       "48"
      ]
     },
     "execution_count": 10,
     "metadata": {},
     "output_type": "execute_result"
    }
   ],
   "source": [
    "data[\"species_id\"].nunique()"
   ]
  },
  {
   "cell_type": "markdown",
   "metadata": {},
   "source": [
    "### Ejercicio 7\n",
    "\n",
    "Determine las 5 especies que con mayor frecuencias aparecen en la base de datos\n",
    "Responda indicando sus siglas y el número de veces con las que aparece. (revisa el caso 2)\n",
    "\n",
    "#### Respuesta"
   ]
  },
  {
   "cell_type": "code",
   "execution_count": 13,
   "metadata": {},
   "outputs": [
    {
     "data": {
      "text/plain": [
       "PP    3123\n",
       "DO    3027\n",
       "PB    2891\n",
       "RM    2609\n",
       "Name: species_id, dtype: int64"
      ]
     },
     "execution_count": 13,
     "metadata": {},
     "output_type": "execute_result"
    }
   ],
   "source": [
    "data[\"species_id\"].value_counts()[1:5]"
   ]
  },
  {
   "cell_type": "markdown",
   "metadata": {},
   "source": [
    "### Ejercicio 8\n",
    "\n",
    "Responda si entre los animales registrados que porcentaje corresponde a aquellos de genero femenino?\n",
    "\n",
    "#### Respuesta"
   ]
  },
  {
   "cell_type": "code",
   "execution_count": null,
   "metadata": {},
   "outputs": [],
   "source": []
  },
  {
   "cell_type": "markdown",
   "metadata": {},
   "source": [
    "### Ejercicio 9\n",
    "\n",
    "Elabore un histograma de la distribución de tamaños de patas de los animales observados. Configure la representación a 15 bins, sin malla y con 15 pulgadas de ancho y 8 de alto.   \n",
    "\n",
    "Que conclusiones puede sacar sobre los animales registrados en la base de datos según el histograma que elaboro?. Escribalo en una celda de texto después del histograma. \n",
    "\n",
    "#### Respuesta"
   ]
  },
  {
   "cell_type": "code",
   "execution_count": 15,
   "metadata": {},
   "outputs": [
    {
     "data": {
      "text/plain": [
       "<matplotlib.axes._subplots.AxesSubplot at 0x22c5b4bb400>"
      ]
     },
     "execution_count": 15,
     "metadata": {},
     "output_type": "execute_result"
    },
    {
     "data": {
      "image/png": "[encoded data removed]",
      "text/plain": [
       "<Figure size 432x288 with 1 Axes>"
      ]
     },
     "metadata": {
      "needs_background": "light"
     },
     "output_type": "display_data"
    }
   ],
   "source": [
    "data[\"hindfoot_length\"].hist(bins=15, grid=False)"
   ]
  },
  {
   "cell_type": "markdown",
   "metadata": {},
   "source": [
    "### Ejercicio 10\n",
    "\n",
    "Según la descripción de las variables (columnas) el tamaño de las patas esta en milimetros. Rescriba esos valores pero ahora en centimetros y almacenelos bajo el mismo nombre. (Piense en como se convierten milimetros a centimetros). Después de hacer la conversión imprima los 5 primeros registros de la tabla.\n",
    "\n",
    "#### Respuesta"
   ]
  },
  {
   "cell_type": "code",
   "execution_count": 16,
   "metadata": {},
   "outputs": [],
   "source": [
    "data[\"hindfoot_length\"] = data[\"hindfoot_length\"]/10"
   ]
  },
  {
   "cell_type": "code",
   "execution_count": 17,
   "metadata": {},
   "outputs": [
    {
     "data": {
      "text/html": [
       "<div>\n",
       "<style scoped>\n",
       "    .dataframe tbody tr th:only-of-type {\n",
       "        vertical-align: middle;\n",
       "    }\n",
       "\n",
       "    .dataframe tbody tr th {\n",
       "        vertical-align: top;\n",
       "    }\n",
       "\n",
       "    .dataframe thead th {\n",
       "        text-align: right;\n",
       "    }\n",
       "</style>\n",
       "<table border=\"1\" class=\"dataframe\">\n",
       "  <thead>\n",
       "    <tr style=\"text-align: right;\">\n",
       "      <th></th>\n",
       "      <th>record_id</th>\n",
       "      <th>month</th>\n",
       "      <th>day</th>\n",
       "      <th>year</th>\n",
       "      <th>plot_id</th>\n",
       "      <th>species_id</th>\n",
       "      <th>sex</th>\n",
       "      <th>hindfoot_length</th>\n",
       "      <th>weight</th>\n",
       "    </tr>\n",
       "  </thead>\n",
       "  <tbody>\n",
       "    <tr>\n",
       "      <th>0</th>\n",
       "      <td>1</td>\n",
       "      <td>7</td>\n",
       "      <td>16</td>\n",
       "      <td>1977</td>\n",
       "      <td>2</td>\n",
       "      <td>NL</td>\n",
       "      <td>M</td>\n",
       "      <td>3.2</td>\n",
       "      <td>NaN</td>\n",
       "    </tr>\n",
       "    <tr>\n",
       "      <th>1</th>\n",
       "      <td>2</td>\n",
       "      <td>7</td>\n",
       "      <td>16</td>\n",
       "      <td>1977</td>\n",
       "      <td>3</td>\n",
       "      <td>NL</td>\n",
       "      <td>M</td>\n",
       "      <td>3.3</td>\n",
       "      <td>NaN</td>\n",
       "    </tr>\n",
       "    <tr>\n",
       "      <th>2</th>\n",
       "      <td>3</td>\n",
       "      <td>7</td>\n",
       "      <td>16</td>\n",
       "      <td>1977</td>\n",
       "      <td>2</td>\n",
       "      <td>DM</td>\n",
       "      <td>F</td>\n",
       "      <td>3.7</td>\n",
       "      <td>NaN</td>\n",
       "    </tr>\n",
       "    <tr>\n",
       "      <th>3</th>\n",
       "      <td>4</td>\n",
       "      <td>7</td>\n",
       "      <td>16</td>\n",
       "      <td>1977</td>\n",
       "      <td>7</td>\n",
       "      <td>DM</td>\n",
       "      <td>M</td>\n",
       "      <td>3.6</td>\n",
       "      <td>NaN</td>\n",
       "    </tr>\n",
       "    <tr>\n",
       "      <th>4</th>\n",
       "      <td>5</td>\n",
       "      <td>7</td>\n",
       "      <td>16</td>\n",
       "      <td>1977</td>\n",
       "      <td>3</td>\n",
       "      <td>DM</td>\n",
       "      <td>M</td>\n",
       "      <td>3.5</td>\n",
       "      <td>NaN</td>\n",
       "    </tr>\n",
       "  </tbody>\n",
       "</table>\n",
       "</div>"
      ],
      "text/plain": [
       "   record_id  month  day  year  plot_id species_id sex  hindfoot_length  \\\n",
       "0          1      7   16  1977        2         NL   M              3.2   \n",
       "1          2      7   16  1977        3         NL   M              3.3   \n",
       "2          3      7   16  1977        2         DM   F              3.7   \n",
       "3          4      7   16  1977        7         DM   M              3.6   \n",
       "4          5      7   16  1977        3         DM   M              3.5   \n",
       "\n",
       "   weight  \n",
       "0     NaN  \n",
       "1     NaN  \n",
       "2     NaN  \n",
       "3     NaN  \n",
       "4     NaN  "
      ]
     },
     "execution_count": 17,
     "metadata": {},
     "output_type": "execute_result"
    }
   ],
   "source": [
    "data.head()"
   ]
  },
  {
   "cell_type": "markdown",
   "metadata": {},
   "source": [
    "### Ejercicio 11\n",
    "\n",
    "Determine cual fue el mayor y menor tamaño de pata registrado?.\n",
    "\n",
    "#### Respuesta"
   ]
  },
  {
   "cell_type": "code",
   "execution_count": null,
   "metadata": {},
   "outputs": [],
   "source": []
  },
  {
   "cell_type": "markdown",
   "metadata": {},
   "source": [
    "### Ejercicio 12\n",
    "\n",
    "Imprima una lista que muestre una lista de los años durante los cuales se llevo registro en esta base de datos?..\n",
    "\n",
    "#### Respuesta."
   ]
  },
  {
   "cell_type": "code",
   "execution_count": 21,
   "metadata": {
    "scrolled": true
   },
   "outputs": [
    {
     "data": {
      "text/plain": [
       "26"
      ]
     },
     "execution_count": 21,
     "metadata": {},
     "output_type": "execute_result"
    }
   ],
   "source": [
    "data[\"year\"].nunique()"
   ]
  },
  {
   "cell_type": "markdown",
   "metadata": {},
   "source": [
    "### Ejercicio 13\n",
    "\n",
    "Escriba un código que permita determinar si el registro de los animales en la base de datos se realizo en menos de una decada, entre una y dos decadas o en más de dos decadas.\n",
    "\n",
    "#### Respuesta"
   ]
  },
  {
   "cell_type": "code",
   "execution_count": null,
   "metadata": {},
   "outputs": [],
   "source": []
  },
  {
   "cell_type": "markdown",
   "metadata": {},
   "source": [
    "### Ejercicio 14\n",
    "\n",
    "Elabore un histograma de peso registrado en la base de datos.\n",
    "\n",
    "#### Respuesta"
   ]
  },
  {
   "cell_type": "code",
   "execution_count": 20,
   "metadata": {
    "scrolled": true
   },
   "outputs": [
    {
     "data": {
      "text/plain": [
       "<matplotlib.axes._subplots.AxesSubplot at 0x22c5b54c0d0>"
      ]
     },
     "execution_count": 20,
     "metadata": {},
     "output_type": "execute_result"
    },
    {
     "data": {
      "image/png": "[encoded data removed]",
      "text/plain": [
       "<Figure size 432x288 with 1 Axes>"
      ]
     },
     "metadata": {
      "needs_background": "light"
     },
     "output_type": "display_data"
    }
   ],
   "source": [
    "data[\"weight\"].hist()"
   ]
  },
  {
   "cell_type": "markdown",
   "metadata": {},
   "source": [
    "### Ejercicio 15\n",
    "\n",
    "Observe el histograma anterior y determine al ojo cual es el rango de peso en gramos en el que la mayoria de animales aparecen registrados en la base de datos.\n",
    "\n",
    "#### Respuesta:\n",
    "(responda directamente en el campo de texto - no necesita escribir código).\n"
   ]
  },
  {
   "cell_type": "markdown",
   "metadata": {},
   "source": [
    "### Ejercicio 16\n",
    "\n",
    "Cuántos animales quedaron registrados en septiembre de 1980?. Imprima el resultado mediante el texto \"el 25 de septiembre del 1980 se registraron xxxx animales\". A que porcentaje equivale con respecto al total.\n",
    "\n",
    "#### Respuesta"
   ]
  },
  {
   "cell_type": "code",
   "execution_count": 30,
   "metadata": {},
   "outputs": [
    {
     "data": {
      "text/plain": [
       "(80, 9)"
      ]
     },
     "execution_count": 30,
     "metadata": {},
     "output_type": "execute_result"
    }
   ],
   "source": [
    "data[(data[\"month\"] == 9) & (data[\"year\"] == 1980)].shape"
   ]
  },
  {
   "cell_type": "markdown",
   "metadata": {},
   "source": [
    "### Ejercicio 20\n",
    "\n",
    "Cuánto pesaba el animal más grande registrado?.. y cual era el peso promedio?.\n",
    "\n",
    "#### Respuesta"
   ]
  },
  {
   "cell_type": "code",
   "execution_count": null,
   "metadata": {},
   "outputs": [],
   "source": []
  },
  {
   "cell_type": "markdown",
   "metadata": {},
   "source": [
    "### Ejercicio 21\n",
    "\n",
    "Hay una relación entre la longitud de la pata y el peso del animal registrado?.\n",
    "Para responder esta pregunta elabore un diagrama de dispersión con base en estas dos variables, donde el peso corresponde a la variable en el eje horizontal, mientras que la longitud de la pata corresponde con la variable en el eje vertical. Pongale un título y un texto descriptivo al eje X y eje Y.\n",
    "\n",
    "Observe el diagrama de dispersión y registre en un celda de texto que razones usted piensas rechazan la hipotesis de una relación y cuales estan a favor.\n",
    "\n",
    "#### Respuesta"
   ]
  },
  {
   "cell_type": "code",
   "execution_count": 31,
   "metadata": {},
   "outputs": [
    {
     "data": {
      "text/plain": [
       "<matplotlib.axes._subplots.AxesSubplot at 0x22c5c9bf6a0>"
      ]
     },
     "execution_count": 31,
     "metadata": {},
     "output_type": "execute_result"
    },
    {
     "data": {
      "image/png": "[encoded data removed]",
      "text/plain": [
       "<Figure size 576x432 with 1 Axes>"
      ]
     },
     "metadata": {
      "needs_background": "light"
     },
     "output_type": "display_data"
    }
   ],
   "source": [
    "data.plot.scatter(y='hindfoot_length', x='weight', figsize=(8,6))"
   ]
  },
  {
   "cell_type": "code",
   "execution_count": null,
   "metadata": {},
   "outputs": [],
   "source": []
  }
 ],
 "metadata": {
  "kernelspec": {
   "display_name": "Python 3",
   "language": "python",
   "name": "python3"
  },
  "language_info": {
   "codemirror_mode": {
    "name": "ipython",
    "version": 3
   },
   "file_extension": ".py",
   "mimetype": "text/x-python",
   "name": "python",
   "nbconvert_exporter": "python",
   "pygments_lexer": "ipython3",
   "version": "3.8.3"
  }
 },
 "nbformat": 4,
 "nbformat_minor": 4
}
