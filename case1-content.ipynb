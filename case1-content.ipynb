{
 "cells": [
  {
   "cell_type": "code",
   "execution_count": 2,
   "metadata": {},
   "outputs": [
    {
     "name": "stdout",
     "output_type": "stream",
     "text": [
      "1579\n",
      "1579\n"
     ]
    }
   ],
   "source": [
    "x=1675\n",
    "y=96\n",
    "print(x-y)\n",
    "print(1675 - 96)\n"
   ]
  },
  {
   "cell_type": "code",
   "execution_count": 9,
   "metadata": {},
   "outputs": [],
   "source": [
    "success_estimates = {\n",
    "    'Australia': [0.6, 0.33, 0.11, 0.14],\n",
    "    'France': [0.66, 0.78, 0.98, 0.2],\n",
    "    'Italy': [0.6],\n",
    "    'Brazil': [0.22, 0.22, 0.43],\n",
    "    'USA': [0.2, 0.5, 0.3],\n",
    "    'England': [0.45],\n",
    "    'Canada': [0.25, 0.3],\n",
    "    'Argentina': [0.22],\n",
    "    'Greece': [0.45, 0.66, 0.75, 0.99, 0.15, 0.66],\n",
    "    'Morocco': [0.29],\n",
    "    'Tunisia': [0.68, 0.56],\n",
    "    'Egypt': [0.99],\n",
    "    'Jamaica': [0.61, 0.65, 0.71],\n",
    "    'Switzerland': [0.73, 0.86, 0.84, 0.51, 0.99],\n",
    "    'Germany': [0.45, 0.49, 0.36]\n",
    "}\n"
   ]
  },
  {
   "cell_type": "code",
   "execution_count": 11,
   "metadata": {},
   "outputs": [
    {
     "data": {
      "text/plain": [
       "dict_keys(['Australia', 'France', 'Italy', 'Brazil', 'USA', 'England', 'Canada', 'Argentina', 'Greece', 'Morocco', 'Tunisia', 'Egypt', 'Jamaica', 'Switzerland', 'Germany'])"
      ]
     },
     "execution_count": 11,
     "metadata": {},
     "output_type": "execute_result"
    }
   ],
   "source": [
    "success_estimates.keys()"
   ]
  },
  {
   "cell_type": "code",
   "execution_count": 13,
   "metadata": {},
   "outputs": [
    {
     "data": {
      "text/plain": [
       "['Australia',\n",
       " 'France',\n",
       " 'Italy',\n",
       " 'Brazil',\n",
       " 'USA',\n",
       " 'England',\n",
       " 'Canada',\n",
       " 'Argentina',\n",
       " 'Greece',\n",
       " 'Morocco',\n",
       " 'Tunisia',\n",
       " 'Egypt',\n",
       " 'Jamaica',\n",
       " 'Switzerland',\n",
       " 'Germany']"
      ]
     },
     "execution_count": 13,
     "metadata": {},
     "output_type": "execute_result"
    }
   ],
   "source": [
    "list(success_estimates.keys())"
   ]
  },
  {
   "cell_type": "code",
   "execution_count": 14,
   "metadata": {},
   "outputs": [
    {
     "data": {
      "text/plain": [
       "[[0.6, 0.33, 0.11, 0.14],\n",
       " [0.66, 0.78, 0.98, 0.2],\n",
       " [0.6],\n",
       " [0.22, 0.22, 0.43],\n",
       " [0.2, 0.5, 0.3],\n",
       " [0.45],\n",
       " [0.25, 0.3],\n",
       " [0.22],\n",
       " [0.45, 0.66, 0.75, 0.99, 0.15, 0.66],\n",
       " [0.29],\n",
       " [0.68, 0.56],\n",
       " [0.99],\n",
       " [0.61, 0.65, 0.71],\n",
       " [0.73, 0.86, 0.84, 0.51, 0.99],\n",
       " [0.45, 0.49, 0.36]]"
      ]
     },
     "execution_count": 14,
     "metadata": {},
     "output_type": "execute_result"
    }
   ],
   "source": [
    "list(success_estimates.values())"
   ]
  },
  {
   "cell_type": "code",
   "execution_count": 15,
   "metadata": {},
   "outputs": [
    {
     "data": {
      "text/plain": [
       "False"
      ]
     },
     "execution_count": 15,
     "metadata": {},
     "output_type": "execute_result"
    }
   ],
   "source": [
    "'moroco' in success_estimates"
   ]
  },
  {
   "cell_type": "code",
   "execution_count": 16,
   "metadata": {},
   "outputs": [
    {
     "data": {
      "text/plain": [
       "[0.25, 0.3]"
      ]
     },
     "execution_count": 16,
     "metadata": {},
     "output_type": "execute_result"
    }
   ],
   "source": [
    "success_estimates['Canada']"
   ]
  },
  {
   "cell_type": "code",
   "execution_count": 17,
   "metadata": {},
   "outputs": [
    {
     "name": "stdout",
     "output_type": "stream",
     "text": [
      "Number of estimates for France:\n",
      "4\n",
      "Number of estimates for Greece:\n",
      "6\n",
      "Number of estimates for Morocco:\n",
      "1\n"
     ]
    }
   ],
   "source": [
    "print('Number of estimates for France:')\n",
    "print(len(success_estimates['France']))\n",
    "\n",
    "print('Number of estimates for Greece:')\n",
    "print(len(success_estimates['Greece']))\n",
    "\n",
    "print('Number of estimates for Morocco:')\n",
    "print(len(success_estimates['Morocco']))"
   ]
  },
  {
   "cell_type": "code",
   "execution_count": 27,
   "metadata": {},
   "outputs": [
    {
     "name": "stdout",
     "output_type": "stream",
     "text": [
      "exercise 3\n",
      "Country:  Australia  Average :  0.3\n",
      "Country:  France  Average :  0.66\n",
      "Country:  Italy  Average :  0.6\n",
      "Country:  Brazil  Average :  0.29\n",
      "Country:  USA  Average :  0.33\n",
      "Country:  England  Average :  0.45\n",
      "Country:  Canada  Average :  0.28\n",
      "Country:  Argentina  Average :  0.22\n",
      "Country:  Greece  Average :  0.61\n",
      "Country:  Morocco  Average :  0.29\n",
      "Country:  Tunisia  Average :  0.62\n",
      "Country:  Egypt  Average :  0.99\n",
      "Country:  Jamaica  Average :  0.66\n",
      "Country:  Switzerland  Average :  0.79\n",
      "Country:  Germany  Average :  0.43\n"
     ]
    }
   ],
   "source": [
    "print(\"exercise 3\")\n",
    "country_name_list = list(success_estimates.keys())\n",
    "# Loop through all countries and calculate their mean success estimate\n",
    "for country in country_name_list:\n",
    "    #print('--Begin one iteration of loop--')\n",
    "    #print('Element of country_name_list, placeholder i = ' + i)\n",
    "    #print('Access value from dict success_estimates[i]: ', success_estimates[i])\n",
    "    average = sum(success_estimates[country]) / len(success_estimates[country])\n",
    "    print('Country: ', country, ' Average : ', round(average,2))"
   ]
  },
  {
   "cell_type": "code",
   "execution_count": 28,
   "metadata": {},
   "outputs": [
    {
     "name": "stdout",
     "output_type": "stream",
     "text": [
      "exercise 4\n",
      "Country:  Australia  Average :  0.3  (MIN :  0.11  MAX :  0.6 )\n",
      "Country:  France  Average :  0.66  (MIN :  0.2  MAX :  0.98 )\n",
      "Country:  Italy  Average :  0.6  (MIN :  0.6  MAX :  0.6 )\n",
      "Country:  Brazil  Average :  0.29  (MIN :  0.22  MAX :  0.43 )\n",
      "Country:  USA  Average :  0.33  (MIN :  0.2  MAX :  0.5 )\n",
      "Country:  England  Average :  0.45  (MIN :  0.45  MAX :  0.45 )\n",
      "Country:  Canada  Average :  0.28  (MIN :  0.25  MAX :  0.3 )\n",
      "Country:  Argentina  Average :  0.22  (MIN :  0.22  MAX :  0.22 )\n",
      "Country:  Greece  Average :  0.61  (MIN :  0.15  MAX :  0.99 )\n",
      "Country:  Morocco  Average :  0.29  (MIN :  0.29  MAX :  0.29 )\n",
      "Country:  Tunisia  Average :  0.62  (MIN :  0.56  MAX :  0.68 )\n",
      "Country:  Egypt  Average :  0.99  (MIN :  0.99  MAX :  0.99 )\n",
      "Country:  Jamaica  Average :  0.66  (MIN :  0.61  MAX :  0.71 )\n",
      "Country:  Switzerland  Average :  0.79  (MIN :  0.51  MAX :  0.99 )\n",
      "Country:  Germany  Average :  0.43  (MIN :  0.36  MAX :  0.49 )\n"
     ]
    }
   ],
   "source": [
    "print(\"exercise 4\")\n",
    "country_name_list = list(success_estimates.keys())\n",
    "# Loop through all countries and calculate their mean success estimate\n",
    "for country in country_name_list:\n",
    "    average = sum(success_estimates[country]) / len(success_estimates[country])\n",
    "    minvalue = min(success_estimates[country])\n",
    "    maxvalue = max(success_estimates[country])\n",
    "    print('Country: ', country, ' Average : ', round(average,2), \" (MIN : \", minvalue, \" MAX : \", maxvalue, \")\")"
   ]
  },
  {
   "cell_type": "code",
   "execution_count": 31,
   "metadata": {},
   "outputs": [
    {
     "name": "stdout",
     "output_type": "stream",
     "text": [
      "exercise 5\n",
      "Country:  Australia  Average :  0.3  (MIN :  0.11  MAX :  0.6 , range 0.49 )\n",
      "Country:  France  Average :  0.66  (MIN :  0.2  MAX :  0.98 , range 0.78 )\n",
      "Country:  Italy  Average :  0.6  (MIN :  0.6  MAX :  0.6 , range 0.0 )\n",
      "Country:  Brazil  Average :  0.29  (MIN :  0.22  MAX :  0.43 , range 0.21 )\n",
      "Country:  USA  Average :  0.33  (MIN :  0.2  MAX :  0.5 , range 0.3 )\n",
      "Country:  England  Average :  0.45  (MIN :  0.45  MAX :  0.45 , range 0.0 )\n",
      "Country:  Canada  Average :  0.28  (MIN :  0.25  MAX :  0.3 , range 0.05 )\n",
      "Country:  Argentina  Average :  0.22  (MIN :  0.22  MAX :  0.22 , range 0.0 )\n",
      "Country:  Greece  Average :  0.61  (MIN :  0.15  MAX :  0.99 , range 0.84 )\n",
      "Country:  Morocco  Average :  0.29  (MIN :  0.29  MAX :  0.29 , range 0.0 )\n",
      "Country:  Tunisia  Average :  0.62  (MIN :  0.56  MAX :  0.68 , range 0.12 )\n",
      "Country:  Egypt  Average :  0.99  (MIN :  0.99  MAX :  0.99 , range 0.0 )\n",
      "Country:  Jamaica  Average :  0.66  (MIN :  0.61  MAX :  0.71 , range 0.1 )\n",
      "Country:  Switzerland  Average :  0.79  (MIN :  0.51  MAX :  0.99 , range 0.48 )\n",
      "Country:  Germany  Average :  0.43  (MIN :  0.36  MAX :  0.49 , range 0.13 )\n"
     ]
    }
   ],
   "source": [
    "print(\"exercise 5\")\n",
    "country_name_list = list(success_estimates.keys())\n",
    "# Loop through all countries and calculate their mean success estimate\n",
    "for country in country_name_list:\n",
    "    average = sum(success_estimates[country]) / len(success_estimates[country])\n",
    "    minvalue = min(success_estimates[country])\n",
    "    maxvalue = max(success_estimates[country])\n",
    "    rangevalue = round(maxvalue - minvalue,2)\n",
    "    print('Country: ', country, ' Average : ', round(average,2), \" (MIN : \", minvalue, \" MAX : \", maxvalue, \", range\",rangevalue, \")\")"
   ]
  },
  {
   "cell_type": "code",
   "execution_count": 34,
   "metadata": {},
   "outputs": [
    {
     "data": {
      "text/plain": [
       "[['Australia', 0.5],\n",
       " ['France', 2.04],\n",
       " ['Italy', 0.36],\n",
       " ['Brazil', 0.28],\n",
       " ['USA', 0.38],\n",
       " ['England', 0.2],\n",
       " ['Canada', 0.15],\n",
       " ['Argentina', 0.05],\n",
       " ['Greece', 2.64],\n",
       " ['Morocco', 0.08],\n",
       " ['Tunisia', 0.78],\n",
       " ['Egypt', 0.98],\n",
       " ['Jamaica', 1.3],\n",
       " ['Switzerland', 3.22],\n",
       " ['Germany', 0.57]]"
      ]
     },
     "execution_count": 34,
     "metadata": {},
     "output_type": "execute_result"
    }
   ],
   "source": [
    "# One possible solution\n",
    "sum_list = [[country, round(sum([j**2 for j in success_estimates[country]]),2)] for country in success_estimates]\n",
    "sum_list"
   ]
  },
  {
   "cell_type": "code",
   "execution_count": 37,
   "metadata": {},
   "outputs": [
    {
     "name": "stdout",
     "output_type": "stream",
     "text": [
      "Exercise 7\n"
     ]
    },
    {
     "data": {
      "text/plain": [
       "[['Australia', [0.3, 0.03, -0.19, -0.16]],\n",
       " ['France', [0.01, 0.12, 0.32, -0.46]],\n",
       " ['Italy', [0.0]],\n",
       " ['Brazil', [-0.07, -0.07, 0.14]],\n",
       " ['USA', [-0.13, 0.17, -0.03]],\n",
       " ['England', [0.0]],\n",
       " ['Canada', [-0.03, 0.02]],\n",
       " ['Argentina', [0.0]],\n",
       " ['Greece', [-0.16, 0.05, 0.14, 0.38, -0.46, 0.05]],\n",
       " ['Morocco', [0.0]],\n",
       " ['Tunisia', [0.06, -0.06]],\n",
       " ['Egypt', [0.0]],\n",
       " ['Jamaica', [-0.05, -0.01, 0.05]],\n",
       " ['Switzerland', [-0.06, 0.07, 0.05, -0.28, 0.2]],\n",
       " ['Germany', [0.02, 0.06, -0.07]]]"
      ]
     },
     "execution_count": 37,
     "metadata": {},
     "output_type": "execute_result"
    }
   ],
   "source": [
    "print(\"Exercise 7\")\n",
    "# One possible solution\n",
    "removed_mean_list = [[i, [round(j - sum(success_estimates[i])/len(success_estimates[i]),2) for j in success_estimates[i]]] for i in success_estimates]\n",
    "removed_mean_list"
   ]
  },
  {
   "cell_type": "code",
   "execution_count": 40,
   "metadata": {},
   "outputs": [
    {
     "name": "stdout",
     "output_type": "stream",
     "text": [
      "Extended exercise 7 : Calculating the stardard desviation\n"
     ]
    },
    {
     "data": {
      "text/plain": [
       "[['Australia', 0.03815],\n",
       " ['France', 0.082125],\n",
       " ['Italy', 0.0],\n",
       " ['Brazil', 0.009800000000000001],\n",
       " ['USA', 0.015566666666666668],\n",
       " ['England', 0.0],\n",
       " ['Canada', 0.00065],\n",
       " ['Argentina', 0.0],\n",
       " ['Greece', 0.0677],\n",
       " ['Morocco', 0.0],\n",
       " ['Tunisia', 0.0036],\n",
       " ['Egypt', 0.0],\n",
       " ['Jamaica', 0.0017000000000000001],\n",
       " ['Switzerland', 0.025880000000000004],\n",
       " ['Germany', 0.0029666666666666674]]"
      ]
     },
     "execution_count": 40,
     "metadata": {},
     "output_type": "execute_result"
    }
   ],
   "source": [
    "print(\"Extended exercise 7 : Calculating the stardard desviation\")\n",
    "removed_mean_list = [[i, sum([round(j - sum(success_estimates[i])/len(success_estimates[i]),2)**2 for j in success_estimates[i]])/len(success_estimates[i])   ] for i in success_estimates]\n",
    "removed_mean_list"
   ]
  },
  {
   "cell_type": "code",
   "execution_count": 41,
   "metadata": {},
   "outputs": [
    {
     "name": "stdout",
     "output_type": "stream",
     "text": [
      "Excercise 8\n",
      "Country: Australia, Avg Success Estimate: 0.30\n",
      "Country: France, Avg Success Estimate: 0.66\n",
      "Country: Italy, *Does not Meet Company Policy*\n",
      "Country: Brazil, Avg Success Estimate: 0.29\n",
      "Country: USA, Avg Success Estimate: 0.33\n",
      "Country: England, *Does not Meet Company Policy*\n",
      "Country: Canada, *Does not Meet Company Policy*\n",
      "Country: Argentina, *Does not Meet Company Policy*\n",
      "Country: Greece, Avg Success Estimate: 0.61\n",
      "Country: Morocco, *Does not Meet Company Policy*\n",
      "Country: Tunisia, *Does not Meet Company Policy*\n",
      "Country: Egypt, *Does not Meet Company Policy*\n",
      "Country: Jamaica, Avg Success Estimate: 0.66\n",
      "Country: Switzerland, Avg Success Estimate: 0.79\n",
      "Country: Germany, Avg Success Estimate: 0.43\n"
     ]
    }
   ],
   "source": [
    "print(\"Excercise 8\")\n",
    "country_name_list = list(success_estimates.keys())\n",
    "country_means = {}\n",
    "for i in country_name_list:\n",
    "    list_country_estimates = success_estimates[i] \n",
    "    if len(success_estimates[i]) > 2:\n",
    "        country_mean_value = sum(list_country_estimates) / len(list_country_estimates)\n",
    "        country_means[i] =  country_mean_value \n",
    "        print(\"Country: {0:s}, Avg Success Estimate: {1:.2f}\".format(i, country_mean_value))\n",
    "    else:\n",
    "        print(\"Country: {0:s}, *Does not Meet Company Policy*\".format(i))"
   ]
  },
  {
   "cell_type": "code",
   "execution_count": 42,
   "metadata": {
    "scrolled": true
   },
   "outputs": [
    {
     "name": "stdout",
     "output_type": "stream",
     "text": [
      "Exercise 9\n",
      "France Flagged because of range  0.78\n",
      "[0.66, 0.78, 0.98, 0.2]\n",
      "Greece Flagged because of range  0.84\n",
      "[0.45, 0.66, 0.75, 0.99, 0.15, 0.66]\n"
     ]
    }
   ],
   "source": [
    "print(\"Exercise 9\")\n",
    "for country in success_estimates:\n",
    "    largest_estimate = max(success_estimates[country])\n",
    "    smallest_estimate = min(success_estimates[country])\n",
    "    \n",
    "    rnge = largest_estimate - smallest_estimate\n",
    "    if rnge > 0.6:\n",
    "        print(country, \"Flagged because of range \", rnge)\n",
    "        print(success_estimates[country])"
   ]
  },
  {
   "cell_type": "code",
   "execution_count": 43,
   "metadata": {},
   "outputs": [
    {
     "name": "stdout",
     "output_type": "stream",
     "text": [
      "Country: Australia , Min: 0.11 , Average: 0.29500000000000004 , Max: 0.6 , NumEst: 4 , MeetsPolicy: True\n",
      "Country: France , Min: 0.2 , Average: 0.655 , Max: 0.98 , NumEst: 4 , MeetsPolicy: True\n",
      "Country: Italy , Min: 0.6 , Average: 0.6 , Max: 0.6 , NumEst: 1 , MeetsPolicy: False\n",
      "Country: Brazil , Min: 0.22 , Average: 0.29 , Max: 0.43 , NumEst: 3 , MeetsPolicy: True\n",
      "Country: USA , Min: 0.2 , Average: 0.3333333333333333 , Max: 0.5 , NumEst: 3 , MeetsPolicy: True\n",
      "Country: England , Min: 0.45 , Average: 0.45 , Max: 0.45 , NumEst: 1 , MeetsPolicy: False\n",
      "Country: Canada , Min: 0.25 , Average: 0.275 , Max: 0.3 , NumEst: 2 , MeetsPolicy: False\n",
      "Country: Argentina , Min: 0.22 , Average: 0.22 , Max: 0.22 , NumEst: 1 , MeetsPolicy: False\n",
      "Country: Greece , Min: 0.15 , Average: 0.61 , Max: 0.99 , NumEst: 6 , MeetsPolicy: True\n",
      "Country: Morocco , Min: 0.29 , Average: 0.29 , Max: 0.29 , NumEst: 1 , MeetsPolicy: False\n",
      "Country: Tunisia , Min: 0.56 , Average: 0.6200000000000001 , Max: 0.68 , NumEst: 2 , MeetsPolicy: False\n",
      "Country: Egypt , Min: 0.99 , Average: 0.99 , Max: 0.99 , NumEst: 1 , MeetsPolicy: False\n",
      "Country: Jamaica , Min: 0.61 , Average: 0.6566666666666666 , Max: 0.71 , NumEst: 3 , MeetsPolicy: True\n",
      "Country: Switzerland , Min: 0.51 , Average: 0.7859999999999999 , Max: 0.99 , NumEst: 5 , MeetsPolicy: True\n",
      "Country: Germany , Min: 0.36 , Average: 0.4333333333333333 , Max: 0.49 , NumEst: 3 , MeetsPolicy: True\n"
     ]
    }
   ],
   "source": [
    "country_name_list = list(success_estimates.keys())\n",
    "for i in country_name_list:\n",
    "    min_stat = min(success_estimates[i])\n",
    "    mean_stat = sum(success_estimates[i]) / len(success_estimates[i])\n",
    "    max_stat = max(success_estimates[i])\n",
    "    len_stat = len(success_estimates[i])\n",
    "    meets_policy = len_stat > 2\n",
    "    print('Country:',i,', Min:',min_stat,', Average:',mean_stat,', Max:',max_stat,', NumEst:',len_stat,', MeetsPolicy:',meets_policy)"
   ]
  },
  {
   "cell_type": "code",
   "execution_count": 57,
   "metadata": {},
   "outputs": [
    {
     "name": "stdout",
     "output_type": "stream",
     "text": [
      "Country: Australia , Min: 0.11 , Average: 0.29500000000000004 , Max: 0.6 , NumEst: 4 , MeetsPolicy: True\n",
      "Country: France , Min: 0.2 , Average: 0.655 , Max: 0.98 , NumEst: 4 , MeetsPolicy: True\n",
      "Country: Italy , Min: 0.6 , Average: 0.6 , Max: 0.6 , NumEst: 1 , MeetsPolicy: False\n",
      "Country: Brazil , Min: 0.22 , Average: 0.29 , Max: 0.43 , NumEst: 3 , MeetsPolicy: True\n",
      "Country: USA , Min: 0.2 , Average: 0.3333333333333333 , Max: 0.5 , NumEst: 3 , MeetsPolicy: True\n",
      "Country: England , Min: 0.45 , Average: 0.45 , Max: 0.45 , NumEst: 1 , MeetsPolicy: False\n",
      "Country: Canada , Min: 0.25 , Average: 0.275 , Max: 0.3 , NumEst: 2 , MeetsPolicy: False\n",
      "Country: Argentina , Min: 0.22 , Average: 0.22 , Max: 0.22 , NumEst: 1 , MeetsPolicy: False\n",
      "Country: Greece , Min: 0.15 , Average: 0.61 , Max: 0.99 , NumEst: 6 , MeetsPolicy: True\n",
      "Country: Morocco , Min: 0.29 , Average: 0.29 , Max: 0.29 , NumEst: 1 , MeetsPolicy: False\n",
      "Country: Tunisia , Min: 0.56 , Average: 0.6200000000000001 , Max: 0.68 , NumEst: 2 , MeetsPolicy: False\n",
      "Country: Egypt , Min: 0.99 , Average: 0.99 , Max: 0.99 , NumEst: 1 , MeetsPolicy: False\n",
      "Country: Jamaica , Min: 0.61 , Average: 0.6566666666666666 , Max: 0.71 , NumEst: 3 , MeetsPolicy: True\n",
      "Country: Switzerland , Min: 0.51 , Average: 0.7859999999999999 , Max: 0.99 , NumEst: 5 , MeetsPolicy: True\n",
      "Country: Germany , Min: 0.36 , Average: 0.4333333333333333 , Max: 0.49 , NumEst: 3 , MeetsPolicy: True\n"
     ]
    }
   ],
   "source": [
    "print(\"Exercise 11\")\n",
    "def my_statistic(estimates):\n",
    "    country_name_list = list(estimates.keys())\n",
    "    for i in country_name_list:\n",
    "        min_stat = min(estimates[i])\n",
    "        mean_stat = sum(estimates[i]) / len(estimates[i])\n",
    "        max_stat = max(estimates[i])\n",
    "        len_stat = len(estimates[i])\n",
    "        meets_policy = len_stat > 2\n",
    "        print('Country:',i,', Min:',min_stat,', Average:',mean_stat,', Max:',max_stat,', NumEst:',len_stat,', MeetsPolicy:',meets_policy)\n",
    "    return;\n",
    "    \n",
    "\n",
    "my_statistic(success_estimates)    \n",
    "    "
   ]
  },
  {
   "cell_type": "code",
   "execution_count": 60,
   "metadata": {},
   "outputs": [
    {
     "name": "stdout",
     "output_type": "stream",
     "text": [
      "Exercise 12\n",
      "The country with the highest mean was Switzerland with a mean of 0.7859999999999999\n"
     ]
    }
   ],
   "source": [
    "print(\"Exercise 12\")\n",
    "\n",
    "def highestmean(estimates):\n",
    "    country_name_list = list(estimates.keys())\n",
    "    best_mean = 0\n",
    "    best_country = None\n",
    "    for i in country_name_list:\n",
    "        min_stat = min(estimates[i])\n",
    "        mean_stat = sum(estimates[i]) / len(estimates[i])\n",
    "        max_stat = max(estimates[i])\n",
    "        len_stat = len(estimates[i])\n",
    "        meets_policy = len_stat > 2\n",
    "        if mean_stat > best_mean:\n",
    "            if meets_policy:\n",
    "                best_mean = mean_stat\n",
    "                best_country = i\n",
    "        \n",
    "    print(\"The country with the highest mean was\", best_country, \"with a mean of\", best_mean)\n",
    "    \n",
    "highestmean(success_estimates)"
   ]
  },
  {
   "cell_type": "code",
   "execution_count": 61,
   "metadata": {},
   "outputs": [
    {
     "name": "stdout",
     "output_type": "stream",
     "text": [
      "Exercise 13\n",
      "Jamaica is the conservative choice with a minimum estimate of 0.61\n"
     ]
    }
   ],
   "source": [
    "print(\"Exercise 13\")\n",
    "country_name_list = list(success_estimates.keys())\n",
    "\n",
    "highest_minimum = 0\n",
    "safest_country = None\n",
    "\n",
    "for i in country_name_list:\n",
    "    min_stat = min(success_estimates[i])\n",
    "    mean_stat = sum(success_estimates[i]) / len(success_estimates[i])\n",
    "    max_stat = max(success_estimates[i])\n",
    "    len_stat = len(success_estimates[i])\n",
    "    meets_policy = len_stat > 2\n",
    "    \n",
    "    if min_stat > highest_minimum and meets_policy:\n",
    "        highest_minimum = min_stat\n",
    "        safest_country = i\n",
    "        \n",
    "print(safest_country, \"is the conservative choice\", \"with a minimum estimate of\", highest_minimum)"
   ]
  },
  {
   "cell_type": "code",
   "execution_count": null,
   "metadata": {},
   "outputs": [],
   "source": []
  }
 ],
 "metadata": {
  "kernelspec": {
   "display_name": "Python 3",
   "language": "python",
   "name": "python3"
  },
  "language_info": {
   "codemirror_mode": {
    "name": "ipython",
    "version": 3
   },
   "file_extension": ".py",
   "mimetype": "text/x-python",
   "name": "python",
   "nbconvert_exporter": "python",
   "pygments_lexer": "ipython3",
   "version": "3.8.3"
  }
 },
 "nbformat": 4,
 "nbformat_minor": 4
}
